{
 "cells": [
  {
   "cell_type": "markdown",
   "metadata": {},
   "source": [
    "# 什么是数据流图？\n",
    "    数据流图是一种将表示系统中数据流动的图结构。它由节点与边构成，节点表示运算单元，边表示数据的输入输出关系。\n",
    "\n",
    "\n",
    "# 数据流图有什么优势？\n",
    "    (1)并行处理。 通过使用明确的边缘来表示操作之间的依赖关系，系统可以轻松识别能够并行执行的操作。\n",
    "\n",
    "    (2)分布式执行。 通过使用明确的边缘来表示操作之间流动的值，TensorFlow 可以将您的程序划分到连接至不同机器的多台设备上\n",
    "      （CPU、GPU 和 TPU）。TensorFlow 将在这些设备之间进行必要的通信和协调。\n",
    "\n",
    "    (3)编译。 TensorFlow 的 XLA 编译器可以使用数据流图中的信息生成更快的代码，例如将相邻的操作融合到一起。\n",
    "\n",
    "    (4)可移植性。 数据流图是一种不依赖于语言的模型代码表示法。您可以使用 Python 构建数据流图，将其存储在 SavedModel 中，\n",
    "       并使用 C++ 程序进行恢复，从而实现低延迟的推理。\n",
    "\n",
    "    "
   ]
  },
  {
   "cell_type": "markdown",
   "metadata": {},
   "source": [
    "# tensorflow 1.0的计算过程\n",
    "    （1）赋值初始数据\n",
    "    （2）创建运算节点（初始数据包含在节点中），运算节点之间的联系要正确反映运算关系，完成计算流图的构建。\n",
    "    （3）创建会话，运行计算流图\n",
    "    （4）关闭回话，回收计算资源\n",
    "    可见在1.0中，需要先自行构建运算图，然后再创建会话执行。因为不能立即执行代码所以称为静态图。\n",
    "    在2.0中，可以像Python一样直接执行，也就是 Eager Execution(立刻执行),所以被称为动态图。"
   ]
  },
  {
   "cell_type": "markdown",
   "metadata": {},
   "source": [
    "# tf.function & tf.autograph\n",
    "    tf.function是tensorflow提供的将Python代码转换为tensorflow的图的方法。\n",
    "    而tf.autograph是如何进行这种转化的机制。\n",
    "\n",
    "\n",
    "## tf.function()\n",
    "    func:将一个函数编译成数据流图的格式。\n",
    "    para：一个Python函数。\n",
    "    \n",
    "    在函数被用@tf.function装饰以后，会多出一些属性。\n",
    "        python_function -> 返回原本的python代码\n",
    "        get_concrete_function -> 可以返回一些属性，但是还不知道用在哪\n",
    "        \n",
    "     注意：不能再被转化的python函数内部定义变量，只能在外部定义变量，否则会报错\n",
    "    \n",
    "## tf.autograph模块（知道就行）\n",
    "    将普通Python代码转为tensorflow图代码\n",
    "    \n",
    "    tf.autograph.to_code:以字符串的形式返回Autograph源代码    \n",
    "    \n",
    "    \n",
    "    \n",
    "# other_functions    \n",
    "    \n",
    "## tf.math.greater_equal(x,y)\n",
    "    func:逐元素地返回x>=y的布尔值。\n",
    "    para:x,y为同类型地张量。\n",
    "    \n",
    "    例子：\n",
    "    x = tf.constant([5, 4, 6, 7])\n",
    "    y = tf.constant([5, 2, 5, 10])\n",
    "    tf.math.greater_equal(x, y) ==> [True, True, True, False]\n",
    "\n",
    "    x = tf.constant([5, 4, 6, 7])\n",
    "    y = tf.constant([5])\n",
    "    tf.math.greater_equal(x, y) ==> [True, False, True, True]\n",
    "    \n",
    "## tf.where(condition, x = none, y = none)\n",
    "    func:根据condition返回x,y中的元素\n",
    "    para：\n",
    "        condition：一个bool类型的张量(Tensor).\n",
    "        x，y：具有相同数据类型的张量，shape不一定相同。\n",
    "        （1）当x，y都为none时，以二维array的形式返回condition中的True的位置，其中第一维中的元素个数表示True的个数，\n",
    "            第二维数据表示元素所在位置。\n",
    "        （2）当x与condition有相同形状时，根据condition中的值返回x or y中的元素（True返回x中的值，False返回y中的值）；\n",
    "            当x与condition的shape不同（但condition的维度必须与x前部维度相同），根据condition返回x or y的部分维度。\n",
    "\n",
    "## tf.nn.elu(feature)\n",
    "    当feature小于0，返回exp(feature)-1;当feature >= 0，返回feature。\n",
    "\n",
    "\n"
   ]
  },
  {
   "cell_type": "code",
   "execution_count": 3,
   "metadata": {},
   "outputs": [],
   "source": [
    "#导入包\n",
    "from sklearn.datasets import fetch_california_housing\n",
    "from sklearn.model_selection import train_test_split\n",
    "from sklearn.preprocessing import StandardScaler\n",
    "import numpy as np\n",
    "import pandas as pd\n",
    "from matplotlib import pyplot as plt\n",
    "import tensorflow as tf\n",
    "from tensorflow import keras"
   ]
  },
  {
   "cell_type": "code",
   "execution_count": 4,
   "metadata": {},
   "outputs": [],
   "source": [
    "# 处理数据\n",
    "housing = fetch_california_housing()\n",
    "\n",
    "x_train_all, x_test_raw, y_train_all, y_test = train_test_split(\n",
    "    housing.data, housing.target, random_state = 7)\n",
    "x_train_raw, x_valid_raw, y_train, y_valid = train_test_split(\n",
    "    x_train_all, y_train_all, random_state = 11)\n",
    "\n",
    "#对数据进行标准化处理\n",
    "sca = StandardScaler()\n",
    "x_train = sca.fit_transform(x_train_raw)\n",
    "x_valid = sca.transform(x_valid_raw)\n",
    "x_test = sca.transform(x_test_raw)\n"
   ]
  },
  {
   "cell_type": "markdown",
   "metadata": {},
   "source": [
    "# tf.fuction\n",
    "    方法1：通过tf.function()函数将python函数转化为tf中的图结构\n",
    "    方法2：通过标注的方法\n",
    "    "
   ]
  },
  {
   "cell_type": "code",
   "execution_count": 7,
   "metadata": {},
   "outputs": [
    {
     "name": "stdout",
     "output_type": "stream",
     "text": [
      "原始python代码的计算结果： tf.Tensor(-0.95021296, shape=(), dtype=float32)\n",
      "原始python代码的计算结果： tf.Tensor([-0.95021296 -0.917915  ], shape=(2,), dtype=float32)\n",
      "转化为graph的计算结果： tf.Tensor(-0.95021296, shape=(), dtype=float32)\n",
      "转化为graph的计算结果： tf.Tensor([-0.95021296 -0.917915  ], shape=(2,), dtype=float32)\n",
      "True\n",
      "24.1 ms ± 3.07 ms per loop (mean ± std. dev. of 7 runs, 10 loops each)\n",
      "21.7 ms ± 818 µs per loop (mean ± std. dev. of 7 runs, 10 loops each)\n"
     ]
    }
   ],
   "source": [
    "# 方法1：\n",
    "def scaled_elu(z, scale=1.0, alpha=1.0):\n",
    "    # z >= 0 ? scale * z : scale * alpha * tf.nn.elu(z)\n",
    "    is_positive = tf.greater_equal(z, 0.0)\n",
    "    return scale * tf.where(is_positive, z, alpha * tf.nn.elu(z))\n",
    "\n",
    "print('原始python代码的计算结果：',scaled_elu(tf.constant(-3.)))\n",
    "print('原始python代码的计算结果：',scaled_elu(tf.constant([-3., -2.5])))\n",
    "\n",
    "scaled_elu_tf = tf.function(scaled_elu)\n",
    "print('转化为graph的计算结果：',scaled_elu_tf(tf.constant(-3.)))\n",
    "print('转化为graph的计算结果：',scaled_elu_tf(tf.constant([-3., -2.5])))\n",
    "\n",
    "print(scaled_elu_tf.python_function is scaled_elu) #转化之后的图会有一个python_function属性，其代表了原来的python代码\n",
    "\n",
    "# 比较两者之间的计算速度\n",
    "%timeit scaled_elu(tf.random.normal((1000, 1000)))\n",
    "%timeit scaled_elu_tf(tf.random.normal((1000, 1000)))"
   ]
  },
  {
   "cell_type": "code",
   "execution_count": null,
   "metadata": {},
   "outputs": [],
   "source": [
    "# 方法2：通过标住\n",
    "# 1 + 1/2 + 1/2^2 + ... + 1/2^n\n",
    "\n",
    "@tf.function\n",
    "def converge_to_2(n_iters):\n",
    "    total = tf.constant(0.)\n",
    "    increment = tf.constant(1.)\n",
    "    for _ in range(n_iters):\n",
    "        total += increment\n",
    "        increment /= 2.0\n",
    "    return total\n",
    "\n",
    "print(converge_to_2(20))"
   ]
  },
  {
   "cell_type": "code",
   "execution_count": null,
   "metadata": {},
   "outputs": [],
   "source": [
    "# tf.function(input_signiture = ~~~)\n",
    "# 通过使用input_signature参数，限定函数输入类型防止函数调用错误\n",
    "# 而且只有使用了input_signature参数，才能使用tf中的savemodel\n",
    "@tf.function(input_signature=[tf.TensorSpec([None], tf.int32, name='x')])\n",
    "def cube(z):\n",
    "    return tf.pow(z, 3)\n",
    "\n",
    "try:\n",
    "    print(cube(tf.constant([1., 2., 3.])))\n",
    "except ValueError as ex:\n",
    "    print(ex)\n",
    "    \n",
    "print(cube(tf.constant([1, 2, 3])))\n",
    "    "
   ]
  },
  {
   "cell_type": "code",
   "execution_count": null,
   "metadata": {},
   "outputs": [],
   "source": []
  },
  {
   "cell_type": "code",
   "execution_count": null,
   "metadata": {},
   "outputs": [],
   "source": [
    "#构建模型\n",
    "model = keras.models.Sequential()\n",
    "\n",
    "model.add(keras.layers.Dense(8,activation='relu', input_shape = x_train.shape[1:]))\n",
    "model.add(keras.layers.Dense(1))\n",
    "\n",
    "model.compile(loss = 'mean_squared_error', optimizer = 'adam')  \n",
    "\n",
    "history = model.fit(x_train, y_train,\n",
    "          validation_data = (x_valid, y_valid),\n",
    "          callbacks = [keras.callbacks.EarlyStopping(patience = 5, min_delta = 1e-3)],\n",
    "          epochs = 20)\n"
   ]
  },
  {
   "cell_type": "code",
   "execution_count": null,
   "metadata": {},
   "outputs": [],
   "source": [
    "def plot_learning_curves(history):\n",
    "    pd.DataFrame(history.history).plot(figsize=(8, 5))\n",
    "    plt.grid(True)\n",
    "    plt.gca().set_ylim(0, 2)\n",
    "    plt.show()\n",
    "plot_learning_curves(history)\n"
   ]
  },
  {
   "cell_type": "code",
   "execution_count": null,
   "metadata": {},
   "outputs": [],
   "source": [
    "model.evaluate(x_train, y_train, verbose = False)"
   ]
  },
  {
   "cell_type": "code",
   "execution_count": null,
   "metadata": {},
   "outputs": [],
   "source": []
  },
  {
   "cell_type": "code",
   "execution_count": null,
   "metadata": {},
   "outputs": [],
   "source": [
    "im"
   ]
  },
  {
   "cell_type": "code",
   "execution_count": null,
   "metadata": {},
   "outputs": [],
   "source": []
  },
  {
   "cell_type": "code",
   "execution_count": null,
   "metadata": {},
   "outputs": [],
   "source": []
  },
  {
   "cell_type": "code",
   "execution_count": null,
   "metadata": {},
   "outputs": [],
   "source": []
  }
 ],
 "metadata": {
  "kernelspec": {
   "display_name": "tensorflow",
   "language": "python",
   "name": "tensorflow"
  },
  "language_info": {
   "codemirror_mode": {
    "name": "ipython",
    "version": 3
   },
   "file_extension": ".py",
   "mimetype": "text/x-python",
   "name": "python",
   "nbconvert_exporter": "python",
   "pygments_lexer": "ipython3",
   "version": "3.7.7"
  },
  "toc": {
   "base_numbering": 1,
   "nav_menu": {},
   "number_sections": false,
   "sideBar": true,
   "skip_h1_title": false,
   "title_cell": "Table of Contents",
   "title_sidebar": "Contents",
   "toc_cell": false,
   "toc_position": {
    "height": "calc(100% - 180px)",
    "left": "10px",
    "top": "150px",
    "width": "349.091px"
   },
   "toc_section_display": true,
   "toc_window_display": true
  },
  "varInspector": {
   "cols": {
    "lenName": 16,
    "lenType": 16,
    "lenVar": 40
   },
   "kernels_config": {
    "python": {
     "delete_cmd_postfix": "",
     "delete_cmd_prefix": "del ",
     "library": "var_list.py",
     "varRefreshCmd": "print(var_dic_list())"
    },
    "r": {
     "delete_cmd_postfix": ") ",
     "delete_cmd_prefix": "rm(",
     "library": "var_list.r",
     "varRefreshCmd": "cat(var_dic_list()) "
    }
   },
   "types_to_exclude": [
    "module",
    "function",
    "builtin_function_or_method",
    "instance",
    "_Feature"
   ],
   "window_display": false
  }
 },
 "nbformat": 4,
 "nbformat_minor": 4
}
