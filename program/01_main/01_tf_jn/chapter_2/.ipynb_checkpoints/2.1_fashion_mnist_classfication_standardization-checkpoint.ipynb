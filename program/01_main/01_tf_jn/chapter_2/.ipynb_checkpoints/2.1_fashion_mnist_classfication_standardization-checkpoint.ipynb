{
 "cells": [
  {
   "cell_type": "code",
   "execution_count": null,
   "metadata": {},
   "outputs": [],
   "source": [
    "#导入包\n",
    "\n",
    "import matplotlib as mpl\n",
    "import matplotlib.pyplot as plt\n",
    "%matplotlib inline\n",
    "import numpy as np\n",
    "import sklearn\n",
    "import pandas as pd\n",
    "import os\n",
    "import sys\n",
    "import time\n",
    "import tensorflow as tf\n",
    "\n",
    "from tensorflow import keras\n",
    "\n",
    "print(tf.__version__)\n",
    "print(sys.version_info)\n",
    "for module in mpl, np, pd, sklearn, tf, keras:\n",
    "    print(module.__name__, module.__version__)\n"
   ]
  },
  {
   "cell_type": "code",
   "execution_count": null,
   "metadata": {},
   "outputs": [],
   "source": [
    "# 加载数据集，输出数据集形状，并将训练集分出一部分为验证集\n",
    "fashion_mnist = keras.datasets.fashion_mnist\n",
    "(x_train_all,y_train_all),(x_test,y_test) = fashion_mnist.load_data()\n",
    "x_train,y_train = x_train_all[:55000],y_train_all[:55000]\n",
    "x_valid,y_valid = x_train_all[55000:],y_train_all[55000:]\n",
    "\n",
    "type(fashion_mnist)\n",
    "for i in x_train_all,y_train_all,x_test,y_test:\n",
    "    print(i.shape)"
   ]
  },
  {
   "cell_type": "code",
   "execution_count": null,
   "metadata": {},
   "outputs": [],
   "source": [
    "#对数据进行标准化\n",
    "from sklearn.preprocessing import StandardScaler\n",
    "\n",
    "fashion_mnist = keras.datasets.fashion_mnist\n",
    "(x_tarin_all,y_train_all),(x_test,y_test) = fashion_mnist.load_data()\n",
    "x_train,y_train = x_tarin_all[:55000],y_train_all[:55000]\n",
    "x_valid,y_valid = x_tarin_all[55000:],y_train_all[55000:]\n",
    "\n",
    "scaler = StandardScaler()\n",
    "\n",
    "x_train_scaled = scaler.fit_transform(\n",
    "                                        x_train.astype(np.float32).reshape(-1,1)\n",
    "                                      ).reshape(-1,28,28) \n",
    "x_valid_scaled = scaler.transform(\n",
    "                                    x_valid.astype(np.float32).reshape(-1,1)\n",
    "                                  ).reshape(-1,28,28)\n",
    "x_test_scaled = scaler.transform(\n",
    "                                    x_test.astype(np.float32).reshape(-1,1)\n",
    "                                ).reshape(-1,28,28)\n",
    "                \n",
    "\n",
    "# reshape中某个维度设为-1，意为先计算别的维度，最后由别的维度确定这个维度的数值。-1可以出现在任何一个维度上。\n",
    "\n",
    "\n",
    "\n",
    "# standardscaler这个类只能接受二维数组，所以要将图片先转为二维数据\n",
    "\n",
    "# StandardScaler.fit_transform():(1)使训练集均值为0，方差为1；并且记住调用该函数的几个的均值与方差，供后面的standardscaler.transform（）使用。\n",
    "# StandardScaler.transform():使用fit_transform纪律的均值与方差，对当前数据集进行转换。\n",
    "\n",
    "# 训练集调用fit_transform(),验证集与测试集调用transform()而不能调用fit_transform()，因为只有用训练集的均值与方差，擦能真实地反映训练结果。\n"
   ]
  },
  {
   "cell_type": "code",
   "execution_count": null,
   "metadata": {},
   "outputs": [],
   "source": [
    "#构建模型\n",
    "\n",
    "model = keras.models.Sequential()\n",
    "model.add(keras.layers.Flatten(input_shape = (28,28)))    #原始数据是图片，首先要展平成一位向量\n",
    "model.add(keras.layers.Dense(units = 700,activation = 'relu'))\n",
    "model.add(keras.layers.Dense(units = 300, activation = 'relu'))\n",
    "model.add(keras.layers.Dense(units = 10, activation = 'softmax'))\n",
    "\n",
    "model.compile(loss = 'sparse_categorical_crossentropy',     #如果标签是一个向量，那么就不要sparse，否则就加sparse\n",
    "              optimizer = 'adam',\n",
    "              metrics = ['accuracy'] )\n",
    "\n",
    "history = model.fit(x_train_scaled,y_train,validation_data=(x_valid_scaled,y_valid),batch_size=200, epochs = 10)\n",
    "\n"
   ]
  },
  {
   "cell_type": "code",
   "execution_count": null,
   "metadata": {},
   "outputs": [],
   "source": [
    "model.evaluate(x_test_scaled,y_test)"
   ]
  },
  {
   "cell_type": "code",
   "execution_count": null,
   "metadata": {},
   "outputs": [],
   "source": [
    "print(history)\n",
    "history.history"
   ]
  },
  {
   "cell_type": "code",
   "execution_count": null,
   "metadata": {},
   "outputs": [],
   "source": [
    "#输出训练曲线图\n",
    "def plot_show(history):\n",
    "    data = pd.DataFrame(history.history)\n",
    "    data.plot(figsize = (8,5))\n",
    "    plt.grid(True)\n",
    "    plt.gca().set_ylim(0,1)\n",
    "    plt.show()\n",
    "plot_show(history)\n",
    "    "
   ]
  }
 ],
 "metadata": {
  "kernelspec": {
   "display_name": "tensorflow",
   "language": "python",
   "name": "tensorflow"
  },
  "language_info": {
   "codemirror_mode": {
    "name": "ipython",
    "version": 3
   },
   "file_extension": ".py",
   "mimetype": "text/x-python",
   "name": "python",
   "nbconvert_exporter": "python",
   "pygments_lexer": "ipython3",
   "version": "3.7.7"
  },
  "toc": {
   "base_numbering": 1,
   "nav_menu": {},
   "number_sections": false,
   "sideBar": true,
   "skip_h1_title": false,
   "title_cell": "Table of Contents",
   "title_sidebar": "Contents",
   "toc_cell": false,
   "toc_position": {},
   "toc_section_display": true,
   "toc_window_display": true
  }
 },
 "nbformat": 4,
 "nbformat_minor": 2
}
