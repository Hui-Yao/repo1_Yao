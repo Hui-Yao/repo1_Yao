{
 "cells": [
  {
   "cell_type": "markdown",
   "metadata": {},
   "source": [
    "# sklearn "
   ]
  },
  {
   "cell_type": "markdown",
   "metadata": {},
   "source": [
    "# sklearn.model_selection.train_test_split\n",
    "    参数：arrays：用来分割的原始数据\n",
    "        test_size:希望的测试机大小。当值为0，1之间的小数时，该值表示测试集所占的比例。当值为整数时，表示测试\n",
    "        集的具体数量。不指定时，由训练集的数量而定。弱国训练集也不指定，则默认为0.25.\n",
    "        train_size:与上相同，但是默认为0.75.\n",
    "        random_state:类似于numpy.random.seed(),即给定相同的值，以后每次分出来的结果是一样的。\n",
    "        shuffle=True：时候在分割前先随机打乱数据集的顺序。"
   ]
  },
  {
   "cell_type": "code",
   "execution_count": null,
   "metadata": {},
   "outputs": [],
   "source": []
  },
  {
   "cell_type": "code",
   "execution_count": null,
   "metadata": {},
   "outputs": [],
   "source": []
  },
  {
   "cell_type": "code",
   "execution_count": null,
   "metadata": {},
   "outputs": [],
   "source": []
  }
 ],
 "metadata": {
  "kernelspec": {
   "display_name": "main",
   "language": "python",
   "name": "main"
  },
  "language_info": {
   "codemirror_mode": {
    "name": "ipython",
    "version": 3
   },
   "file_extension": ".py",
   "mimetype": "text/x-python",
   "name": "python",
   "nbconvert_exporter": "python",
   "pygments_lexer": "ipython3",
   "version": "3.7.6"
  }
 },
 "nbformat": 4,
 "nbformat_minor": 2
}
