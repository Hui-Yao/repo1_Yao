{
 "cells": [
  {
   "cell_type": "markdown",
   "metadata": {},
   "source": [
    "# 什么是Keras？\n",
    "\n",
    "    Keras是基于theano和tensorflow上的一个深度学习框架。\n",
    "    它比前两者要简单，但是执行效率相对前两者低。"
   ]
  },
  {
   "cell_type": "markdown",
   "metadata": {},
   "source": [
    "## 2 Keras中常用的包\n",
    "    from keras.models import Sequential:\n",
    "    如果神经网络是一层层叠起来的，那么这种神经网络就是Sequential类型的。\n",
    "    \n",
    "    from keras.layers import Dense, Dropout, Activation, Flatten\n",
    "    keras.layers描述的是圣经网络每一层上神经元的情况\n",
    "    \n",
    "    from keras.layers.convolutional import Conv2D\n",
    "    \n",
    "    from keras.layers.pooling import MaxPooling2D\n",
    "    \n",
    "    from keras.layers import Embedding, LSTM\n",
    "    \n",
    "    from keras.utils import np_utils\n",
    "    \n",
    "    from keras.datasets import mnist\n"
   ]
  },
  {
   "cell_type": "markdown",
   "metadata": {},
   "source": [
    "model.add():添加一层神经层\n",
    "\n",
    "    用add再添加一层时，不应指定输入，因为keras默认把上一层的输出当成这一层的输入。\n",
    "\n",
    "Dense():用于指定创建的全连接层神经网络每一层的数据。\n",
    "\n",
    "    units：大于0的整数，代表该层的输出维度。\n",
    "    input_dim:可以指定输入数据的维度\n",
    "    activation：激活函数.如果不指定，则输出等于输入\n",
    "    use_bias: 布尔值，是否使用偏置项\n",
    "    \n",
    "compile():编译模型\n",
    "\n",
    "    optimizer：参考优化器 ，字符串类型。如adagrad，adam。sgd\n",
    "    loss：损失函数。'mse'：mean square error(均方差)  'categorical_crossentopy':交叉熵（适用于分类任务）\n",
    "    metrics：列表，包含评估模型在训练和测试时的网络性能的指标，典型用法是metrics=['accuracy']\n",
    "\n",
    "model.fit():对模型进行训练。函数会返回训练的loss值。\n",
    "    \n",
    "    x：输入数据。如果模型只有一个输入，那么x的类型是numpy array，如果模型有多个输入，那么x的类型应当为list，list的元素是对应于各个输\n",
    "    入的numpy array\n",
    "    y：标签，numpy array\n",
    "    batch_size：整数，指定进行梯度下降时每个batch包含的样本数。训练时一个batch的样本会被计算一次梯度下降，使目标函数优化一步。\n",
    "    epochs：整数，训练的轮数，每个epoch会把训练集轮一遍。\n",
    "\n",
    "model.train_on_batch(x_train,y_train):对模型进行训练。\n",
    "    参数同fit。\n",
    "    \n",
    "model.evaluate():对测试集进行运算。函数也会返回计算的loss值。\n",
    "    \n",
    "    除了没有epoch之外，其余参数相同。\n",
    "<font color=red>测试一下evaluate有几个返回值。\n",
    "\n",
    "model.predict():在模型训练完后，根据得到的参数，对于输入的数据计算出一个输出值。\n",
    "    \n",
    "    源模型输入什么类型的数据，这里就输入同类型的数据。\n",
    "    \n",
    "Convoluntional2D()\n",
    "    \n",
    "    filters：卷积核的数目（即输出的维度）\n",
    "    kernel_size：单个整数或由两个整数构成的list/tuple，卷积核的宽度和长度。如为单个整数，则表示在各个空间维度的相同长度。\n",
    "    strides：单个整数或由两个整数构成的list/tuple，为卷积的步长。如为单个整数，则表示在各个空间维度的相同步长。任何不为1的strides均与\n",
    "    任何不为1的dilation_rata均不兼容\n",
    "\n",
    "Maxpooling2D((2,2)):以2x2为一个组合取最大值\n",
    "\n",
    "input.shape(28,28,1):输入的图片是28x28单通道的，如果是彩色图片就是三通道的\n",
    "\n",
    "w,b = model.layers[0].get_weights()    取的某一层layer的参数。\n",
    "\n"
   ]
  },
  {
   "cell_type": "code",
   "execution_count": null,
   "metadata": {},
   "outputs": [],
   "source": [
    "from keras.models import Sequential\n",
    "from keras.layers import Dense\n",
    "\n",
    "Dense()"
   ]
  },
  {
   "cell_type": "code",
   "execution_count": null,
   "metadata": {},
   "outputs": [],
   "source": []
  },
  {
   "cell_type": "code",
   "execution_count": null,
   "metadata": {},
   "outputs": [],
   "source": []
  },
  {
   "cell_type": "code",
   "execution_count": null,
   "metadata": {},
   "outputs": [],
   "source": []
  }
 ],
 "metadata": {
  "kernelspec": {
   "display_name": "Python 3",
   "language": "python",
   "name": "python3"
  },
  "language_info": {
   "codemirror_mode": {
    "name": "ipython",
    "version": 3
   },
   "file_extension": ".py",
   "mimetype": "text/x-python",
   "name": "python",
   "nbconvert_exporter": "python",
   "pygments_lexer": "ipython3",
   "version": "3.7.4"
  },
  "toc": {
   "base_numbering": 1,
   "nav_menu": {},
   "number_sections": true,
   "sideBar": true,
   "skip_h1_title": false,
   "title_cell": "Table of Contents",
   "title_sidebar": "Contents",
   "toc_cell": false,
   "toc_position": {},
   "toc_section_display": true,
   "toc_window_display": false
  }
 },
 "nbformat": 4,
 "nbformat_minor": 2
}
