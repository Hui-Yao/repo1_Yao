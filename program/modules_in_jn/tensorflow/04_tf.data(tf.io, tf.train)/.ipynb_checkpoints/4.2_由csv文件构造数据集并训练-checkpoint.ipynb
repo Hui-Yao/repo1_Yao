{
 "cells": [
  {
   "cell_type": "code",
   "execution_count": null,
   "metadata": {},
   "outputs": [],
   "source": [
    "import matplotlib as mpl\n",
    "import matplotlib.pyplot as plt\n",
    "%matplotlib inline\n",
    "import numpy as np\n",
    "import sklearn\n",
    "import pandas as pd\n",
    "import os\n",
    "import sys\n",
    "import time\n",
    "import tensorflow as tf\n",
    "\n",
    "from tensorflow import keras\n"
   ]
  },
  {
   "cell_type": "code",
   "execution_count": null,
   "metadata": {},
   "outputs": [],
   "source": [
    "from sklearn.datasets import fetch_california_housing\n",
    "\n",
    "housing = fetch_california_housing()"
   ]
  },
  {
   "cell_type": "code",
   "execution_count": null,
   "metadata": {},
   "outputs": [],
   "source": [
    "from sklearn.model_selection import train_test_split\n",
    "\n",
    "x_train_all, x_test, y_train_all, y_test = train_test_split(\n",
    "    housing.data, housing.target, random_state = 7)\n",
    "x_train, x_valid, y_train, y_valid = train_test_split(\n",
    "    x_train_all, y_train_all, random_state = 11)\n",
    "print(x_train.shape, y_train.shape)\n",
    "print(x_valid.shape, y_valid.shape)\n",
    "print(x_test.shape, y_test.shape)\n",
    "print(type(x_train),type(y_train))"
   ]
  },
  {
   "cell_type": "code",
   "execution_count": null,
   "metadata": {},
   "outputs": [],
   "source": [
    "from sklearn.preprocessing import StandardScaler\n",
    "\n",
    "scaler = StandardScaler()\n",
    "x_train_scaled = scaler.fit_transform(x_train)\n",
    "x_valid_scaled = scaler.transform(x_valid)\n",
    "x_test_scaled = scaler.transform(x_test)"
   ]
  },
  {
   "cell_type": "markdown",
   "metadata": {},
   "source": [
    "# 生成csv文件"
   ]
  },
  {
   "cell_type": "code",
   "execution_count": null,
   "metadata": {},
   "outputs": [],
   "source": [
    "output_dir = \"generate_csv\"\n",
    "if not os.path.exists(output_dir):\n",
    "    os.mkdir(output_dir)\n",
    "\n",
    "def save_to_csv(output_dir, data, name_prefix,\n",
    "                header=None, n_parts=10):\n",
    "    '''\n",
    "    output_dir:生成数据集的存放位置\n",
    "    data：源数据\n",
    "    name_prefix：数据前缀，用来区分训练集，验证集，测试集\n",
    "    n_parts：将数据分为多少份\n",
    "    '''\n",
    "    path_format = os.path.join(output_dir, \"{}_{:02d}.csv\")\n",
    "    # od.path.join()：在output_dir下生成新的文件名  output_dir/~.csv\n",
    "    # {}_{:02d}.csv：第一个{}用name_prefix来填充，指定是train，validata或test;\n",
    "    #               第二个{}用file_idx来填充，制定时那种数据的第几个文件\n",
    "    filenames = []\n",
    "    \n",
    "    for file_idx, row_indices in enumerate(\n",
    "        np.array_split(np.arange(len(data)), n_parts)):\n",
    "        '''从内向外看：\n",
    "        np.arrange(len(data)):生成一个和元素数量相同的数据，用来在data中取数据。这里的一个元素指的是feature和label构成的元组\n",
    "        np.array_split(np.arange(len(data)), n_parts)):将数据分为制定组数\n",
    "        enumerate（～）：获得分成制定组后的数据的索引及索引对应的元素\n",
    "        \n",
    "        '''\n",
    "        part_csv = path_format.format(name_prefix, file_idx) #生成output_dir/~.csv\n",
    "        filenames.append(part_csv) #统计所有创建的文件名\n",
    "        with open(part_csv, \"wt\", encoding=\"utf-8\") as f:  #\n",
    "            if header is not None:\n",
    "                f.write(header + \"\\n\")  #写入第一行，也就是列名\n",
    "            for row_index in row_indices:\n",
    "                f.write(\",\".join(\n",
    "                    [repr(col) for col in data[row_index]]))\n",
    "                    # repr(object):将对象转化为工解释器读取的形式（也就是在数据的最外围加上一个冒号，\"object\"）\n",
    "                    # 存数据都是要以字符串的形式的，json\n",
    "                f.write('\\n')\n",
    "    return filenames \n",
    "    \n",
    "    \n",
    "    \n",
    "    \n",
    "# np.c_[]:将两个按行融合   \n",
    "train_data = np.c_[x_train_scaled, y_train] #train_data：<class 'numpy.ndarray'>\n",
    "valid_data = np.c_[x_valid_scaled, y_valid]\n",
    "test_data = np.c_[x_test_scaled, y_test]\n",
    "# print(type(train_data))\n",
    "# 由housing.feature_names获得房子影响价格的各项指标名，然后再加上一个估价的中值。形成行名\n",
    "header_cols = housing.feature_names + [\"MidianHouseValue\"]\n",
    "header_str = \",\".join(header_cols) #以逗号分隔，由列表转为字符串\n",
    "\n",
    "train_filenames = save_to_csv(output_dir, train_data, \"train\",  #返回的train_filenames是一个内部元素为文件名的数组\n",
    "                              header_str, n_parts=20)\n",
    "valid_filenames = save_to_csv(output_dir, valid_data, \"valid\",\n",
    "                              header_str, n_parts=10)\n",
    "test_filenames = save_to_csv(output_dir, test_data, \"test\",\n",
    "                             header_str, n_parts=10)\n",
    "    "
   ]
  },
  {
   "cell_type": "code",
   "execution_count": null,
   "metadata": {},
   "outputs": [],
   "source": [
    "import pprint\n",
    "print(\"train filenames:\")\n",
    "# print(train_filenames)  #print打印内容很多的数据时就会很乱\n",
    "pprint.pprint(train_filenames)\n",
    "\n",
    "print(\"valid filenames:\")\n",
    "pprint.pprint(valid_filenames)\n",
    "print(\"test filenames:\")\n",
    "pprint.pprint(test_filenames)\n",
    "\n",
    "#pprint与print功能基本一致，区别就在于print会将所有内容用一行来打印，而pprint会根据数据的格式，分行打印，更符合人类阅读习惯"
   ]
  },
  {
   "cell_type": "markdown",
   "metadata": {},
   "source": [
    "# tf.data.Dataset.listfile(filenames)\n",
    "    func:将文件名转化为一个数据集\n",
    "    "
   ]
  },
  {
   "cell_type": "code",
   "execution_count": null,
   "metadata": {},
   "outputs": [],
   "source": [
    "# 1. 读取文件名，形成一个文件：                    filename -> dataset\n",
    "# 2. 分别读取读取数据集，形成数据集，然后将其合并。   read file -> dataset -> datasets -> merge\n",
    "# 3. 读取出来的record是字符串，要将其进行解析。     parse csv\n",
    "\n",
    "filename_dataset = tf.data.Dataset.list_files(train_filenames)  #dataset.list_files():将文件名转换为一个数据集 \n",
    "print(type(filename_dataset))\n",
    "for filename in filename_dataset:\n",
    "    print(filename.numpy())"
   ]
  },
  {
   "cell_type": "markdown",
   "metadata": {},
   "source": [
    "# tf.data.Dataset.TextLineDataset()\n",
    "    func:按行读取文本，形成一个dataset\n",
    "    paras:map_fn:对数据的操作\n",
    "    cycle_length:读取文件的并行数\n",
    "    \n",
    "# dataset.skip(n)：省略(跳过)数据集中的指定行\n",
    "    # 跳过的元素数量要考虑并行数"
   ]
  },
  {
   "cell_type": "code",
   "execution_count": null,
   "metadata": {},
   "outputs": [],
   "source": [
    "n_readers = 5\n",
    "dataset = filename_dataset.interleave(\n",
    "    lambda filename: tf.data.TextLineDataset(filename).skip(1),  #因为读取并行数是5，所以一次读取5行，每次跳一行,所以就是吧第一行跳过了\n",
    "    cycle_length = n_readers\n",
    ")\n",
    "for line in dataset.take(15):\n",
    "    print(line.numpy())\n"
   ]
  },
  {
   "cell_type": "markdown",
   "metadata": {},
   "source": [
    "# tf.io.decode_csv(record, record_defaults， na_value, select_cols)\n",
    "    func:将csv文件解析成数据集\n",
    "    paras:record：要解析的源文件\n",
    "          record_defaults:指定csv文件解析后，每一行的默认属性及默认值（当某列数据缺失时，采用默认值，如果没指定属性，则默认float32）\n",
    "          na_value:可选参数。如果在record中识别到了NA/NAN，用什么字符代替，默认时“”。\n",
    "          select_cols:可选参数。以一个排序的（sorted）列表指定哪些行将会被parse并返回。\n",
    "          \n",
    "                                \n",
    "注：csv文件中，把每一行成为一个record，record中的每个元素称为一个field\n",
    "\n"
   ]
  },
  {
   "cell_type": "code",
   "execution_count": null,
   "metadata": {},
   "outputs": [],
   "source": [
    "# 测试一下decode_csv()\n",
    "sample_str = '1,2,3,4,5'\n",
    "record_defaults = [tf.constant(0, dtype=tf.int32)]*5\n",
    "\n",
    "\n",
    "# sample_str = '1,2,3,,5'\n",
    "# record_defaults = [\n",
    "#     tf.constant(0, dtype=tf.int32),\n",
    "#     0,\n",
    "#     np.nan,\n",
    "#     \"hello\",\n",
    "#     tf.constant([])\n",
    "# ]\n",
    "parsed_fields = tf.io.decode_csv(sample_str, record_defaults)\n",
    "pprint.pprint(parsed_fields)"
   ]
  },
  {
   "cell_type": "code",
   "execution_count": null,
   "metadata": {},
   "outputs": [],
   "source": [
    "# 将某一行转化为一个数据集\n",
    "def parse_csv_line(line, n_fields = 9):\n",
    "    defs = [tf.constant(np.nan)] * n_fields\n",
    "    parsed_fields = tf.io.decode_csv(line, record_defaults=defs)\n",
    "    \n",
    "    # stack()将数据沿指定维度进行堆叠\n",
    "    x = tf.stack(parsed_fields[0:-1])\n",
    "    y = tf.stack(parsed_fields[-1:])\n",
    "#     x = parsed_fields[0:-1]\n",
    "#     y = parsed_fields[-1:]\n",
    "    return x, y\n",
    "\n",
    "parse_csv_line(b'-0.9868720801669367,0.832863080552588,-0.18684708416901633,-0.14888949288707784,-0.4532302419670616,-0.11504995754593579,1.6730974284189664,-0.7465496877362412,1.138',\n",
    "               n_fields=9) "
   ]
  },
  {
   "cell_type": "markdown",
   "metadata": {},
   "source": [
    "# tf.map(map_fn, num_parallel_calls )\n",
    "    func:对数据集中的所有元素执行相同操作，并返回处理后的新数据集。\n",
    "    paras：map_fn：用什么函数对数据进行处理。可以用lambda匿名函数，也可以现在外部定义一个函数，在map中使用。\n",
    "          num_parallel_calls:同时处理的元素数量。\n",
    "        \n",
    "# tf.data.Dataset.interleave()\n",
    "    https://blog.csdn.net/menghuanshen/article/details/104240189\n",
    "    func:对源数据集进行处理，最后得到一个交错的型数据集\n",
    "    paras：map_fn:对源数据集进行制定操作的函数\n",
    "          cycle_length:从源文件同时读取的数据条数\n",
    "          block_length:每次从处理后的数据中读取几个\n",
    "          num_parallel_calls:   还不知道啥用\n",
    "          \n",
    "# tf.data.Dataset.shuffle(shuffle_buffle_size)       \n",
    "    func:将一按数据即打乱\n",
    "    paras：shuffle_buffer_size:缓存大小（这个缓存可以理解为c语言里通过三个标量让两个变量的值相互交换一样）"
   ]
  },
  {
   "cell_type": "code",
   "execution_count": null,
   "metadata": {},
   "outputs": [],
   "source": [
    "# 编写函数读取整个csv文件\n",
    "\n",
    "def csv_reader_dataset(filenames, n_readers=5,\n",
    "                       batch_size=32, n_parse_threads=5,\n",
    "                       shuffle_buffer_size=10000):\n",
    "    '''\n",
    "    n_readers:从text文件中同时读取的行数\n",
    "    n_parse_threads:同时解析的并行数\n",
    "    shuffle_buffer_size:读取文件的缓存大小\n",
    "    '''\n",
    "    dataset = tf.data.Dataset.list_files(filenames)  #先由文件名构建数据集\n",
    "    dataset = dataset.repeat()  #不指定count，表示dataset重复无限次\n",
    "    dataset = dataset.interleave(\n",
    "        lambda filename: tf.data.TextLineDataset(filename).skip(1),\n",
    "        cycle_length = n_readers\n",
    "    )\n",
    "    print(list(dataset.numpy()))\n",
    "    dataset.shuffle(shuffle_buffer_size) #随机打乱顺序\n",
    "    dataset = dataset.map(parse_csv_line,\n",
    "                          num_parallel_calls=n_parse_threads)\n",
    "    #通过前面定义的 行解析函数 对csv进行逐行解析\n",
    "    dataset = dataset.batch(batch_size) # 指定batch_size\n",
    "    return dataset\n",
    "\n",
    "#测试是否能读取\n",
    "train_set = csv_reader_dataset(train_filenames, batch_size=3)\n",
    "for x_batch, y_batch in train_set.take(2):\n",
    "    print(\"x:\")\n",
    "    pprint.pprint(x_batch)\n",
    "    print(\"y:\")\n",
    "    pprint.pprint(y_batch)\n",
    "    \n",
    "    \n",
    "'''\n",
    "通过batch_size将文件划分为许多个batch，每个batch包含3个元素，每个元素由8个值的房子指标和一个值的房价构成。\n",
    "然后通过take(2)拿出两个batch。\n",
    "\n",
    "'''"
   ]
  },
  {
   "cell_type": "code",
   "execution_count": null,
   "metadata": {},
   "outputs": [],
   "source": [
    "# 通过定义的函数读取整个csv文件\n",
    "batch_size = 32\n",
    "train_set = csv_reader_dataset(train_filenames,\n",
    "                               batch_size = batch_size)\n",
    "valid_set = csv_reader_dataset(valid_filenames,\n",
    "                               batch_size = batch_size)\n",
    "test_set = csv_reader_dataset(test_filenames,\n",
    "                              batch_size = batch_size)\n",
    "print(train_set) #DatasetV1Adapter类型， "
   ]
  },
  {
   "cell_type": "code",
   "execution_count": null,
   "metadata": {},
   "outputs": [],
   "source": [
    "# 修改模型，将生成的数据集应用在model中\n",
    "model = keras.models.Sequential([\n",
    "    keras.layers.Dense(30, activation='relu',\n",
    "                       input_shape=[8]),  # 直接指定input_shape\n",
    "    keras.layers.Dense(1),\n",
    "])\n",
    "\n",
    "model.compile(loss=\"mean_squared_error\", optimizer=\"sgd\")\n",
    "callbacks = [keras.callbacks.EarlyStopping(\n",
    "    patience=5, min_delta=1e-2)]\n",
    "\n",
    "history = model.fit(train_set,  # 在我们创建的数据集中，x和y本就是以元组的形式结合在一起的，所以直接用train_set，\n",
    "                                # 不用分别指定x_train,y_train（用逗号分隔，其实也就是形成了一个元祖）\n",
    "                    validation_data = valid_set,\n",
    "                    steps_per_epoch = 11160 // batch_size,  #告诉解释器执行了多少个batch算是一个epoch\n",
    "                    validation_steps = 3870 // batch_size,\n",
    "                    epochs = 100,\n",
    "                    callbacks = callbacks)\n",
    "'''\n",
    "训练集用steps_per_epoch\n",
    "验证集用validation_steps\n",
    "测试集用steps\n",
    "\n",
    "'''"
   ]
  },
  {
   "cell_type": "code",
   "execution_count": null,
   "metadata": {},
   "outputs": [],
   "source": [
    "model.evaluate(test_set, steps = 5160 // batch_size)"
   ]
  },
  {
   "cell_type": "code",
   "execution_count": null,
   "metadata": {},
   "outputs": [],
   "source": []
  },
  {
   "cell_type": "code",
   "execution_count": null,
   "metadata": {},
   "outputs": [],
   "source": []
  },
  {
   "cell_type": "code",
   "execution_count": null,
   "metadata": {},
   "outputs": [],
   "source": []
  }
 ],
 "metadata": {
  "kernelspec": {
   "display_name": "tensorflow1",
   "language": "python",
   "name": "tensorflow1"
  },
  "language_info": {
   "codemirror_mode": {
    "name": "ipython",
    "version": 3
   },
   "file_extension": ".py",
   "mimetype": "text/x-python",
   "name": "python",
   "nbconvert_exporter": "python",
   "pygments_lexer": "ipython3",
   "version": "3.7.6"
  },
  "toc": {
   "base_numbering": 1,
   "nav_menu": {},
   "number_sections": false,
   "sideBar": true,
   "skip_h1_title": false,
   "title_cell": "Table of Contents",
   "title_sidebar": "Contents",
   "toc_cell": false,
   "toc_position": {
    "height": "calc(100% - 180px)",
    "left": "10px",
    "top": "150px",
    "width": "215.17px"
   },
   "toc_section_display": true,
   "toc_window_display": true
  }
 },
 "nbformat": 4,
 "nbformat_minor": 2
}
