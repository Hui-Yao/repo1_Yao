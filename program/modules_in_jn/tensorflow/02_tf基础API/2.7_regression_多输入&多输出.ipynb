{
 "cells": [
  {
   "cell_type": "code",
   "execution_count": 30,
   "metadata": {},
   "outputs": [],
   "source": [
    "#导入包\n",
    "from sklearn.datasets import fetch_california_housing\n",
    "from sklearn.model_selection import train_test_split\n",
    "from sklearn.preprocessing import StandardScaler\n",
    "import numpy as np\n",
    "import pandas as pd\n",
    "from matplotlib import pyplot as plt\n",
    "import tensorflow as tf\n",
    "from tensorflow import keras\n"
   ]
  },
  {
   "cell_type": "code",
   "execution_count": 31,
   "metadata": {},
   "outputs": [],
   "source": [
    "#分成数据集和测试集\n",
    "housing = fetch_california_housing()\n",
    "# print(housing.data.shape)\n",
    "\n",
    "x_train_all, x_test_raw, y_train_all, y_test = train_test_split(\n",
    "    housing.data, housing.target, random_state = 7)\n",
    "x_train_raw, x_valid_raw, y_train, y_valid = train_test_split(\n",
    "    x_train_all, y_train_all, random_state = 11)\n",
    "\n",
    "#对数据进行标准化处理\n",
    "sca = StandardScaler()\n",
    "x_train = sca.fit_transform(x_train_raw)\n",
    "x_valid = sca.transform(x_valid_raw)\n",
    "x_test = sca.transform(x_test_raw)\n"
   ]
  },
  {
   "cell_type": "code",
   "execution_count": 23,
   "metadata": {},
   "outputs": [
    {
     "name": "stdout",
     "output_type": "stream",
     "text": [
      "Train on 11610 samples, validate on 3870 samples\n",
      "Epoch 1/10\n",
      "11610/11610 [==============================] - 2s 137us/sample - loss: 0.7928 - val_loss: 0.6233\n",
      "Epoch 2/10\n",
      "11610/11610 [==============================] - 1s 82us/sample - loss: 0.5212 - val_loss: 0.5050\n",
      "Epoch 3/10\n",
      "11610/11610 [==============================] - 1s 92us/sample - loss: 0.4560 - val_loss: 0.6123\n",
      "Epoch 4/10\n",
      "11610/11610 [==============================] - 1s 79us/sample - loss: 0.4405 - val_loss: 0.4572\n",
      "Epoch 5/10\n",
      "11610/11610 [==============================] - 1s 89us/sample - loss: 0.4284 - val_loss: 0.4525\n",
      "Epoch 6/10\n",
      "11610/11610 [==============================] - 1s 81us/sample - loss: 0.4232 - val_loss: 0.4315\n",
      "Epoch 7/10\n",
      "11610/11610 [==============================] - 1s 81us/sample - loss: 0.4172 - val_loss: 0.4260\n",
      "Epoch 8/10\n",
      "11610/11610 [==============================] - 1s 78us/sample - loss: 0.4113 - val_loss: 0.4238\n",
      "Epoch 9/10\n",
      "11610/11610 [==============================] - 1s 93us/sample - loss: 0.4021 - val_loss: 0.4154\n",
      "Epoch 10/10\n",
      "11610/11610 [==============================] - 1s 98us/sample - loss: 0.4010 - val_loss: 0.4116\n"
     ]
    }
   ],
   "source": [
    "#多输入\n",
    "\n",
    "#搭建模型\n",
    "input_wide = keras.layers.Input(shape = [5])\n",
    "input_deep = keras.layers.Input(shape = [6])\n",
    "\n",
    "hidden1 = keras.layers.Dense(30, activation = 'relu')(input_deep)\n",
    "hidden2 = keras.layers.Dense(30, activation = 'relu')(hidden1)\n",
    "\n",
    "concate = keras.layers.concatenate([input_wide, hidden2])\n",
    "\n",
    "output = keras.layers.Dense(1)(concate)\n",
    "\n",
    "model = keras.models.Model(inputs = [input_wide,input_deep],\n",
    "                          outputs = [output])\n",
    "\n",
    "model.compile(loss = 'mse', optimizer = 'sgd', )\n",
    "\n",
    "\n",
    "#模型从构建到编译，都与实际的数据无关。在fit之前，都可以对原本的数据进行操作，如分割等。\n",
    "x_train_wide, x_train_deep = x_train[:,:5], x_train[:,2:]\n",
    "x_valid_wide, x_valid_deep = x_valid[:,:5], x_valid[:,2:]\n",
    "x_test_wide, x_test_deep = x_test[:,:5], x_test[:,2:]\n",
    "\n",
    "history = model.fit([x_train_wide, x_train_deep], y_train,\n",
    "          validation_data = ([x_valid_wide, x_valid_deep], y_valid),\n",
    "          epochs = 10)\n",
    "\n"
   ]
  },
  {
   "cell_type": "code",
   "execution_count": 36,
   "metadata": {},
   "outputs": [
    {
     "name": "stdout",
     "output_type": "stream",
     "text": [
      "Train on 11610 samples, validate on 3870 samples\n",
      "Epoch 1/10\n",
      "11610/11610 [==============================] - 2s 188us/sample - loss: 2.0930 - dense_52_loss: 0.8941 - dense_53_loss: 1.1986 - val_loss: 1.2766 - val_dense_52_loss: 0.5393 - val_dense_53_loss: 0.7372\n",
      "Epoch 2/10\n",
      "11610/11610 [==============================] - 1s 92us/sample - loss: 1.1013 - dense_52_loss: 0.4663 - dense_53_loss: 0.6353 - val_loss: 1.0980 - val_dense_52_loss: 0.4795 - val_dense_53_loss: 0.6183\n",
      "Epoch 3/10\n",
      "11610/11610 [==============================] - 1s 84us/sample - loss: 1.0045 - dense_52_loss: 0.4384 - dense_53_loss: 0.5661 - val_loss: 0.9905 - val_dense_52_loss: 0.4308 - val_dense_53_loss: 0.5596\n",
      "Epoch 4/10\n",
      "11610/11610 [==============================] - 1s 86us/sample - loss: 0.9367 - dense_52_loss: 0.4063 - dense_53_loss: 0.5307 - val_loss: 0.9411 - val_dense_52_loss: 0.4160 - val_dense_53_loss: 0.5250\n",
      "Epoch 5/10\n",
      "11610/11610 [==============================] - 1s 91us/sample - loss: 0.8929 - dense_52_loss: 0.3942 - dense_53_loss: 0.4988 - val_loss: 0.9312 - val_dense_52_loss: 0.4166 - val_dense_53_loss: 0.5145\n",
      "Epoch 6/10\n",
      "11610/11610 [==============================] - 1s 87us/sample - loss: 0.8627 - dense_52_loss: 0.3859 - dense_53_loss: 0.4767 - val_loss: 0.8934 - val_dense_52_loss: 0.4005 - val_dense_53_loss: 0.4927\n",
      "Epoch 7/10\n",
      "11610/11610 [==============================] - 1s 93us/sample - loss: 0.8377 - dense_52_loss: 0.3803 - dense_53_loss: 0.4573 - val_loss: 0.8536 - val_dense_52_loss: 0.3833 - val_dense_53_loss: 0.4702\n",
      "Epoch 8/10\n",
      "11610/11610 [==============================] - 1s 91us/sample - loss: 0.8017 - dense_52_loss: 0.3612 - dense_53_loss: 0.4405 - val_loss: 0.7958 - val_dense_52_loss: 0.3603 - val_dense_53_loss: 0.4354\n",
      "Epoch 9/10\n",
      "11610/11610 [==============================] - 1s 93us/sample - loss: 0.7898 - dense_52_loss: 0.3560 - dense_53_loss: 0.4338 - val_loss: 0.7895 - val_dense_52_loss: 0.3574 - val_dense_53_loss: 0.4320\n",
      "Epoch 10/10\n",
      "11610/11610 [==============================] - 1s 87us/sample - loss: 0.7879 - dense_52_loss: 0.3617 - dense_53_loss: 0.4262 - val_loss: 0.7924 - val_dense_52_loss: 0.3594 - val_dense_53_loss: 0.4328\n"
     ]
    }
   ],
   "source": [
    "#多输入&多输出\n",
    "#多个输入与输出分别都要用中括号括起来，使输入与输出都只有一个项\n",
    "\n",
    "#搭建模型\n",
    "input_wide = keras.layers.Input(shape = [5])\n",
    "input_deep = keras.layers.Input(shape = [6])\n",
    "\n",
    "hidden1 = keras.layers.Dense(30, activation = 'relu')(input_deep)\n",
    "hidden2 = keras.layers.Dense(30, activation = 'relu')(hidden1)\n",
    "\n",
    "concate = keras.layers.concatenate([input_wide, hidden2])\n",
    "\n",
    "output1 = keras.layers.Dense(1)(concate)\n",
    "output2 = keras.layers.Dense(1)(hidden2)\n",
    "\n",
    "model = keras.models.Model(inputs = [input_wide,input_deep],\n",
    "                          outputs = [output1, output2])\n",
    "\n",
    "model.compile(loss = 'mse', optimizer = 'sgd', )\n",
    "\n",
    "\n",
    "#模型从构建到编译，都与实际的数据无关。在fit之前，都可以对原本的数据进行操作，如分割等。\n",
    "x_train_wide, x_train_deep = x_train[:,:5], x_train[:,2:]\n",
    "x_valid_wide, x_valid_deep = x_valid[:,:5], x_valid[:,2:]\n",
    "x_test_wide, x_test_deep = x_test[:,:5], x_test[:,2:]\n",
    "\n",
    "history = model.fit([x_train_wide, x_train_deep], [y_train,y_train],\n",
    "          validation_data = ([x_valid_wide, x_valid_deep], [y_valid, y_valid]),\n",
    "          epochs = 10)\n"
   ]
  },
  {
   "cell_type": "code",
   "execution_count": 25,
   "metadata": {},
   "outputs": [
    {
     "data": {
      "image/png": "[encoded data removed]",
      "text/plain": [
       "<Figure size 576x360 with 1 Axes>"
      ]
     },
     "metadata": {
      "needs_background": "light"
     },
     "output_type": "display_data"
    }
   ],
   "source": [
    "def plot_learning_curves(history):\n",
    "    pd.DataFrame(history.history).plot(figsize=(8, 5))\n",
    "    plt.grid(True)\n",
    "    plt.gca().set_ylim(0, 1)\n",
    "    plt.show()\n",
    "plot_learning_curves(history)\n",
    "\n"
   ]
  },
  {
   "cell_type": "code",
   "execution_count": 29,
   "metadata": {},
   "outputs": [
    {
     "data": {
      "text/plain": [
       "0.40060963806255845"
      ]
     },
     "execution_count": 29,
     "metadata": {},
     "output_type": "execute_result"
    }
   ],
   "source": [
    "model.evaluate([x_test_wide, x_test_deep], y_test, y_test, verbose = False)"
   ]
  },
  {
   "cell_type": "code",
   "execution_count": null,
   "metadata": {},
   "outputs": [],
   "source": []
  }
 ],
 "metadata": {
  "kernelspec": {
   "display_name": "Python 3",
   "language": "python",
   "name": "python3"
  },
  "language_info": {
   "codemirror_mode": {
    "name": "ipython",
    "version": 3
   },
   "file_extension": ".py",
   "mimetype": "text/x-python",
   "name": "python",
   "nbconvert_exporter": "python",
   "pygments_lexer": "ipython3",
   "version": "3.6.9"
  }
 },
 "nbformat": 4,
 "nbformat_minor": 2
}
