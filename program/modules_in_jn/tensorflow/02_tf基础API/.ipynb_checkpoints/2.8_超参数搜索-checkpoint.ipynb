{
 "cells": [
  {
   "cell_type": "markdown",
   "metadata": {},
   "source": [
    "# 超参数搜索\n",
    "\n",
    "## 什么是超参数？\n",
    "    在模型训练过程中不变（预设）的参数。比如模型结构参数（层数，激活函数），训练参数（batch_size，学习率，学习率衰减算法）等。\n",
    "\n",
    "## 什么是超参数搜索？\n",
    "    设置不同的超参数会得到不一样的训练效果，那么如何得到最好的超参数呢？这种得到最好的超参数组合的方法就是超参数搜索。\n",
    "    主要有四种方法：网格搜索，随机搜索，，启发式搜索\n",
    "\n",
    "    1 网格搜索：对于各个超参数，选择性地列出一些可能的取值。将这些值进行组合，对于每一个组合，训练一次，选择效果最好的组合。\n",
    "            但是这种方法可能会得不到最好的超参数组合，因为超参数的取值是认为设定的。\n",
    "    2 随即搜索：参数不是手动设定的，而是给定一个范围随机生成的。这种方法的搜索空间更大，有可能得到最优的参数，但是也需要搜索多次。\n",
    "    3 遗传算法：来自于对自然界的模拟。\n",
    "            设定一些组数的初始超参数，进行训练，得到生存概率（表现越好生存概率越高）\n",
    "            A选择：从预训练的参数组中选择一定的组数\n",
    "            B交叉：将选择特定组数的部分参数进行结合\n",
    "            C变异：将某些参数进行一些调整\n",
    "            D产生二代参数组，再与别的二代参数组进行同样操作。\n",
    "    4 启发式搜索：是研究热点AutoML的一部分，neural architecture search（神经元结构搜索做的就是启发式搜索）\n",
    "            启发式搜索是使用循环神经网络来生成参数，再使用强化学习来生成反馈，最后使用模型来训练生成参数。\n",
    "            \n",
    "## 如何使用sklearn的超参数搜索？\n",
    "    （1）定义keras模型函数（将要搜索的超参数作为函数的参数），使用KerasRegressor类将keras模型转换为sklearn模型。\n",
    "    （2）以字典的形式构建超参数的分布（注意字典中代表参数的‘key’要与1中函数的参数相同）\n",
    "    （3）调用sklearn.model_selction中的Randomizedsearchcv制作一个模型训练器（可以这么理解？），\n",
    "        进行训练，从村联结果中选择最好模型，保存下来\n",
    "\n",
    "\n",
    "\n"
   ]
  },
  {
   "cell_type": "code",
   "execution_count": null,
   "metadata": {},
   "outputs": [],
   "source": [
    "from tensorflow import keras\n",
    "from matplotlib import pyplot as plt\n",
    "import numpy as np\n",
    "from sklearn.preprocessing import StandardScaler\n",
    "from tensorflow.keras.wrappers.scikit_learn import KerasRegressor\n",
    "from sklearn.model_selection import train_test_split\n",
    "from sklearn.datasets import fetch_california_housing\n",
    "from sklearn.model_selection import RandomizedSearchCV\n",
    "\n",
    "# 准备数据\n",
    "houses = fetch_california_housing()\n",
    "# print(houses.data.shape)\n",
    "# print(houses.target.shape)\n",
    "# print(houses.DESCR)\n",
    "\n",
    "x_train_all, x_test_raw, y_train_all, y_test = train_test_split(houses.data, houses.target, random_state=1)\n",
    "x_train_raw, x_valid_raw, y_train, y_valid = train_test_split(x_train_all, y_train_all, random_state=2)\n",
    "\n",
    "# for i in [x_train_raw, x_valid_raw, x_test_raw]:\n",
    "#     print(i.shape)\n",
    "\n",
    "ss = StandardScaler()\n",
    "x_train = ss.fit_transform(x_train_raw)\n",
    "x_valid = ss.transform(x_valid_raw)\n",
    "x_test = ss.transform(x_test_raw)"
   ]
  },
  {
   "cell_type": "code",
   "execution_count": null,
   "metadata": {},
   "outputs": [],
   "source": [
    "#（1）\n",
    "def kr_model(hidden_layers = 3, layer_size = 30, learn_rate = 0.01):\n",
    "    model = keras.models.Sequential()\n",
    "    model.add(keras.layers.Dense(units=layer_size, activation='relu',input_shape = x_train.shape[1:]))\n",
    "    for i in range(hidden_layers-1):\n",
    "        model.add(keras.layers.Dense(units=layer_size, activation='relu',input_shape = x_train.shape[1:]))\n",
    "    model.add(keras.layers.Dense(1))\n",
    "    optimizer = keras.optimizers.SGD(learn_rate)\n",
    "    #需要在外部自定义optimizer，然后在optimizer中设置learn_rate\n",
    "    model.compile(loss = 'mse', optimizer=optimizer)\n",
    "    return model\n",
    "\n",
    "sk_model = KerasRegressor(build_fn = kr_model)\n",
    "sk_model.fit(x_train, y_train,\n",
    "             validation_data=(x_valid, y_valid),\n",
    "             epochs = 11,\n",
    "             )"
   ]
  },
  {
   "cell_type": "code",
   "execution_count": null,
   "metadata": {},
   "outputs": [],
   "source": [
    "#（2）\n",
    "para_range = {'hidden_layers':[1, 2, 3, 4],\n",
    "              'layer_size':np.arange(1,100),\n",
    "              'learn_rate':reciprocal(1e-4,1e-2),}\n",
    "#这个para_range中的参数要与keras模型函数中的参数相同，因为最后调用的还是自己构建keras模型函数。\n",
    "\n"
   ]
  },
  {
   "cell_type": "code",
   "execution_count": null,
   "metadata": {},
   "outputs": [],
   "source": [
    "#（3）\n",
    "random_search_cv = RandomizedSearchCV(sk_model, para_range,\n",
    "                                      n_iter=10, n_jobs = 1, cv = 3)\n",
    "#n_iter:保存的参数组的组数  n_jobs:并行训练的模型个数\n",
    "#cross_validation机制：将原来的训练集分为n份，其中n-1份用来训练，1份当做验证集，cv就是用来指定n的值。\n",
    "random_search_cv.fit(x_train, y_train,\n",
    "                     validation_data = (x_valid, y_valid),\n",
    "                     batch_size = 500, epochs = 10,\n",
    "                     callbacks = [keras.callbacks.EarlyStopping(patience=3, min_delta=1e-3 )])\n",
    "\n",
    "#\n",
    "print(random_search_cv.best_params_) #输出最好的参数\n",
    "print(random_search_cv.best_score_)  #输出最好的得分\n",
    "print(random_search_cv.best_estimator_) #输出最好的模型\n",
    "\n",
    "model = random_search_cv.best_estimator_.model #调用最好的模型\n",
    "model.evaluate(x_test, y_test)"
   ]
  },
  {
   "cell_type": "code",
   "execution_count": null,
   "metadata": {},
   "outputs": [],
   "source": []
  },
  {
   "cell_type": "code",
   "execution_count": null,
   "metadata": {},
   "outputs": [],
   "source": []
  },
  {
   "cell_type": "code",
   "execution_count": null,
   "metadata": {},
   "outputs": [],
   "source": []
  },
  {
   "cell_type": "code",
   "execution_count": null,
   "metadata": {},
   "outputs": [],
   "source": []
  }
 ],
 "metadata": {
  "kernelspec": {
   "display_name": "tensorflow",
   "language": "python",
   "name": "tensorflow"
  },
  "language_info": {
   "codemirror_mode": {
    "name": "ipython",
    "version": 3
   },
   "file_extension": ".py",
   "mimetype": "text/x-python",
   "name": "python",
   "nbconvert_exporter": "python",
   "pygments_lexer": "ipython3",
   "version": "3.7.7"
  },
  "toc": {
   "base_numbering": 1,
   "nav_menu": {},
   "number_sections": false,
   "sideBar": true,
   "skip_h1_title": false,
   "title_cell": "Table of Contents",
   "title_sidebar": "Contents",
   "toc_cell": false,
   "toc_position": {},
   "toc_section_display": true,
   "toc_window_display": true
  },
  "varInspector": {
   "cols": {
    "lenName": 16,
    "lenType": 16,
    "lenVar": 40
   },
   "kernels_config": {
    "python": {
     "delete_cmd_postfix": "",
     "delete_cmd_prefix": "del ",
     "library": "var_list.py",
     "varRefreshCmd": "print(var_dic_list())"
    },
    "r": {
     "delete_cmd_postfix": ") ",
     "delete_cmd_prefix": "rm(",
     "library": "var_list.r",
     "varRefreshCmd": "cat(var_dic_list()) "
    }
   },
   "types_to_exclude": [
    "module",
    "function",
    "builtin_function_or_method",
    "instance",
    "_Feature"
   ],
   "window_display": false
  }
 },
 "nbformat": 4,
 "nbformat_minor": 4
}
