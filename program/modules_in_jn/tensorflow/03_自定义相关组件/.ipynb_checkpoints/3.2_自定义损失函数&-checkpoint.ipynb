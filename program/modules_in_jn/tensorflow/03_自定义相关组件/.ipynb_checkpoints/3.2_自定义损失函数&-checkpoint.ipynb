{
 "cells": [
  {
   "cell_type": "code",
   "execution_count": 6,
   "metadata": {},
   "outputs": [],
   "source": [
    "#导入包\n",
    "from sklearn.datasets import fetch_california_housing\n",
    "from sklearn.model_selection import train_test_split\n",
    "from sklearn.preprocessing import StandardScaler\n",
    "import numpy as np\n",
    "import pandas as pd\n",
    "from matplotlib import pyplot as plt\n",
    "import tensorflow as tf\n",
    "from tensorflow import keras"
   ]
  },
  {
   "cell_type": "code",
   "execution_count": 7,
   "metadata": {},
   "outputs": [],
   "source": [
    "# 准备数据\n",
    "housing = fetch_california_housing()\n",
    "# print(housing.data.shape)\n",
    "\n",
    "x_train_all, x_test_raw, y_train_all, y_test = train_test_split(\n",
    "    housing.data, housing.target, random_state = 7)\n",
    "x_train_raw, x_valid_raw, y_train, y_valid = train_test_split(\n",
    "    x_train_all, y_train_all, random_state = 11)\n",
    "\n",
    "#对数据进行标准化处理\n",
    "sca = StandardScaler()\n",
    "x_train = sca.fit_transform(x_train_raw)\n",
    "x_valid = sca.transform(x_valid_raw)\n",
    "x_test = sca.transform(x_test_raw)"
   ]
  },
  {
   "cell_type": "code",
   "execution_count": 13,
   "metadata": {},
   "outputs": [],
   "source": [
    "# 自定义损失函数\n",
    "def customized_mse(y_true, y_pred):\n",
    "    return tf.reduce_mean(tf.square(y_pred - y_true))\n"
   ]
  },
  {
   "cell_type": "code",
   "execution_count": 15,
   "metadata": {},
   "outputs": [
    {
     "name": "stdout",
     "output_type": "stream",
     "text": [
      "Train on 11610 samples, validate on 3870 samples\n",
      "Epoch 1/20\n",
      "11610/11610 [==============================] - 4s 373us/sample - loss: 3.3546 - mean_squared_error: 3.3546 - val_loss: 1.3963 - val_mean_squared_error: 1.3963\n",
      "Epoch 2/20\n",
      "11610/11610 [==============================] - 4s 308us/sample - loss: 0.9605 - mean_squared_error: 0.9605 - val_loss: 0.8234 - val_mean_squared_error: 0.8234\n",
      "Epoch 3/20\n",
      "11610/11610 [==============================] - 3s 265us/sample - loss: 0.7059 - mean_squared_error: 0.7059 - val_loss: 0.6725 - val_mean_squared_error: 0.6725\n",
      "Epoch 4/20\n",
      "11610/11610 [==============================] - 5s 409us/sample - loss: 0.5745 - mean_squared_error: 0.5745 - val_loss: 0.5574 - val_mean_squared_error: 0.5574\n",
      "Epoch 5/20\n",
      "11610/11610 [==============================] - 4s 337us/sample - loss: 0.4866 - mean_squared_error: 0.4866 - val_loss: 0.4864 - val_mean_squared_error: 0.4864\n",
      "Epoch 6/20\n",
      "11610/11610 [==============================] - 4s 355us/sample - loss: 0.4397 - mean_squared_error: 0.4397 - val_loss: 0.4532 - val_mean_squared_error: 0.4532\n",
      "Epoch 7/20\n",
      "11610/11610 [==============================] - 5s 473us/sample - loss: 0.4181 - mean_squared_error: 0.4181 - val_loss: 0.4312 - val_mean_squared_error: 0.4312\n",
      "Epoch 8/20\n",
      "11610/11610 [==============================] - 4s 387us/sample - loss: 0.4083 - mean_squared_error: 0.4083 - val_loss: 0.4240 - val_mean_squared_error: 0.4240\n",
      "Epoch 9/20\n",
      "11610/11610 [==============================] - 2s 197us/sample - loss: 0.4025 - mean_squared_error: 0.4025 - val_loss: 0.4199 - val_mean_squared_error: 0.4199\n",
      "Epoch 10/20\n",
      "11610/11610 [==============================] - 4s 384us/sample - loss: 0.4013 - mean_squared_error: 0.4013 - val_loss: 0.4164 - val_mean_squared_error: 0.4164\n",
      "Epoch 11/20\n",
      "11610/11610 [==============================] - 3s 239us/sample - loss: 0.3942 - mean_squared_error: 0.3942 - val_loss: 0.4099 - val_mean_squared_error: 0.4099\n",
      "Epoch 12/20\n",
      "11610/11610 [==============================] - 4s 304us/sample - loss: 0.3902 - mean_squared_error: 0.3902 - val_loss: 0.4043 - val_mean_squared_error: 0.4043\n",
      "Epoch 13/20\n",
      "11610/11610 [==============================] - 5s 435us/sample - loss: 0.3877 - mean_squared_error: 0.3877 - val_loss: 0.4057 - val_mean_squared_error: 0.4057\n",
      "Epoch 14/20\n",
      "11610/11610 [==============================] - 2s 193us/sample - loss: 0.3858 - mean_squared_error: 0.3858 - val_loss: 0.3966 - val_mean_squared_error: 0.3966\n",
      "Epoch 15/20\n",
      "11610/11610 [==============================] - 5s 388us/sample - loss: 0.3827 - mean_squared_error: 0.3827 - val_loss: 0.3983 - val_mean_squared_error: 0.3983\n",
      "Epoch 16/20\n",
      "11610/11610 [==============================] - 4s 380us/sample - loss: 0.3811 - mean_squared_error: 0.3811 - val_loss: 0.3942 - val_mean_squared_error: 0.3942\n",
      "Epoch 17/20\n",
      "11610/11610 [==============================] - 5s 399us/sample - loss: 0.3792 - mean_squared_error: 0.3792 - val_loss: 0.4016 - val_mean_squared_error: 0.4016\n",
      "Epoch 18/20\n",
      "11610/11610 [==============================] - 3s 266us/sample - loss: 0.3792 - mean_squared_error: 0.3792 - val_loss: 0.3970 - val_mean_squared_error: 0.3970\n",
      "Epoch 19/20\n",
      "11610/11610 [==============================] - 3s 259us/sample - loss: 0.3756 - mean_squared_error: 0.3756 - val_loss: 0.3851 - val_mean_squared_error: 0.3851\n",
      "Epoch 20/20\n",
      "11610/11610 [==============================] - 3s 294us/sample - loss: 0.3751 - mean_squared_error: 0.3751 - val_loss: 0.3845 - val_mean_squared_error: 0.3845\n"
     ]
    }
   ],
   "source": [
    "model = keras.models.Sequential()\n",
    "\n",
    "model.add(keras.layers.Dense(8,activation='relu', input_shape = x_train.shape[1:]))\n",
    "model.add(keras.layers.Dense(1))\n",
    "\n",
    "model.compile(loss = customized_mse, optimizer = 'adam', metrics = ['mean_squared_error'])  \n",
    "# 注意：用自定义的loss function时，compile（）中的loss参数不用加引号\n",
    "# 我们自定义的customized_mse与系统的‘mean_square_error’效果相同\n",
    "# 我们选择或自定义一个指标，这个指标反应的是y_true与y_predict之间的差值，然后在训练中通过反向传播算法使这个指标变小。\n",
    "\n",
    "history = model.fit(x_train, y_train,\n",
    "          validation_data = (x_valid, y_valid),\n",
    "          callbacks = [keras.callbacks.EarlyStopping(patience = 5, min_delta = 1e-3)],\n",
    "          epochs = 20)\n"
   ]
  },
  {
   "cell_type": "code",
   "execution_count": 16,
   "metadata": {},
   "outputs": [
    {
     "data": {
      "image/png": "[encoded data removed]",
      "text/plain": [
       "<Figure size 576x360 with 1 Axes>"
      ]
     },
     "metadata": {
      "needs_background": "light"
     },
     "output_type": "display_data"
    }
   ],
   "source": [
    "def plot_learning_curves(history):\n",
    "    pd.DataFrame(history.history).plot(figsize=(8, 5))\n",
    "    plt.grid(True)\n",
    "    plt.gca().set_ylim(0, 2)\n",
    "    plt.show()\n",
    "plot_learning_curves(history)\n"
   ]
  },
  {
   "cell_type": "code",
   "execution_count": null,
   "metadata": {},
   "outputs": [],
   "source": [
    "model.evaluate(x_train, y_train, verbose = False)"
   ]
  }
 ],
 "metadata": {
  "kernelspec": {
   "display_name": "tensorflow",
   "language": "python",
   "name": "tensorflow"
  },
  "language_info": {
   "codemirror_mode": {
    "name": "ipython",
    "version": 3
   },
   "file_extension": ".py",
   "mimetype": "text/x-python",
   "name": "python",
   "nbconvert_exporter": "python",
   "pygments_lexer": "ipython3",
   "version": "3.7.7"
  },
  "toc": {
   "base_numbering": 1,
   "nav_menu": {},
   "number_sections": false,
   "sideBar": true,
   "skip_h1_title": false,
   "title_cell": "Table of Contents",
   "title_sidebar": "Contents",
   "toc_cell": false,
   "toc_position": {},
   "toc_section_display": true,
   "toc_window_display": true
  },
  "varInspector": {
   "cols": {
    "lenName": 16,
    "lenType": 16,
    "lenVar": 40
   },
   "kernels_config": {
    "python": {
     "delete_cmd_postfix": "",
     "delete_cmd_prefix": "del ",
     "library": "var_list.py",
     "varRefreshCmd": "print(var_dic_list())"
    },
    "r": {
     "delete_cmd_postfix": ") ",
     "delete_cmd_prefix": "rm(",
     "library": "var_list.r",
     "varRefreshCmd": "cat(var_dic_list()) "
    }
   },
   "types_to_exclude": [
    "module",
    "function",
    "builtin_function_or_method",
    "instance",
    "_Feature"
   ],
   "window_display": false
  }
 },
 "nbformat": 4,
 "nbformat_minor": 4
}
