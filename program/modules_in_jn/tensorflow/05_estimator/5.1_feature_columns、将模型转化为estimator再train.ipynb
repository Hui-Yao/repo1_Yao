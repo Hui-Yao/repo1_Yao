{
 "cells": [
  {
   "cell_type": "code",
   "execution_count": 19,
   "metadata": {},
   "outputs": [
    {
     "name": "stdout",
     "output_type": "stream",
     "text": [
      "2.0.0\n",
      "sys.version_info(major=3, minor=7, micro=6, releaselevel='final', serial=0)\n",
      "matplotlib 3.1.3\n",
      "numpy 1.17.4\n",
      "pandas 1.0.3\n",
      "sklearn 0.22.1\n",
      "tensorflow 2.0.0\n",
      "tensorflow_core.keras 2.2.4-tf\n"
     ]
    }
   ],
   "source": [
    "import matplotlib as mpl\n",
    "import matplotlib.pyplot as plt\n",
    "%matplotlib inline\n",
    "import numpy as np\n",
    "import sklearn\n",
    "import pandas as pd\n",
    "import os\n",
    "import sys\n",
    "import time\n",
    "import tensorflow as tf\n",
    "\n",
    "from tensorflow import keras\n",
    "\n",
    "print(tf.__version__)\n",
    "print(sys.version_info)\n",
    "for module in mpl, np, pd, sklearn, tf, keras:\n",
    "    print(module.__name__, module.__version__)"
   ]
  },
  {
   "cell_type": "code",
   "execution_count": 2,
   "metadata": {},
   "outputs": [
    {
     "name": "stdout",
     "output_type": "stream",
     "text": [
      "<class 'pandas.core.frame.DataFrame'>\n",
      "   survived     sex   age  n_siblings_spouses  parch     fare  class     deck  \\\n",
      "0         0    male  22.0                   1      0   7.2500  Third  unknown   \n",
      "1         1  female  38.0                   1      0  71.2833  First        C   \n",
      "2         1  female  26.0                   0      0   7.9250  Third  unknown   \n",
      "3         1  female  35.0                   1      0  53.1000  First        C   \n",
      "4         0    male  28.0                   0      0   8.4583  Third  unknown   \n",
      "\n",
      "   embark_town alone  \n",
      "0  Southampton     n  \n",
      "1    Cherbourg     n  \n",
      "2  Southampton     y  \n",
      "3  Southampton     n  \n",
      "4   Queenstown     y  \n",
      "   survived     sex   age  n_siblings_spouses  parch     fare   class  \\\n",
      "0         0    male  35.0                   0      0   8.0500   Third   \n",
      "1         0    male  54.0                   0      0  51.8625   First   \n",
      "2         1  female  58.0                   0      0  26.5500   First   \n",
      "3         1  female  55.0                   0      0  16.0000  Second   \n",
      "4         1    male  34.0                   0      0  13.0000  Second   \n",
      "\n",
      "      deck  embark_town alone  \n",
      "0  unknown  Southampton     y  \n",
      "1        E  Southampton     y  \n",
      "2        C  Southampton     y  \n",
      "3  unknown  Southampton     y  \n",
      "4        D  Southampton     y  \n"
     ]
    }
   ],
   "source": [
    "# https://storage.googleapis.com/tf-datasets/titanic/train.csv\n",
    "# https://storage.googleapis.com/tf-datasets/titanic/eval.csv\n",
    "train_file = \"./data/titanic/train.csv\"\n",
    "eval_file = \"./data/titanic/eval.csv\"\n",
    "\n",
    "train_df = pd.read_csv(train_file)  #通过pandas读取文件\n",
    "eval_df = pd.read_csv(eval_file)\n",
    "\n",
    "print(type(train_df)) \n",
    "print(train_df.head())  #head（）：默认读取前5行\n",
    "print(eval_df.head())"
   ]
  },
  {
   "cell_type": "code",
   "execution_count": 3,
   "metadata": {},
   "outputs": [
    {
     "name": "stdout",
     "output_type": "stream",
     "text": [
      "      sex   age  n_siblings_spouses  parch     fare  class     deck  \\\n",
      "0    male  22.0                   1      0   7.2500  Third  unknown   \n",
      "1  female  38.0                   1      0  71.2833  First        C   \n",
      "2  female  26.0                   0      0   7.9250  Third  unknown   \n",
      "3  female  35.0                   1      0  53.1000  First        C   \n",
      "4    male  28.0                   0      0   8.4583  Third  unknown   \n",
      "\n",
      "   embark_town alone  \n",
      "0  Southampton     n  \n",
      "1    Cherbourg     n  \n",
      "2  Southampton     y  \n",
      "3  Southampton     n  \n",
      "4   Queenstown     y  \n",
      "      sex   age  n_siblings_spouses  parch     fare   class     deck  \\\n",
      "0    male  35.0                   0      0   8.0500   Third  unknown   \n",
      "1    male  54.0                   0      0  51.8625   First        E   \n",
      "2  female  58.0                   0      0  26.5500   First        C   \n",
      "3  female  55.0                   0      0  16.0000  Second  unknown   \n",
      "4    male  34.0                   0      0  13.0000  Second        D   \n",
      "\n",
      "   embark_town alone  \n",
      "0  Southampton     y  \n",
      "1  Southampton     y  \n",
      "2  Southampton     y  \n",
      "3  Southampton     y  \n",
      "4  Southampton     y  \n",
      "0    0\n",
      "1    1\n",
      "2    1\n",
      "3    1\n",
      "4    0\n",
      "Name: survived, dtype: int64\n",
      "0    0\n",
      "1    0\n",
      "2    1\n",
      "3    1\n",
      "4    1\n",
      "Name: survived, dtype: int64\n"
     ]
    }
   ],
   "source": [
    "y_train = train_df.pop('survived')  #删除survived(),这时标签，不应该在feature中\n",
    "y_eval = eval_df.pop('survived')\n",
    "\n",
    "print(train_df.head())\n",
    "print(eval_df.head())\n",
    "print(y_train.head())\n",
    "print(y_eval.head())"
   ]
  },
  {
   "cell_type": "code",
   "execution_count": 20,
   "metadata": {},
   "outputs": [
    {
     "data": {
      "text/html": [
       "<div>\n",
       "<style scoped>\n",
       "    .dataframe tbody tr th:only-of-type {\n",
       "        vertical-align: middle;\n",
       "    }\n",
       "\n",
       "    .dataframe tbody tr th {\n",
       "        vertical-align: top;\n",
       "    }\n",
       "\n",
       "    .dataframe thead th {\n",
       "        text-align: right;\n",
       "    }\n",
       "</style>\n",
       "<table border=\"1\" class=\"dataframe\">\n",
       "  <thead>\n",
       "    <tr style=\"text-align: right;\">\n",
       "      <th></th>\n",
       "      <th>age</th>\n",
       "      <th>n_siblings_spouses</th>\n",
       "      <th>parch</th>\n",
       "      <th>fare</th>\n",
       "    </tr>\n",
       "  </thead>\n",
       "  <tbody>\n",
       "    <tr>\n",
       "      <th>count</th>\n",
       "      <td>627.000000</td>\n",
       "      <td>627.000000</td>\n",
       "      <td>627.000000</td>\n",
       "      <td>627.000000</td>\n",
       "    </tr>\n",
       "    <tr>\n",
       "      <th>mean</th>\n",
       "      <td>29.631308</td>\n",
       "      <td>0.545455</td>\n",
       "      <td>0.379585</td>\n",
       "      <td>34.385399</td>\n",
       "    </tr>\n",
       "    <tr>\n",
       "      <th>std</th>\n",
       "      <td>12.511818</td>\n",
       "      <td>1.151090</td>\n",
       "      <td>0.792999</td>\n",
       "      <td>54.597730</td>\n",
       "    </tr>\n",
       "    <tr>\n",
       "      <th>min</th>\n",
       "      <td>0.750000</td>\n",
       "      <td>0.000000</td>\n",
       "      <td>0.000000</td>\n",
       "      <td>0.000000</td>\n",
       "    </tr>\n",
       "    <tr>\n",
       "      <th>25%</th>\n",
       "      <td>23.000000</td>\n",
       "      <td>0.000000</td>\n",
       "      <td>0.000000</td>\n",
       "      <td>7.895800</td>\n",
       "    </tr>\n",
       "    <tr>\n",
       "      <th>50%</th>\n",
       "      <td>28.000000</td>\n",
       "      <td>0.000000</td>\n",
       "      <td>0.000000</td>\n",
       "      <td>15.045800</td>\n",
       "    </tr>\n",
       "    <tr>\n",
       "      <th>75%</th>\n",
       "      <td>35.000000</td>\n",
       "      <td>1.000000</td>\n",
       "      <td>0.000000</td>\n",
       "      <td>31.387500</td>\n",
       "    </tr>\n",
       "    <tr>\n",
       "      <th>max</th>\n",
       "      <td>80.000000</td>\n",
       "      <td>8.000000</td>\n",
       "      <td>5.000000</td>\n",
       "      <td>512.329200</td>\n",
       "    </tr>\n",
       "  </tbody>\n",
       "</table>\n",
       "</div>"
      ],
      "text/plain": [
       "              age  n_siblings_spouses       parch        fare\n",
       "count  627.000000          627.000000  627.000000  627.000000\n",
       "mean    29.631308            0.545455    0.379585   34.385399\n",
       "std     12.511818            1.151090    0.792999   54.597730\n",
       "min      0.750000            0.000000    0.000000    0.000000\n",
       "25%     23.000000            0.000000    0.000000    7.895800\n",
       "50%     28.000000            0.000000    0.000000   15.045800\n",
       "75%     35.000000            1.000000    0.000000   31.387500\n",
       "max     80.000000            8.000000    5.000000  512.329200"
      ]
     },
     "execution_count": 20,
     "metadata": {},
     "output_type": "execute_result"
    }
   ],
   "source": [
    "train_df.describe()"
   ]
  },
  {
   "cell_type": "code",
   "execution_count": 21,
   "metadata": {},
   "outputs": [
    {
     "name": "stdout",
     "output_type": "stream",
     "text": [
      "(627, 9) (264, 9)\n"
     ]
    }
   ],
   "source": [
    "print(train_df.shape, eval_df.shape)"
   ]
  },
  {
   "cell_type": "code",
   "execution_count": 22,
   "metadata": {},
   "outputs": [
    {
     "data": {
      "text/plain": [
       "<matplotlib.axes._subplots.AxesSubplot at 0x7f4154670650>"
      ]
     },
     "execution_count": 22,
     "metadata": {},
     "output_type": "execute_result"
    },
    {
     "data": {
      "image/png": "[encoded data removed]",
      "text/plain": [
       "<Figure size 432x288 with 1 Axes>"
      ]
     },
     "metadata": {
      "needs_background": "light"
     },
     "output_type": "display_data"
    }
   ],
   "source": [
    "train_df.age.hist(bins = 20)"
   ]
  },
  {
   "cell_type": "code",
   "execution_count": 23,
   "metadata": {},
   "outputs": [
    {
     "data": {
      "text/plain": [
       "<matplotlib.axes._subplots.AxesSubplot at 0x7f417473f790>"
      ]
     },
     "execution_count": 23,
     "metadata": {},
     "output_type": "execute_result"
    },
    {
     "data": {
      "image/png": "[encoded data removed]",
      "text/plain": [
       "<Figure size 432x288 with 1 Axes>"
      ]
     },
     "metadata": {
      "needs_background": "light"
     },
     "output_type": "display_data"
    }
   ],
   "source": [
    "train_df.sex.value_counts().plot(kind = 'barh') # 横的柱状图用'barh',竖的用'barv'"
   ]
  },
  {
   "cell_type": "code",
   "execution_count": 24,
   "metadata": {},
   "outputs": [
    {
     "data": {
      "text/plain": [
       "<matplotlib.axes._subplots.AxesSubplot at 0x7f417c1375d0>"
      ]
     },
     "execution_count": 24,
     "metadata": {},
     "output_type": "execute_result"
    },
    {
     "data": {
      "image/png": "[encoded data removed]",
      "text/plain": [
       "<Figure size 432x288 with 1 Axes>"
      ]
     },
     "metadata": {
      "needs_background": "light"
     },
     "output_type": "display_data"
    }
   ],
   "source": [
    "train_df['class'].value_counts().plot(kind = 'barh') # 因为class为关键词，所以要通过键的方式取出'class'的值"
   ]
  },
  {
   "cell_type": "code",
   "execution_count": 25,
   "metadata": {},
   "outputs": [
    {
     "data": {
      "text/plain": [
       "<matplotlib.axes._subplots.AxesSubplot at 0x7f4174634290>"
      ]
     },
     "execution_count": 25,
     "metadata": {},
     "output_type": "execute_result"
    },
    {
     "data": {
      "image/png": "[encoded data removed]",
      "text/plain": [
       "<Figure size 432x288 with 1 Axes>"
      ]
     },
     "metadata": {
      "needs_background": "light"
     },
     "output_type": "display_data"
    }
   ],
   "source": [
    "# 统计男性和女性中，分别获救的人数\n",
    "# 因为train_df中含有survived数据，所以设置轴为1\n",
    "# groupby(judge):根据judge来分组\n",
    "# 然后取出survived数据，然后求出均值\n",
    "pd.concat([train_df, y_train], axis = 1).groupby('sex').survived.mean().plot(kind='barh')\n"
   ]
  },
  {
   "cell_type": "code",
   "execution_count": 26,
   "metadata": {},
   "outputs": [
    {
     "name": "stdout",
     "output_type": "stream",
     "text": [
      "sex ['male' 'female']\n",
      "n_siblings_spouses [1 0 3 4 2 5 8]\n",
      "parch [0 1 2 5 3 4]\n",
      "class ['Third' 'First' 'Second']\n",
      "deck ['unknown' 'C' 'G' 'A' 'B' 'D' 'F' 'E']\n",
      "embark_town ['Southampton' 'Cherbourg' 'Queenstown' 'unknown']\n",
      "alone ['n' 'y']\n"
     ]
    },
    {
     "data": {
      "text/plain": [
       "'\\nunique():\\ntf.feature_column.indicator_column()：转换为one_hot编码\\n\\ncategorical_column_with_vocabulary_list（）：\\n\\ntf.feature_column.\\n\\n\\nnumeric_column\\n'"
      ]
     },
     "execution_count": 26,
     "metadata": {},
     "output_type": "execute_result"
    }
   ],
   "source": [
    "# 构建feature column\n",
    "categorical_columns = ['sex', 'n_siblings_spouses', 'parch', 'class',  #离散特征\n",
    "                       'deck', 'embark_town', 'alone']\n",
    "numeric_columns = ['age', 'fare']  #连续特征\n",
    "\n",
    "feature_columns = []\n",
    "for categorical_column in categorical_columns:\n",
    "    vocab = train_df[categorical_column].unique()\n",
    "    print(categorical_column, vocab)\n",
    "    feature_columns.append(\n",
    "        tf.feature_column.indicator_column(\n",
    "            tf.feature_column.categorical_column_with_vocabulary_list(\n",
    "                categorical_column, vocab)))\n",
    "\n",
    "for categorical_column in numeric_columns:\n",
    "    feature_columns.append(\n",
    "        tf.feature_column.numeric_column(\n",
    "            categorical_column, dtype=tf.float32))\n",
    "    \n",
    "'''\n",
    "unique():\n",
    "tf.feature_column.indicator_column()：转换为one_hot编码\n",
    "\n",
    "categorical_column_with_vocabulary_list（）：\n",
    "\n",
    "tf.feature_column.\n",
    "\n",
    "\n",
    "numeric_column\n",
    "'''    "
   ]
  },
  {
   "cell_type": "code",
   "execution_count": 27,
   "metadata": {},
   "outputs": [],
   "source": [
    "# 创建dataset\n",
    "def make_dataset(data_df, label_df, epochs = 10, shuffle = True,\n",
    "                 batch_size = 32):\n",
    "    dataset = tf.data.Dataset.from_tensor_slices(\n",
    "        (dict(data_df), label_df))\n",
    "    if shuffle:\n",
    "        dataset = dataset.shuffle(10000)\n",
    "    dataset = dataset.repeat(epochs).batch(batch_size)\n",
    "    return dataset"
   ]
  },
  {
   "cell_type": "code",
   "execution_count": 28,
   "metadata": {},
   "outputs": [],
   "source": [
    "train_dataset = make_dataset(train_df, y_train, batch_size = 5)"
   ]
  },
  {
   "cell_type": "code",
   "execution_count": 29,
   "metadata": {},
   "outputs": [
    {
     "name": "stdout",
     "output_type": "stream",
     "text": [
      "{'sex': <tf.Tensor: id=218, shape=(5,), dtype=string, numpy=array([b'male', b'male', b'male', b'male', b'male'], dtype=object)>, 'age': <tf.Tensor: id=210, shape=(5,), dtype=float64, numpy=array([36. , 40.5, 19. , 26. , 34.5])>, 'n_siblings_spouses': <tf.Tensor: id=216, shape=(5,), dtype=int32, numpy=array([0, 0, 0, 0, 0], dtype=int32)>, 'parch': <tf.Tensor: id=217, shape=(5,), dtype=int32, numpy=array([0, 2, 0, 0, 0], dtype=int32)>, 'fare': <tf.Tensor: id=215, shape=(5,), dtype=float64, numpy=array([40.125 , 14.5   ,  7.65  , 18.7875,  6.4375])>, 'class': <tf.Tensor: id=212, shape=(5,), dtype=string, numpy=array([b'First', b'Third', b'Third', b'Third', b'Third'], dtype=object)>, 'deck': <tf.Tensor: id=213, shape=(5,), dtype=string, numpy=array([b'A', b'unknown', b'F', b'unknown', b'unknown'], dtype=object)>, 'embark_town': <tf.Tensor: id=214, shape=(5,), dtype=string, numpy=\n",
      "array([b'Cherbourg', b'Southampton', b'Southampton', b'Cherbourg',\n",
      "       b'Cherbourg'], dtype=object)>, 'alone': <tf.Tensor: id=211, shape=(5,), dtype=string, numpy=array([b'y', b'n', b'y', b'y', b'y'], dtype=object)>} tf.Tensor([0 0 0 1 0], shape=(5,), dtype=int32)\n"
     ]
    }
   ],
   "source": [
    "import pprint\n",
    "for x, y in train_dataset.take(1):\n",
    "    print(x, y)"
   ]
  },
  {
   "cell_type": "code",
   "execution_count": 30,
   "metadata": {},
   "outputs": [
    {
     "name": "stdout",
     "output_type": "stream",
     "text": [
      "WARNING:tensorflow:Layer dense_features is casting an input tensor from dtype float64 to the layer's dtype of float32, which is new behavior in TensorFlow 2.  The layer has dtype float32 because it's dtype defaults to floatx.\n",
      "\n",
      "If you intended to run this layer in float32, you can safely ignore this warning. If in doubt, this warning is likely only an issue if you are porting a TensorFlow 1.X model to TensorFlow 2.\n",
      "\n",
      "To change all layers to have dtype float64 by default, call `tf.keras.backend.set_floatx('float64')`. To change just this layer, pass dtype='float64' to the layer constructor. If you are the author of this layer, you can disable autocasting by passing autocast=False to the base Layer constructor.\n",
      "\n",
      "[[62.]\n",
      " [42.]\n",
      " [39.]\n",
      " [40.]\n",
      " [30.]]\n",
      "WARNING:tensorflow:Layer dense_features_1 is casting an input tensor from dtype float64 to the layer's dtype of float32, which is new behavior in TensorFlow 2.  The layer has dtype float32 because it's dtype defaults to floatx.\n",
      "\n",
      "If you intended to run this layer in float32, you can safely ignore this warning. If in doubt, this warning is likely only an issue if you are porting a TensorFlow 1.X model to TensorFlow 2.\n",
      "\n",
      "To change all layers to have dtype float64 by default, call `tf.keras.backend.set_floatx('float64')`. To change just this layer, pass dtype='float64' to the layer constructor. If you are the author of this layer, you can disable autocasting by passing autocast=False to the base Layer constructor.\n",
      "\n",
      "WARNING:tensorflow:From /home/hui/anaconda3/envs/tensorflow1/lib/python3.7/site-packages/tensorflow_core/python/feature_column/feature_column_v2.py:4276: IndicatorColumn._variable_shape (from tensorflow.python.feature_column.feature_column_v2) is deprecated and will be removed in a future version.\n",
      "Instructions for updating:\n",
      "The old _FeatureColumn APIs are being deprecated. Please use the new FeatureColumn APIs instead.\n",
      "WARNING:tensorflow:From /home/hui/anaconda3/envs/tensorflow1/lib/python3.7/site-packages/tensorflow_core/python/feature_column/feature_column_v2.py:4331: VocabularyListCategoricalColumn._num_buckets (from tensorflow.python.feature_column.feature_column_v2) is deprecated and will be removed in a future version.\n",
      "Instructions for updating:\n",
      "The old _FeatureColumn APIs are being deprecated. Please use the new FeatureColumn APIs instead.\n",
      "[[1. 0.]\n",
      " [0. 1.]\n",
      " [1. 0.]\n",
      " [0. 1.]\n",
      " [1. 0.]]\n"
     ]
    }
   ],
   "source": [
    "# keras.layers.DenseFeature\n",
    "# 可以理解feature_column为对数据进行变换的一组规则，DenseFeature可以将这种规则应用到dataset上的每一个元素\n",
    "# keras.layers.DenseFeatures(age_column)(x)：将数据x应用到数据集x上\n",
    "for x, y in train_dataset.take(1):\n",
    "    age_column = feature_columns[7]\n",
    "    gender_column = feature_columns[0]\n",
    "    print(keras.layers.DenseFeatures(age_column)(x).numpy())\n",
    "    print(keras.layers.DenseFeatures(gender_column)(x).numpy())  \n",
    "    # 性别数据原本是字符串（'male', 'female'）,经过feature_column转换后变成了one_hot编码"
   ]
  },
  {
   "cell_type": "code",
   "execution_count": 31,
   "metadata": {},
   "outputs": [
    {
     "name": "stdout",
     "output_type": "stream",
     "text": [
      "WARNING:tensorflow:Layer dense_features_2 is casting an input tensor from dtype float64 to the layer's dtype of float32, which is new behavior in TensorFlow 2.  The layer has dtype float32 because it's dtype defaults to floatx.\n",
      "\n",
      "If you intended to run this layer in float32, you can safely ignore this warning. If in doubt, this warning is likely only an issue if you are porting a TensorFlow 1.X model to TensorFlow 2.\n",
      "\n",
      "To change all layers to have dtype float64 by default, call `tf.keras.backend.set_floatx('float64')`. To change just this layer, pass dtype='float64' to the layer constructor. If you are the author of this layer, you can disable autocasting by passing autocast=False to the base Layer constructor.\n",
      "\n",
      "[[51.    0.    1.    1.    0.    0.    1.    0.    0.    0.    0.    0.\n",
      "   0.    0.    1.    0.    0.    0.    8.05  0.    1.    0.    0.    0.\n",
      "   0.    0.    1.    0.    0.    0.    0.    0.    1.    0.  ]\n",
      " [ 6.    1.    0.    0.    0.    1.    1.    0.    0.    0.    0.    0.\n",
      "   0.    0.    1.    0.    0.    0.   33.    0.    1.    0.    0.    0.\n",
      "   0.    0.    0.    1.    0.    0.    0.    0.    0.    1.  ]\n",
      " [20.    0.    1.    1.    0.    0.    1.    0.    0.    0.    0.    0.\n",
      "   0.    0.    1.    0.    0.    0.    7.05  0.    1.    0.    0.    0.\n",
      "   0.    0.    1.    0.    0.    0.    0.    0.    1.    0.  ]\n",
      " [26.    0.    1.    0.    0.    1.    1.    0.    0.    0.    0.    0.\n",
      "   0.    0.    1.    0.    0.    0.   10.5   0.    1.    0.    0.    0.\n",
      "   0.    0.    1.    0.    0.    0.    0.    0.    1.    0.  ]\n",
      " [24.    0.    1.    0.    0.    1.    1.    0.    0.    0.    0.    0.\n",
      "   0.    0.    1.    0.    0.    0.   13.    0.    1.    0.    0.    0.\n",
      "   0.    0.    1.    0.    0.    0.    0.    0.    1.    0.  ]]\n"
     ]
    }
   ],
   "source": [
    "# 直接使用feature_column对所有数据进行转换\n",
    "for x, y in train_dataset.take(1):\n",
    "    print(keras.layers.DenseFeatures(feature_columns)(x).numpy())"
   ]
  },
  {
   "cell_type": "code",
   "execution_count": 33,
   "metadata": {},
   "outputs": [],
   "source": [
    "# 构建模型  \n",
    "model = keras.models.Sequential([\n",
    "    keras.layers.DenseFeatures(feature_columns),\n",
    "    keras.layers.Dense(100, activation='relu'),\n",
    "    keras.layers.Dense(100, activation='relu'),\n",
    "    keras.layers.Dense(2, activation='softmax'),\n",
    "])\n",
    "model.compile(loss='sparse_categorical_crossentropy',\n",
    "              optimizer = keras.optimizers.SGD(lr=0.01),\n",
    "              metrics = ['accuracy'])\n"
   ]
  },
  {
   "cell_type": "code",
   "execution_count": 34,
   "metadata": {},
   "outputs": [
    {
     "name": "stdout",
     "output_type": "stream",
     "text": [
      "WARNING:tensorflow:Layer sequential_1 is casting an input tensor from dtype float64 to the layer's dtype of float32, which is new behavior in TensorFlow 2.  The layer has dtype float32 because it's dtype defaults to floatx.\n",
      "\n",
      "If you intended to run this layer in float32, you can safely ignore this warning. If in doubt, this warning is likely only an issue if you are porting a TensorFlow 1.X model to TensorFlow 2.\n",
      "\n",
      "To change all layers to have dtype float64 by default, call `tf.keras.backend.set_floatx('float64')`. To change just this layer, pass dtype='float64' to the layer constructor. If you are the author of this layer, you can disable autocasting by passing autocast=False to the base Layer constructor.\n",
      "\n",
      "Train for 20 steps, validate for 8 steps\n",
      "Epoch 1/100\n",
      "20/20 [==============================] - 2s 111ms/step - loss: 2.4919 - accuracy: 0.5922 - val_loss: 0.6895 - val_accuracy: 0.6914\n",
      "Epoch 2/100\n",
      "20/20 [==============================] - 0s 17ms/step - loss: 0.7142 - accuracy: 0.6687 - val_loss: 0.6077 - val_accuracy: 0.6992\n",
      "Epoch 3/100\n",
      "20/20 [==============================] - 0s 16ms/step - loss: 0.6818 - accuracy: 0.6609 - val_loss: 0.6329 - val_accuracy: 0.6953\n",
      "Epoch 4/100\n",
      "20/20 [==============================] - 0s 19ms/step - loss: 0.6553 - accuracy: 0.6641 - val_loss: 0.6042 - val_accuracy: 0.6992\n",
      "Epoch 5/100\n",
      "20/20 [==============================] - 0s 24ms/step - loss: 0.6279 - accuracy: 0.6672 - val_loss: 0.5991 - val_accuracy: 0.6875\n",
      "Epoch 6/100\n",
      "20/20 [==============================] - 0s 18ms/step - loss: 0.6067 - accuracy: 0.7078 - val_loss: 0.5904 - val_accuracy: 0.6953\n",
      "Epoch 7/100\n",
      "20/20 [==============================] - 0s 13ms/step - loss: 0.5956 - accuracy: 0.6938 - val_loss: 0.5908 - val_accuracy: 0.6992\n",
      "Epoch 8/100\n",
      "20/20 [==============================] - 0s 18ms/step - loss: 0.6001 - accuracy: 0.6750 - val_loss: 0.5863 - val_accuracy: 0.6914\n",
      "Epoch 9/100\n",
      "20/20 [==============================] - 0s 21ms/step - loss: 0.6038 - accuracy: 0.6672 - val_loss: 0.5903 - val_accuracy: 0.6797\n",
      "Epoch 10/100\n",
      "20/20 [==============================] - 0s 17ms/step - loss: 0.5823 - accuracy: 0.7047 - val_loss: 0.5834 - val_accuracy: 0.7031\n",
      "Epoch 11/100\n",
      "20/20 [==============================] - 0s 20ms/step - loss: 0.5773 - accuracy: 0.6812 - val_loss: 0.5845 - val_accuracy: 0.6875\n",
      "Epoch 12/100\n",
      "20/20 [==============================] - 1s 26ms/step - loss: 0.5787 - accuracy: 0.7031 - val_loss: 0.5774 - val_accuracy: 0.6953\n",
      "Epoch 13/100\n",
      "20/20 [==============================] - 0s 17ms/step - loss: 0.5951 - accuracy: 0.6969 - val_loss: 0.5794 - val_accuracy: 0.6680\n",
      "Epoch 14/100\n",
      "20/20 [==============================] - 0s 17ms/step - loss: 0.5614 - accuracy: 0.7234 - val_loss: 0.5818 - val_accuracy: 0.7031\n",
      "Epoch 15/100\n",
      "20/20 [==============================] - 0s 19ms/step - loss: 0.5968 - accuracy: 0.6969 - val_loss: 0.5852 - val_accuracy: 0.6758\n",
      "Epoch 16/100\n",
      "20/20 [==============================] - 0s 16ms/step - loss: 0.6013 - accuracy: 0.6844 - val_loss: 0.5756 - val_accuracy: 0.6953\n",
      "Epoch 17/100\n",
      "20/20 [==============================] - 0s 20ms/step - loss: 0.5823 - accuracy: 0.7156 - val_loss: 0.5725 - val_accuracy: 0.6836\n",
      "Epoch 18/100\n",
      "20/20 [==============================] - 0s 20ms/step - loss: 0.5748 - accuracy: 0.7047 - val_loss: 0.5686 - val_accuracy: 0.6953\n",
      "Epoch 19/100\n",
      "20/20 [==============================] - 0s 24ms/step - loss: 0.5632 - accuracy: 0.7250 - val_loss: 0.5932 - val_accuracy: 0.6797\n",
      "Epoch 20/100\n",
      "20/20 [==============================] - 0s 21ms/step - loss: 0.5768 - accuracy: 0.7078 - val_loss: 0.5937 - val_accuracy: 0.6914\n",
      "Epoch 21/100\n",
      "20/20 [==============================] - 0s 20ms/step - loss: 0.5571 - accuracy: 0.7266 - val_loss: 0.5778 - val_accuracy: 0.7031\n",
      "Epoch 22/100\n",
      "20/20 [==============================] - 1s 35ms/step - loss: 0.5582 - accuracy: 0.7219 - val_loss: 0.5615 - val_accuracy: 0.6992\n",
      "Epoch 23/100\n",
      "20/20 [==============================] - 0s 23ms/step - loss: 0.5791 - accuracy: 0.7016 - val_loss: 0.5569 - val_accuracy: 0.6953\n",
      "Epoch 24/100\n",
      "20/20 [==============================] - 0s 15ms/step - loss: 0.5810 - accuracy: 0.7141 - val_loss: 0.5554 - val_accuracy: 0.6914\n",
      "Epoch 25/100\n",
      "20/20 [==============================] - 0s 17ms/step - loss: 0.5713 - accuracy: 0.7328 - val_loss: 0.5697 - val_accuracy: 0.6953\n",
      "Epoch 26/100\n",
      "20/20 [==============================] - 0s 15ms/step - loss: 0.5556 - accuracy: 0.7469 - val_loss: 0.5597 - val_accuracy: 0.6992\n",
      "Epoch 27/100\n",
      "20/20 [==============================] - 0s 18ms/step - loss: 0.5861 - accuracy: 0.7016 - val_loss: 0.5465 - val_accuracy: 0.7188\n",
      "Epoch 28/100\n",
      "20/20 [==============================] - 0s 23ms/step - loss: 0.5591 - accuracy: 0.7312 - val_loss: 0.5592 - val_accuracy: 0.7266\n",
      "Epoch 29/100\n",
      "20/20 [==============================] - 0s 17ms/step - loss: 0.5547 - accuracy: 0.7188 - val_loss: 0.5478 - val_accuracy: 0.7031\n",
      "Epoch 30/100\n",
      "20/20 [==============================] - 1s 26ms/step - loss: 0.5803 - accuracy: 0.7281 - val_loss: 0.5516 - val_accuracy: 0.7070\n",
      "Epoch 31/100\n",
      "20/20 [==============================] - 0s 24ms/step - loss: 0.5524 - accuracy: 0.7250 - val_loss: 0.5508 - val_accuracy: 0.7461\n",
      "Epoch 32/100\n",
      "20/20 [==============================] - 0s 18ms/step - loss: 0.5280 - accuracy: 0.7469 - val_loss: 0.5580 - val_accuracy: 0.7344\n",
      "Epoch 33/100\n",
      "20/20 [==============================] - 0s 23ms/step - loss: 0.5973 - accuracy: 0.6938 - val_loss: 0.6185 - val_accuracy: 0.6680\n",
      "Epoch 34/100\n",
      "20/20 [==============================] - 0s 22ms/step - loss: 0.5538 - accuracy: 0.7281 - val_loss: 0.5572 - val_accuracy: 0.7266\n",
      "Epoch 35/100\n",
      "20/20 [==============================] - 0s 18ms/step - loss: 0.5968 - accuracy: 0.7094 - val_loss: 0.5537 - val_accuracy: 0.7266\n",
      "Epoch 36/100\n",
      "20/20 [==============================] - 0s 21ms/step - loss: 0.5257 - accuracy: 0.7234 - val_loss: 0.5765 - val_accuracy: 0.7070\n",
      "Epoch 37/100\n",
      "20/20 [==============================] - 0s 13ms/step - loss: 0.5889 - accuracy: 0.7031 - val_loss: 0.5350 - val_accuracy: 0.7344\n",
      "Epoch 38/100\n",
      "20/20 [==============================] - 0s 13ms/step - loss: 0.5317 - accuracy: 0.7641 - val_loss: 0.5309 - val_accuracy: 0.7031\n",
      "Epoch 39/100\n",
      "20/20 [==============================] - 0s 15ms/step - loss: 0.5482 - accuracy: 0.7281 - val_loss: 0.5359 - val_accuracy: 0.7188\n",
      "Epoch 40/100\n",
      "20/20 [==============================] - 0s 14ms/step - loss: 0.5900 - accuracy: 0.7016 - val_loss: 0.5554 - val_accuracy: 0.7305\n",
      "Epoch 41/100\n",
      "20/20 [==============================] - 0s 19ms/step - loss: 0.6075 - accuracy: 0.6859 - val_loss: 0.5364 - val_accuracy: 0.7109\n",
      "Epoch 42/100\n",
      "20/20 [==============================] - 0s 14ms/step - loss: 0.5596 - accuracy: 0.7109 - val_loss: 0.5764 - val_accuracy: 0.7188\n",
      "Epoch 43/100\n",
      "20/20 [==============================] - 0s 10ms/step - loss: 0.5350 - accuracy: 0.7484 - val_loss: 0.5461 - val_accuracy: 0.7227\n",
      "Epoch 44/100\n",
      "20/20 [==============================] - 0s 20ms/step - loss: 0.5630 - accuracy: 0.7188 - val_loss: 0.5973 - val_accuracy: 0.7031\n",
      "Epoch 45/100\n",
      "20/20 [==============================] - 0s 22ms/step - loss: 0.5822 - accuracy: 0.7141 - val_loss: 0.5777 - val_accuracy: 0.7031\n",
      "Epoch 46/100\n",
      "20/20 [==============================] - 0s 24ms/step - loss: 0.5336 - accuracy: 0.7547 - val_loss: 0.5453 - val_accuracy: 0.7148\n",
      "Epoch 47/100\n",
      "20/20 [==============================] - 0s 18ms/step - loss: 0.5390 - accuracy: 0.7344 - val_loss: 0.5322 - val_accuracy: 0.7148\n",
      "Epoch 48/100\n",
      "20/20 [==============================] - 0s 18ms/step - loss: 0.5396 - accuracy: 0.7500 - val_loss: 0.5506 - val_accuracy: 0.7188\n",
      "Epoch 49/100\n",
      "20/20 [==============================] - 0s 24ms/step - loss: 0.5620 - accuracy: 0.7281 - val_loss: 0.6111 - val_accuracy: 0.6953\n",
      "Epoch 50/100\n",
      "20/20 [==============================] - 1s 26ms/step - loss: 0.5538 - accuracy: 0.7312 - val_loss: 0.6807 - val_accuracy: 0.6367\n",
      "Epoch 51/100\n",
      "20/20 [==============================] - 0s 21ms/step - loss: 0.5485 - accuracy: 0.7297 - val_loss: 0.5304 - val_accuracy: 0.7227\n",
      "Epoch 52/100\n",
      "20/20 [==============================] - 1s 28ms/step - loss: 0.5322 - accuracy: 0.7359 - val_loss: 0.5194 - val_accuracy: 0.7227\n",
      "Epoch 53/100\n"
     ]
    },
    {
     "name": "stdout",
     "output_type": "stream",
     "text": [
      "20/20 [==============================] - 0s 19ms/step - loss: 0.5346 - accuracy: 0.7469 - val_loss: 0.5500 - val_accuracy: 0.7070\n",
      "Epoch 54/100\n",
      "20/20 [==============================] - 0s 15ms/step - loss: 0.5348 - accuracy: 0.7172 - val_loss: 0.6273 - val_accuracy: 0.6953\n",
      "Epoch 55/100\n",
      "20/20 [==============================] - 0s 12ms/step - loss: 0.5437 - accuracy: 0.7391 - val_loss: 0.5195 - val_accuracy: 0.7070\n",
      "Epoch 56/100\n",
      "20/20 [==============================] - 0s 11ms/step - loss: 0.5384 - accuracy: 0.7359 - val_loss: 0.5058 - val_accuracy: 0.7812\n",
      "Epoch 57/100\n",
      "20/20 [==============================] - 0s 22ms/step - loss: 0.5212 - accuracy: 0.7422 - val_loss: 0.8932 - val_accuracy: 0.4961\n",
      "Epoch 58/100\n",
      "20/20 [==============================] - 0s 17ms/step - loss: 0.5348 - accuracy: 0.7547 - val_loss: 0.5252 - val_accuracy: 0.7305\n",
      "Epoch 59/100\n",
      "20/20 [==============================] - 0s 16ms/step - loss: 0.5243 - accuracy: 0.7625 - val_loss: 0.5262 - val_accuracy: 0.7305\n",
      "Epoch 60/100\n",
      "20/20 [==============================] - 0s 18ms/step - loss: 0.5325 - accuracy: 0.7516 - val_loss: 0.5344 - val_accuracy: 0.7383\n",
      "Epoch 61/100\n",
      "20/20 [==============================] - 0s 18ms/step - loss: 0.5606 - accuracy: 0.7469 - val_loss: 0.5355 - val_accuracy: 0.7227\n",
      "Epoch 62/100\n",
      "20/20 [==============================] - 0s 18ms/step - loss: 0.5496 - accuracy: 0.7359 - val_loss: 0.5636 - val_accuracy: 0.7109\n",
      "Epoch 63/100\n",
      "20/20 [==============================] - 0s 15ms/step - loss: 0.5474 - accuracy: 0.7375 - val_loss: 0.5142 - val_accuracy: 0.7383\n",
      "Epoch 64/100\n",
      "20/20 [==============================] - 0s 13ms/step - loss: 0.5271 - accuracy: 0.7500 - val_loss: 0.5177 - val_accuracy: 0.7266\n",
      "Epoch 65/100\n",
      "20/20 [==============================] - 0s 16ms/step - loss: 0.5383 - accuracy: 0.7453 - val_loss: 0.5288 - val_accuracy: 0.7148\n",
      "Epoch 66/100\n",
      "20/20 [==============================] - 0s 10ms/step - loss: 0.5284 - accuracy: 0.7688 - val_loss: 0.5752 - val_accuracy: 0.6953\n",
      "Epoch 67/100\n",
      "20/20 [==============================] - 0s 8ms/step - loss: 0.5234 - accuracy: 0.7625 - val_loss: 0.5210 - val_accuracy: 0.7188\n",
      "Epoch 68/100\n",
      "20/20 [==============================] - 0s 8ms/step - loss: 0.5800 - accuracy: 0.7109 - val_loss: 0.5163 - val_accuracy: 0.7695\n",
      "Epoch 69/100\n",
      "20/20 [==============================] - 0s 15ms/step - loss: 0.5231 - accuracy: 0.7453 - val_loss: 0.5538 - val_accuracy: 0.6914\n",
      "Epoch 70/100\n",
      "20/20 [==============================] - 0s 16ms/step - loss: 0.5451 - accuracy: 0.7422 - val_loss: 0.5161 - val_accuracy: 0.7500\n",
      "Epoch 71/100\n",
      "20/20 [==============================] - 0s 20ms/step - loss: 0.5148 - accuracy: 0.7578 - val_loss: 0.5081 - val_accuracy: 0.7422\n",
      "Epoch 72/100\n",
      "20/20 [==============================] - 0s 18ms/step - loss: 0.5312 - accuracy: 0.7469 - val_loss: 0.5186 - val_accuracy: 0.6992\n",
      "Epoch 73/100\n",
      "20/20 [==============================] - 0s 16ms/step - loss: 0.5032 - accuracy: 0.7625 - val_loss: 0.5073 - val_accuracy: 0.7344\n",
      "Epoch 74/100\n",
      "20/20 [==============================] - 0s 15ms/step - loss: 0.5326 - accuracy: 0.7500 - val_loss: 0.5999 - val_accuracy: 0.6445\n",
      "Epoch 75/100\n",
      "20/20 [==============================] - 0s 21ms/step - loss: 0.5651 - accuracy: 0.7156 - val_loss: 0.5102 - val_accuracy: 0.7422\n",
      "Epoch 76/100\n",
      "20/20 [==============================] - 0s 16ms/step - loss: 0.5030 - accuracy: 0.7656 - val_loss: 0.5420 - val_accuracy: 0.7188\n",
      "Epoch 77/100\n",
      "20/20 [==============================] - 0s 15ms/step - loss: 0.5037 - accuracy: 0.7766 - val_loss: 0.5448 - val_accuracy: 0.7148\n",
      "Epoch 78/100\n",
      "20/20 [==============================] - 0s 18ms/step - loss: 0.5144 - accuracy: 0.7719 - val_loss: 0.5298 - val_accuracy: 0.7422\n",
      "Epoch 79/100\n",
      "20/20 [==============================] - 0s 18ms/step - loss: 0.5475 - accuracy: 0.7172 - val_loss: 0.5285 - val_accuracy: 0.7422\n",
      "Epoch 80/100\n",
      "20/20 [==============================] - 0s 19ms/step - loss: 0.5388 - accuracy: 0.7500 - val_loss: 0.5037 - val_accuracy: 0.7578\n",
      "Epoch 81/100\n",
      "20/20 [==============================] - 0s 16ms/step - loss: 0.5480 - accuracy: 0.7469 - val_loss: 0.5057 - val_accuracy: 0.7266\n",
      "Epoch 82/100\n",
      "20/20 [==============================] - 0s 12ms/step - loss: 0.5057 - accuracy: 0.7469 - val_loss: 0.5794 - val_accuracy: 0.7188\n",
      "Epoch 83/100\n",
      "20/20 [==============================] - 0s 21ms/step - loss: 0.5335 - accuracy: 0.7625 - val_loss: 0.4967 - val_accuracy: 0.7344\n",
      "Epoch 84/100\n",
      "20/20 [==============================] - 0s 17ms/step - loss: 0.5064 - accuracy: 0.7812 - val_loss: 0.4965 - val_accuracy: 0.7773\n",
      "Epoch 85/100\n",
      "20/20 [==============================] - 0s 16ms/step - loss: 0.5207 - accuracy: 0.7578 - val_loss: 0.5027 - val_accuracy: 0.7422\n",
      "Epoch 86/100\n",
      "20/20 [==============================] - 0s 12ms/step - loss: 0.5657 - accuracy: 0.7219 - val_loss: 0.5177 - val_accuracy: 0.7422\n",
      "Epoch 87/100\n",
      "20/20 [==============================] - 0s 20ms/step - loss: 0.5190 - accuracy: 0.7391 - val_loss: 0.5243 - val_accuracy: 0.7344\n",
      "Epoch 88/100\n",
      "20/20 [==============================] - 0s 19ms/step - loss: 0.5073 - accuracy: 0.7734 - val_loss: 0.5079 - val_accuracy: 0.7617\n",
      "Epoch 89/100\n",
      "20/20 [==============================] - 0s 18ms/step - loss: 0.5384 - accuracy: 0.7406 - val_loss: 0.5336 - val_accuracy: 0.7109\n",
      "Epoch 90/100\n",
      "20/20 [==============================] - 0s 21ms/step - loss: 0.5245 - accuracy: 0.7609 - val_loss: 0.5666 - val_accuracy: 0.6992\n",
      "Epoch 91/100\n",
      "20/20 [==============================] - 0s 13ms/step - loss: 0.5462 - accuracy: 0.7406 - val_loss: 0.4955 - val_accuracy: 0.7383\n",
      "Epoch 92/100\n",
      "20/20 [==============================] - 0s 17ms/step - loss: 0.5369 - accuracy: 0.7469 - val_loss: 0.5918 - val_accuracy: 0.7188\n",
      "Epoch 93/100\n",
      "20/20 [==============================] - 0s 19ms/step - loss: 0.4940 - accuracy: 0.7828 - val_loss: 0.4903 - val_accuracy: 0.7461\n",
      "Epoch 94/100\n",
      "20/20 [==============================] - 0s 19ms/step - loss: 0.5315 - accuracy: 0.7531 - val_loss: 0.5161 - val_accuracy: 0.7266\n",
      "Epoch 95/100\n",
      "20/20 [==============================] - 0s 19ms/step - loss: 0.5060 - accuracy: 0.7531 - val_loss: 0.5585 - val_accuracy: 0.7148\n",
      "Epoch 96/100\n",
      "20/20 [==============================] - 0s 18ms/step - loss: 0.5144 - accuracy: 0.7719 - val_loss: 0.5011 - val_accuracy: 0.7539\n",
      "Epoch 97/100\n",
      "20/20 [==============================] - 0s 17ms/step - loss: 0.5058 - accuracy: 0.7703 - val_loss: 0.6735 - val_accuracy: 0.6758\n",
      "Epoch 98/100\n",
      "20/20 [==============================] - 0s 17ms/step - loss: 0.5599 - accuracy: 0.7484 - val_loss: 0.5008 - val_accuracy: 0.7422\n",
      "Epoch 99/100\n",
      "WARNING:tensorflow:Your input ran out of data; interrupting training. Make sure that your dataset or generator can generate at least `steps_per_epoch * epochs` batches (in this case, 2000 batches). You may need to use the repeat() function when building your dataset.\n",
      " 0/20 [..............................] - ETA: 0s"
     ]
    },
    {
     "ename": "ValueError",
     "evalue": "Empty training data.",
     "output_type": "error",
     "traceback": [
      "\u001b[0;31m---------------------------------------------------------------------------\u001b[0m",
      "\u001b[0;31mValueError\u001b[0m                                Traceback (most recent call last)",
      "\u001b[0;32m<ipython-input-34-451143b2f11a>\u001b[0m in \u001b[0;36m<module>\u001b[0;34m\u001b[0m\n\u001b[1;32m      7\u001b[0m                     \u001b[0msteps_per_epoch\u001b[0m \u001b[0;34m=\u001b[0m \u001b[0;36m20\u001b[0m\u001b[0;34m,\u001b[0m\u001b[0;34m\u001b[0m\u001b[0;34m\u001b[0m\u001b[0m\n\u001b[1;32m      8\u001b[0m                     \u001b[0mvalidation_steps\u001b[0m \u001b[0;34m=\u001b[0m \u001b[0;36m8\u001b[0m\u001b[0;34m,\u001b[0m\u001b[0;34m\u001b[0m\u001b[0;34m\u001b[0m\u001b[0m\n\u001b[0;32m----> 9\u001b[0;31m                     epochs = 100)\n\u001b[0m",
      "\u001b[0;32m~/anaconda3/envs/tensorflow1/lib/python3.7/site-packages/tensorflow_core/python/keras/engine/training.py\u001b[0m in \u001b[0;36mfit\u001b[0;34m(self, x, y, batch_size, epochs, verbose, callbacks, validation_split, validation_data, shuffle, class_weight, sample_weight, initial_epoch, steps_per_epoch, validation_steps, validation_freq, max_queue_size, workers, use_multiprocessing, **kwargs)\u001b[0m\n\u001b[1;32m    726\u001b[0m         \u001b[0mmax_queue_size\u001b[0m\u001b[0;34m=\u001b[0m\u001b[0mmax_queue_size\u001b[0m\u001b[0;34m,\u001b[0m\u001b[0;34m\u001b[0m\u001b[0;34m\u001b[0m\u001b[0m\n\u001b[1;32m    727\u001b[0m         \u001b[0mworkers\u001b[0m\u001b[0;34m=\u001b[0m\u001b[0mworkers\u001b[0m\u001b[0;34m,\u001b[0m\u001b[0;34m\u001b[0m\u001b[0;34m\u001b[0m\u001b[0m\n\u001b[0;32m--> 728\u001b[0;31m         use_multiprocessing=use_multiprocessing)\n\u001b[0m\u001b[1;32m    729\u001b[0m \u001b[0;34m\u001b[0m\u001b[0m\n\u001b[1;32m    730\u001b[0m   def evaluate(self,\n",
      "\u001b[0;32m~/anaconda3/envs/tensorflow1/lib/python3.7/site-packages/tensorflow_core/python/keras/engine/training_v2.py\u001b[0m in \u001b[0;36mfit\u001b[0;34m(self, model, x, y, batch_size, epochs, verbose, callbacks, validation_split, validation_data, shuffle, class_weight, sample_weight, initial_epoch, steps_per_epoch, validation_steps, validation_freq, **kwargs)\u001b[0m\n\u001b[1;32m    322\u001b[0m                 \u001b[0mmode\u001b[0m\u001b[0;34m=\u001b[0m\u001b[0mModeKeys\u001b[0m\u001b[0;34m.\u001b[0m\u001b[0mTRAIN\u001b[0m\u001b[0;34m,\u001b[0m\u001b[0;34m\u001b[0m\u001b[0;34m\u001b[0m\u001b[0m\n\u001b[1;32m    323\u001b[0m                 \u001b[0mtraining_context\u001b[0m\u001b[0;34m=\u001b[0m\u001b[0mtraining_context\u001b[0m\u001b[0;34m,\u001b[0m\u001b[0;34m\u001b[0m\u001b[0;34m\u001b[0m\u001b[0m\n\u001b[0;32m--> 324\u001b[0;31m                 total_epochs=epochs)\n\u001b[0m\u001b[1;32m    325\u001b[0m             \u001b[0mcbks\u001b[0m\u001b[0;34m.\u001b[0m\u001b[0mmake_logs\u001b[0m\u001b[0;34m(\u001b[0m\u001b[0mmodel\u001b[0m\u001b[0;34m,\u001b[0m \u001b[0mepoch_logs\u001b[0m\u001b[0;34m,\u001b[0m \u001b[0mtraining_result\u001b[0m\u001b[0;34m,\u001b[0m \u001b[0mModeKeys\u001b[0m\u001b[0;34m.\u001b[0m\u001b[0mTRAIN\u001b[0m\u001b[0;34m)\u001b[0m\u001b[0;34m\u001b[0m\u001b[0;34m\u001b[0m\u001b[0m\n\u001b[1;32m    326\u001b[0m \u001b[0;34m\u001b[0m\u001b[0m\n",
      "\u001b[0;32m~/anaconda3/envs/tensorflow1/lib/python3.7/site-packages/tensorflow_core/python/keras/engine/training_v2.py\u001b[0m in \u001b[0;36mrun_one_epoch\u001b[0;34m(model, iterator, execution_function, dataset_size, batch_size, strategy, steps_per_epoch, num_samples, mode, training_context, total_epochs)\u001b[0m\n\u001b[1;32m    178\u001b[0m \u001b[0;34m\u001b[0m\u001b[0m\n\u001b[1;32m    179\u001b[0m   \u001b[0;31m# End of an epoch.\u001b[0m\u001b[0;34m\u001b[0m\u001b[0;34m\u001b[0m\u001b[0;34m\u001b[0m\u001b[0m\n\u001b[0;32m--> 180\u001b[0;31m   \u001b[0maggregator\u001b[0m\u001b[0;34m.\u001b[0m\u001b[0mfinalize\u001b[0m\u001b[0;34m(\u001b[0m\u001b[0;34m)\u001b[0m\u001b[0;34m\u001b[0m\u001b[0;34m\u001b[0m\u001b[0m\n\u001b[0m\u001b[1;32m    181\u001b[0m   \u001b[0;32mreturn\u001b[0m \u001b[0maggregator\u001b[0m\u001b[0;34m.\u001b[0m\u001b[0mresults\u001b[0m\u001b[0;34m\u001b[0m\u001b[0;34m\u001b[0m\u001b[0m\n\u001b[1;32m    182\u001b[0m \u001b[0;34m\u001b[0m\u001b[0m\n",
      "\u001b[0;32m~/anaconda3/envs/tensorflow1/lib/python3.7/site-packages/tensorflow_core/python/keras/engine/training_utils.py\u001b[0m in \u001b[0;36mfinalize\u001b[0;34m(self)\u001b[0m\n\u001b[1;32m    138\u001b[0m   \u001b[0;32mdef\u001b[0m \u001b[0mfinalize\u001b[0m\u001b[0;34m(\u001b[0m\u001b[0mself\u001b[0m\u001b[0;34m)\u001b[0m\u001b[0;34m:\u001b[0m\u001b[0;34m\u001b[0m\u001b[0;34m\u001b[0m\u001b[0m\n\u001b[1;32m    139\u001b[0m     \u001b[0;32mif\u001b[0m \u001b[0;32mnot\u001b[0m \u001b[0mself\u001b[0m\u001b[0;34m.\u001b[0m\u001b[0mresults\u001b[0m\u001b[0;34m:\u001b[0m\u001b[0;34m\u001b[0m\u001b[0;34m\u001b[0m\u001b[0m\n\u001b[0;32m--> 140\u001b[0;31m       \u001b[0;32mraise\u001b[0m \u001b[0mValueError\u001b[0m\u001b[0;34m(\u001b[0m\u001b[0;34m'Empty training data.'\u001b[0m\u001b[0;34m)\u001b[0m\u001b[0;34m\u001b[0m\u001b[0;34m\u001b[0m\u001b[0m\n\u001b[0m\u001b[1;32m    141\u001b[0m     \u001b[0mself\u001b[0m\u001b[0;34m.\u001b[0m\u001b[0mresults\u001b[0m\u001b[0;34m[\u001b[0m\u001b[0;36m0\u001b[0m\u001b[0;34m]\u001b[0m \u001b[0;34m/=\u001b[0m \u001b[0;34m(\u001b[0m\u001b[0mself\u001b[0m\u001b[0;34m.\u001b[0m\u001b[0mnum_samples\u001b[0m \u001b[0;32mor\u001b[0m \u001b[0mself\u001b[0m\u001b[0;34m.\u001b[0m\u001b[0msteps\u001b[0m\u001b[0;34m)\u001b[0m\u001b[0;34m\u001b[0m\u001b[0;34m\u001b[0m\u001b[0m\n\u001b[1;32m    142\u001b[0m \u001b[0;34m\u001b[0m\u001b[0m\n",
      "\u001b[0;31mValueError\u001b[0m: Empty training data."
     ]
    }
   ],
   "source": [
    "#常规fit\n",
    "\n",
    "train_dataset = make_dataset(train_df, y_train, epochs = 100)\n",
    "eval_dataset = make_dataset(eval_df, y_eval, epochs = 1, shuffle = False)\n",
    "history = model.fit(train_dataset,\n",
    "                    validation_data = eval_dataset,\n",
    "                    steps_per_epoch = 20,\n",
    "                    validation_steps = 8,\n",
    "                    epochs = 100)"
   ]
  },
  {
   "cell_type": "code",
   "execution_count": 35,
   "metadata": {},
   "outputs": [
    {
     "name": "stdout",
     "output_type": "stream",
     "text": [
      "INFO:tensorflow:Using default config.\n",
      "WARNING:tensorflow:Using temporary folder as model directory: /tmp/tmp3puct7vv\n",
      "INFO:tensorflow:Using the Keras model provided.\n",
      "WARNING:tensorflow:You are creating an Estimator from a Keras model manually subclassed from `Model`, that was already called on some inputs (and thus already had weights). We are currently unable to preserve the model's state (its weights) as part of the estimator in this case. Be warned that the estimator has been created using a freshly initialized version of your model.\n",
      "Note that this doesn't affect the state of the model instance you passed as `keras_model` argument.\n",
      "INFO:tensorflow:Using config: {'_model_dir': '/tmp/tmp3puct7vv', '_tf_random_seed': None, '_save_summary_steps': 100, '_save_checkpoints_steps': None, '_save_checkpoints_secs': 600, '_session_config': allow_soft_placement: true\n",
      "graph_options {\n",
      "  rewrite_options {\n",
      "    meta_optimizer_iterations: ONE\n",
      "  }\n",
      "}\n",
      ", '_keep_checkpoint_max': 5, '_keep_checkpoint_every_n_hours': 10000, '_log_step_count_steps': 100, '_train_distribute': None, '_device_fn': None, '_protocol': None, '_eval_distribute': None, '_experimental_distribute': None, '_experimental_max_worker_delay_secs': None, '_session_creation_timeout_secs': 7200, '_service': None, '_cluster_spec': <tensorflow.python.training.server_lib.ClusterSpec object at 0x7f40d9e56f10>, '_task_type': 'worker', '_task_id': 0, '_global_id_in_cluster': 0, '_master': '', '_evaluation_master': '', '_is_chief': True, '_num_ps_replicas': 0, '_num_worker_replicas': 1}\n",
      "WARNING:tensorflow:From /home/hui/anaconda3/envs/tensorflow1/lib/python3.7/site-packages/tensorflow_core/python/ops/resource_variable_ops.py:1630: calling BaseResourceVariable.__init__ (from tensorflow.python.ops.resource_variable_ops) with constraint is deprecated and will be removed in a future version.\n",
      "Instructions for updating:\n",
      "If using Keras pass *_constraint arguments to layers.\n",
      "WARNING:tensorflow:From /home/hui/anaconda3/envs/tensorflow1/lib/python3.7/site-packages/tensorflow_core/python/training/training_util.py:236: Variable.initialized_value (from tensorflow.python.ops.variables) is deprecated and will be removed in a future version.\n",
      "Instructions for updating:\n",
      "Use Variable.read_value. Variables in 2.X are initialized automatically both in eager and graph (inside tf.defun) contexts.\n",
      "INFO:tensorflow:Calling model_fn.\n"
     ]
    },
    {
     "ename": "ValueError",
     "evalue": "Unexpectedly found an instance of type `<class 'dict'>`. Expected a symbolic tensor instance.",
     "output_type": "error",
     "traceback": [
      "\u001b[0;31m---------------------------------------------------------------------------\u001b[0m",
      "\u001b[0;31mValueError\u001b[0m                                Traceback (most recent call last)",
      "\u001b[0;32m<ipython-input-35-e32123d7d443>\u001b[0m in \u001b[0;36m<module>\u001b[0;34m\u001b[0m\n\u001b[1;32m      3\u001b[0m \u001b[0;31m# 1. function\u001b[0m\u001b[0;34m\u001b[0m\u001b[0;34m\u001b[0m\u001b[0;34m\u001b[0m\u001b[0m\n\u001b[1;32m      4\u001b[0m \u001b[0;31m# 2. return a. (features, labels) b. dataset -> (feature, label)\u001b[0m\u001b[0;34m\u001b[0m\u001b[0;34m\u001b[0m\u001b[0;34m\u001b[0m\u001b[0m\n\u001b[0;32m----> 5\u001b[0;31m estimator.train(input_fn = lambda : make_dataset(  # 通过lambda函数对make_dataset()进行封装，\n\u001b[0m\u001b[1;32m      6\u001b[0m     train_df, y_train, epochs=100))\n\u001b[1;32m      7\u001b[0m \u001b[0;34m\u001b[0m\u001b[0m\n",
      "\u001b[0;32m~/anaconda3/envs/tensorflow1/lib/python3.7/site-packages/tensorflow_estimator/python/estimator/estimator.py\u001b[0m in \u001b[0;36mtrain\u001b[0;34m(self, input_fn, hooks, steps, max_steps, saving_listeners)\u001b[0m\n\u001b[1;32m    368\u001b[0m \u001b[0;34m\u001b[0m\u001b[0m\n\u001b[1;32m    369\u001b[0m       \u001b[0msaving_listeners\u001b[0m \u001b[0;34m=\u001b[0m \u001b[0m_check_listeners_type\u001b[0m\u001b[0;34m(\u001b[0m\u001b[0msaving_listeners\u001b[0m\u001b[0;34m)\u001b[0m\u001b[0;34m\u001b[0m\u001b[0;34m\u001b[0m\u001b[0m\n\u001b[0;32m--> 370\u001b[0;31m       \u001b[0mloss\u001b[0m \u001b[0;34m=\u001b[0m \u001b[0mself\u001b[0m\u001b[0;34m.\u001b[0m\u001b[0m_train_model\u001b[0m\u001b[0;34m(\u001b[0m\u001b[0minput_fn\u001b[0m\u001b[0;34m,\u001b[0m \u001b[0mhooks\u001b[0m\u001b[0;34m,\u001b[0m \u001b[0msaving_listeners\u001b[0m\u001b[0;34m)\u001b[0m\u001b[0;34m\u001b[0m\u001b[0;34m\u001b[0m\u001b[0m\n\u001b[0m\u001b[1;32m    371\u001b[0m       \u001b[0mlogging\u001b[0m\u001b[0;34m.\u001b[0m\u001b[0minfo\u001b[0m\u001b[0;34m(\u001b[0m\u001b[0;34m'Loss for final step: %s.'\u001b[0m\u001b[0;34m,\u001b[0m \u001b[0mloss\u001b[0m\u001b[0;34m)\u001b[0m\u001b[0;34m\u001b[0m\u001b[0;34m\u001b[0m\u001b[0m\n\u001b[1;32m    372\u001b[0m       \u001b[0;32mreturn\u001b[0m \u001b[0mself\u001b[0m\u001b[0;34m\u001b[0m\u001b[0;34m\u001b[0m\u001b[0m\n",
      "\u001b[0;32m~/anaconda3/envs/tensorflow1/lib/python3.7/site-packages/tensorflow_estimator/python/estimator/estimator.py\u001b[0m in \u001b[0;36m_train_model\u001b[0;34m(self, input_fn, hooks, saving_listeners)\u001b[0m\n\u001b[1;32m   1158\u001b[0m       \u001b[0;32mreturn\u001b[0m \u001b[0mself\u001b[0m\u001b[0;34m.\u001b[0m\u001b[0m_train_model_distributed\u001b[0m\u001b[0;34m(\u001b[0m\u001b[0minput_fn\u001b[0m\u001b[0;34m,\u001b[0m \u001b[0mhooks\u001b[0m\u001b[0;34m,\u001b[0m \u001b[0msaving_listeners\u001b[0m\u001b[0;34m)\u001b[0m\u001b[0;34m\u001b[0m\u001b[0;34m\u001b[0m\u001b[0m\n\u001b[1;32m   1159\u001b[0m     \u001b[0;32melse\u001b[0m\u001b[0;34m:\u001b[0m\u001b[0;34m\u001b[0m\u001b[0;34m\u001b[0m\u001b[0m\n\u001b[0;32m-> 1160\u001b[0;31m       \u001b[0;32mreturn\u001b[0m \u001b[0mself\u001b[0m\u001b[0;34m.\u001b[0m\u001b[0m_train_model_default\u001b[0m\u001b[0;34m(\u001b[0m\u001b[0minput_fn\u001b[0m\u001b[0;34m,\u001b[0m \u001b[0mhooks\u001b[0m\u001b[0;34m,\u001b[0m \u001b[0msaving_listeners\u001b[0m\u001b[0;34m)\u001b[0m\u001b[0;34m\u001b[0m\u001b[0;34m\u001b[0m\u001b[0m\n\u001b[0m\u001b[1;32m   1161\u001b[0m \u001b[0;34m\u001b[0m\u001b[0m\n\u001b[1;32m   1162\u001b[0m   \u001b[0;32mdef\u001b[0m \u001b[0m_train_model_default\u001b[0m\u001b[0;34m(\u001b[0m\u001b[0mself\u001b[0m\u001b[0;34m,\u001b[0m \u001b[0minput_fn\u001b[0m\u001b[0;34m,\u001b[0m \u001b[0mhooks\u001b[0m\u001b[0;34m,\u001b[0m \u001b[0msaving_listeners\u001b[0m\u001b[0;34m)\u001b[0m\u001b[0;34m:\u001b[0m\u001b[0;34m\u001b[0m\u001b[0;34m\u001b[0m\u001b[0m\n",
      "\u001b[0;32m~/anaconda3/envs/tensorflow1/lib/python3.7/site-packages/tensorflow_estimator/python/estimator/estimator.py\u001b[0m in \u001b[0;36m_train_model_default\u001b[0;34m(self, input_fn, hooks, saving_listeners)\u001b[0m\n\u001b[1;32m   1188\u001b[0m       \u001b[0mworker_hooks\u001b[0m\u001b[0;34m.\u001b[0m\u001b[0mextend\u001b[0m\u001b[0;34m(\u001b[0m\u001b[0minput_hooks\u001b[0m\u001b[0;34m)\u001b[0m\u001b[0;34m\u001b[0m\u001b[0;34m\u001b[0m\u001b[0m\n\u001b[1;32m   1189\u001b[0m       estimator_spec = self._call_model_fn(\n\u001b[0;32m-> 1190\u001b[0;31m           features, labels, ModeKeys.TRAIN, self.config)\n\u001b[0m\u001b[1;32m   1191\u001b[0m       \u001b[0mglobal_step_tensor\u001b[0m \u001b[0;34m=\u001b[0m \u001b[0mtraining_util\u001b[0m\u001b[0;34m.\u001b[0m\u001b[0mget_global_step\u001b[0m\u001b[0;34m(\u001b[0m\u001b[0mg\u001b[0m\u001b[0;34m)\u001b[0m\u001b[0;34m\u001b[0m\u001b[0;34m\u001b[0m\u001b[0m\n\u001b[1;32m   1192\u001b[0m       return self._train_with_estimator_spec(estimator_spec, worker_hooks,\n",
      "\u001b[0;32m~/anaconda3/envs/tensorflow1/lib/python3.7/site-packages/tensorflow_estimator/python/estimator/estimator.py\u001b[0m in \u001b[0;36m_call_model_fn\u001b[0;34m(self, features, labels, mode, config)\u001b[0m\n\u001b[1;32m   1146\u001b[0m \u001b[0;34m\u001b[0m\u001b[0m\n\u001b[1;32m   1147\u001b[0m     \u001b[0mlogging\u001b[0m\u001b[0;34m.\u001b[0m\u001b[0minfo\u001b[0m\u001b[0;34m(\u001b[0m\u001b[0;34m'Calling model_fn.'\u001b[0m\u001b[0;34m)\u001b[0m\u001b[0;34m\u001b[0m\u001b[0;34m\u001b[0m\u001b[0m\n\u001b[0;32m-> 1148\u001b[0;31m     \u001b[0mmodel_fn_results\u001b[0m \u001b[0;34m=\u001b[0m \u001b[0mself\u001b[0m\u001b[0;34m.\u001b[0m\u001b[0m_model_fn\u001b[0m\u001b[0;34m(\u001b[0m\u001b[0mfeatures\u001b[0m\u001b[0;34m=\u001b[0m\u001b[0mfeatures\u001b[0m\u001b[0;34m,\u001b[0m \u001b[0;34m**\u001b[0m\u001b[0mkwargs\u001b[0m\u001b[0;34m)\u001b[0m\u001b[0;34m\u001b[0m\u001b[0;34m\u001b[0m\u001b[0m\n\u001b[0m\u001b[1;32m   1149\u001b[0m     \u001b[0mlogging\u001b[0m\u001b[0;34m.\u001b[0m\u001b[0minfo\u001b[0m\u001b[0;34m(\u001b[0m\u001b[0;34m'Done calling model_fn.'\u001b[0m\u001b[0;34m)\u001b[0m\u001b[0;34m\u001b[0m\u001b[0;34m\u001b[0m\u001b[0m\n\u001b[1;32m   1150\u001b[0m \u001b[0;34m\u001b[0m\u001b[0m\n",
      "\u001b[0;32m~/anaconda3/envs/tensorflow1/lib/python3.7/site-packages/tensorflow_estimator/python/estimator/keras.py\u001b[0m in \u001b[0;36mmodel_fn\u001b[0;34m(features, labels, mode)\u001b[0m\n\u001b[1;32m    286\u001b[0m         \u001b[0mfeatures\u001b[0m\u001b[0;34m=\u001b[0m\u001b[0mfeatures\u001b[0m\u001b[0;34m,\u001b[0m\u001b[0;34m\u001b[0m\u001b[0;34m\u001b[0m\u001b[0m\n\u001b[1;32m    287\u001b[0m         \u001b[0mlabels\u001b[0m\u001b[0;34m=\u001b[0m\u001b[0mlabels\u001b[0m\u001b[0;34m,\u001b[0m\u001b[0;34m\u001b[0m\u001b[0;34m\u001b[0m\u001b[0m\n\u001b[0;32m--> 288\u001b[0;31m         optimizer_config=optimizer_config)\n\u001b[0m\u001b[1;32m    289\u001b[0m     \u001b[0mmodel_output_names\u001b[0m \u001b[0;34m=\u001b[0m \u001b[0;34m[\u001b[0m\u001b[0;34m]\u001b[0m\u001b[0;34m\u001b[0m\u001b[0;34m\u001b[0m\u001b[0m\n\u001b[1;32m    290\u001b[0m     \u001b[0;31m# We need to make sure that the output names of the last layer in the model\u001b[0m\u001b[0;34m\u001b[0m\u001b[0;34m\u001b[0m\u001b[0;34m\u001b[0m\u001b[0m\n",
      "\u001b[0;32m~/anaconda3/envs/tensorflow1/lib/python3.7/site-packages/tensorflow_estimator/python/estimator/keras.py\u001b[0m in \u001b[0;36m_clone_and_build_model\u001b[0;34m(mode, keras_model, custom_objects, features, labels, optimizer_config)\u001b[0m\n\u001b[1;32m    225\u001b[0m       \u001b[0min_place_reset\u001b[0m\u001b[0;34m=\u001b[0m\u001b[0;34m(\u001b[0m\u001b[0;32mnot\u001b[0m \u001b[0mkeras_model\u001b[0m\u001b[0;34m.\u001b[0m\u001b[0m_is_graph_network\u001b[0m\u001b[0;34m)\u001b[0m\u001b[0;34m,\u001b[0m\u001b[0;34m\u001b[0m\u001b[0;34m\u001b[0m\u001b[0m\n\u001b[1;32m    226\u001b[0m       \u001b[0moptimizer_iterations\u001b[0m\u001b[0;34m=\u001b[0m\u001b[0mglobal_step\u001b[0m\u001b[0;34m,\u001b[0m\u001b[0;34m\u001b[0m\u001b[0;34m\u001b[0m\u001b[0m\n\u001b[0;32m--> 227\u001b[0;31m       optimizer_config=optimizer_config)\n\u001b[0m\u001b[1;32m    228\u001b[0m \u001b[0;34m\u001b[0m\u001b[0m\n\u001b[1;32m    229\u001b[0m   \u001b[0;32mif\u001b[0m \u001b[0msample_weight_tensors\u001b[0m \u001b[0;32mis\u001b[0m \u001b[0;32mnot\u001b[0m \u001b[0;32mNone\u001b[0m\u001b[0;34m:\u001b[0m\u001b[0;34m\u001b[0m\u001b[0;34m\u001b[0m\u001b[0m\n",
      "\u001b[0;32m~/anaconda3/envs/tensorflow1/lib/python3.7/site-packages/tensorflow_core/python/keras/models.py\u001b[0m in \u001b[0;36mclone_and_build_model\u001b[0;34m(model, input_tensors, target_tensors, custom_objects, compile_clone, in_place_reset, optimizer_iterations, optimizer_config)\u001b[0m\n\u001b[1;32m    632\u001b[0m         \u001b[0mclone\u001b[0m \u001b[0;34m=\u001b[0m \u001b[0mclone_model\u001b[0m\u001b[0;34m(\u001b[0m\u001b[0mmodel\u001b[0m\u001b[0;34m,\u001b[0m \u001b[0minput_tensors\u001b[0m\u001b[0;34m=\u001b[0m\u001b[0minput_tensors\u001b[0m\u001b[0;34m)\u001b[0m\u001b[0;34m\u001b[0m\u001b[0;34m\u001b[0m\u001b[0m\n\u001b[1;32m    633\u001b[0m     \u001b[0;32melse\u001b[0m\u001b[0;34m:\u001b[0m\u001b[0;34m\u001b[0m\u001b[0;34m\u001b[0m\u001b[0m\n\u001b[0;32m--> 634\u001b[0;31m       \u001b[0mclone\u001b[0m \u001b[0;34m=\u001b[0m \u001b[0mclone_model\u001b[0m\u001b[0;34m(\u001b[0m\u001b[0mmodel\u001b[0m\u001b[0;34m,\u001b[0m \u001b[0minput_tensors\u001b[0m\u001b[0;34m=\u001b[0m\u001b[0minput_tensors\u001b[0m\u001b[0;34m)\u001b[0m\u001b[0;34m\u001b[0m\u001b[0;34m\u001b[0m\u001b[0m\n\u001b[0m\u001b[1;32m    635\u001b[0m \u001b[0;34m\u001b[0m\u001b[0m\n\u001b[1;32m    636\u001b[0m     if all([isinstance(clone, Sequential),\n",
      "\u001b[0;32m~/anaconda3/envs/tensorflow1/lib/python3.7/site-packages/tensorflow_core/python/keras/models.py\u001b[0m in \u001b[0;36mclone_model\u001b[0;34m(model, input_tensors, clone_function)\u001b[0m\n\u001b[1;32m    417\u001b[0m   \u001b[0;32mif\u001b[0m \u001b[0misinstance\u001b[0m\u001b[0;34m(\u001b[0m\u001b[0mmodel\u001b[0m\u001b[0;34m,\u001b[0m \u001b[0mSequential\u001b[0m\u001b[0;34m)\u001b[0m\u001b[0;34m:\u001b[0m\u001b[0;34m\u001b[0m\u001b[0;34m\u001b[0m\u001b[0m\n\u001b[1;32m    418\u001b[0m     return _clone_sequential_model(\n\u001b[0;32m--> 419\u001b[0;31m         model, input_tensors=input_tensors, layer_fn=clone_function)\n\u001b[0m\u001b[1;32m    420\u001b[0m   \u001b[0;32melse\u001b[0m\u001b[0;34m:\u001b[0m\u001b[0;34m\u001b[0m\u001b[0;34m\u001b[0m\u001b[0m\n\u001b[1;32m    421\u001b[0m     return _clone_functional_model(\n",
      "\u001b[0;32m~/anaconda3/envs/tensorflow1/lib/python3.7/site-packages/tensorflow_core/python/keras/models.py\u001b[0m in \u001b[0;36m_clone_sequential_model\u001b[0;34m(model, input_tensors, layer_fn)\u001b[0m\n\u001b[1;32m    336\u001b[0m       \u001b[0minput_tensors\u001b[0m \u001b[0;34m=\u001b[0m \u001b[0mlist\u001b[0m\u001b[0;34m(\u001b[0m\u001b[0minput_tensors\u001b[0m\u001b[0;34m)\u001b[0m\u001b[0;34m\u001b[0m\u001b[0;34m\u001b[0m\u001b[0m\n\u001b[1;32m    337\u001b[0m     \u001b[0mx\u001b[0m \u001b[0;34m=\u001b[0m \u001b[0mgeneric_utils\u001b[0m\u001b[0;34m.\u001b[0m\u001b[0mto_list\u001b[0m\u001b[0;34m(\u001b[0m\u001b[0minput_tensors\u001b[0m\u001b[0;34m)\u001b[0m\u001b[0;34m[\u001b[0m\u001b[0;36m0\u001b[0m\u001b[0;34m]\u001b[0m\u001b[0;34m\u001b[0m\u001b[0;34m\u001b[0m\u001b[0m\n\u001b[0;32m--> 338\u001b[0;31m     \u001b[0;32mif\u001b[0m \u001b[0mK\u001b[0m\u001b[0;34m.\u001b[0m\u001b[0mis_keras_tensor\u001b[0m\u001b[0;34m(\u001b[0m\u001b[0mx\u001b[0m\u001b[0;34m)\u001b[0m\u001b[0;34m:\u001b[0m\u001b[0;34m\u001b[0m\u001b[0;34m\u001b[0m\u001b[0m\n\u001b[0m\u001b[1;32m    339\u001b[0m       \u001b[0morigin_layer\u001b[0m \u001b[0;34m=\u001b[0m \u001b[0mx\u001b[0m\u001b[0;34m.\u001b[0m\u001b[0m_keras_history\u001b[0m\u001b[0;34m.\u001b[0m\u001b[0mlayer\u001b[0m\u001b[0;34m\u001b[0m\u001b[0;34m\u001b[0m\u001b[0m\n\u001b[1;32m    340\u001b[0m       \u001b[0;32mif\u001b[0m \u001b[0misinstance\u001b[0m\u001b[0;34m(\u001b[0m\u001b[0morigin_layer\u001b[0m\u001b[0;34m,\u001b[0m \u001b[0mInputLayer\u001b[0m\u001b[0;34m)\u001b[0m\u001b[0;34m:\u001b[0m\u001b[0;34m\u001b[0m\u001b[0;34m\u001b[0m\u001b[0m\n",
      "\u001b[0;32m~/anaconda3/envs/tensorflow1/lib/python3.7/site-packages/tensorflow_core/python/keras/backend.py\u001b[0m in \u001b[0;36mis_keras_tensor\u001b[0;34m(x)\u001b[0m\n\u001b[1;32m    985\u001b[0m                         sparse_tensor.SparseTensor)):\n\u001b[1;32m    986\u001b[0m     raise ValueError('Unexpectedly found an instance of type `' + str(type(x)) +\n\u001b[0;32m--> 987\u001b[0;31m                      '`. Expected a symbolic tensor instance.')\n\u001b[0m\u001b[1;32m    988\u001b[0m   \u001b[0;32mreturn\u001b[0m \u001b[0mhasattr\u001b[0m\u001b[0;34m(\u001b[0m\u001b[0mx\u001b[0m\u001b[0;34m,\u001b[0m \u001b[0;34m'_keras_history'\u001b[0m\u001b[0;34m)\u001b[0m\u001b[0;34m\u001b[0m\u001b[0;34m\u001b[0m\u001b[0m\n\u001b[1;32m    989\u001b[0m \u001b[0;34m\u001b[0m\u001b[0m\n",
      "\u001b[0;31mValueError\u001b[0m: Unexpectedly found an instance of type `<class 'dict'>`. Expected a symbolic tensor instance."
     ]
    }
   ],
   "source": [
    "# 将模型转化为estimator后训练\n",
    "estimator = keras.estimator.model_to_estimator(model)\n",
    "# 1. function\n",
    "# 2. return a. (features, labels) b. dataset -> (feature, label)\n",
    "estimator.train(input_fn = lambda : make_dataset(  # 通过lambda函数对make_dataset()进行封装，\n",
    "    train_df, y_train, epochs=100))\n",
    "\n",
    "'''\n",
    "estimator.train(input_fn = func)\n",
    "参数是一个函数，这个函数不能有参数；\n",
    "返回值需要是一个元组（列表也可以？），其格式为（feature,label）或者数据集（数据集内的元素也要是feature,label）格式）\n",
    "\n",
    "\n",
    "'''"
   ]
  },
  {
   "cell_type": "code",
   "execution_count": 1,
   "metadata": {},
   "outputs": [
    {
     "name": "stdout",
     "output_type": "stream",
     "text": [
      "[name: \"/device:CPU:0\"\n",
      "device_type: \"CPU\"\n",
      "memory_limit: 268435456\n",
      "locality {\n",
      "}\n",
      "incarnation: 9867395276961898360\n",
      ", name: \"/device:XLA_CPU:0\"\n",
      "device_type: \"XLA_CPU\"\n",
      "memory_limit: 17179869184\n",
      "locality {\n",
      "}\n",
      "incarnation: 17014634552032383916\n",
      "physical_device_desc: \"device: XLA_CPU device\"\n",
      "]\n"
     ]
    }
   ],
   "source": [
    "\n",
    "import os\n",
    "from tensorflow.python.client import device_lib\n",
    "os.environ[\"TF_CPP_MIN_LOG_LEVEL\"] = \"99\"\n",
    " \n",
    "if __name__ == \"__main__\":\n",
    "    print(device_lib.list_local_devices())\n"
   ]
  }
 ],
 "metadata": {
  "kernelspec": {
   "display_name": "tf_gpu",
   "language": "python",
   "name": "tf_gpu"
  },
  "language_info": {
   "codemirror_mode": {
    "name": "ipython",
    "version": 3
   },
   "file_extension": ".py",
   "mimetype": "text/x-python",
   "name": "python",
   "nbconvert_exporter": "python",
   "pygments_lexer": "ipython3",
   "version": "3.7.7"
  },
  "toc": {
   "base_numbering": 1,
   "nav_menu": {},
   "number_sections": false,
   "sideBar": true,
   "skip_h1_title": false,
   "title_cell": "Table of Contents",
   "title_sidebar": "Contents",
   "toc_cell": false,
   "toc_position": {},
   "toc_section_display": true,
   "toc_window_display": true
  }
 },
 "nbformat": 4,
 "nbformat_minor": 2
}
