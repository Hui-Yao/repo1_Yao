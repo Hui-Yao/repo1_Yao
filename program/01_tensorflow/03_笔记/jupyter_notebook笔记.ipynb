{
 "cells": [
  {
   "cell_type": "markdown",
   "metadata": {},
   "source": [
    "# 1. 如何在jupyter中显示图片？\n",
    "   <font color = red>方法1：通过matplotlib模块</font>、\n",
    "   \n",
    "    import matplotlib.pyplot as plt\n",
    "    a=plt.imread('图片路径')\n",
    "    plt.imshow(a)\n",
    "    或者\n",
    "    plt.imshow(plt.imread('图片路径'))\n",
    "   <font color = red>方法2：通过IPython.display</font>\n",
    "   \n",
    "   from IPython.display import display,Image.Audio,HTML\n",
    "   Image('图片路径'，width = num)"
   ]
  },
  {
   "cell_type": "markdown",
   "metadata": {},
   "source": [
    "# 2. 如何在jupyter中指定文字格式？\n",
    "    <font color =red size = 5  >内容</font>"
   ]
  },
  {
   "cell_type": "markdown",
   "metadata": {},
   "source": [
    "# 3. 如何开头空格\n",
    "    半方大的空白&ensp;或&#8194;\n",
    "    全方大的空白&emsp;或&#8195;\n",
    "    不断行的空白格&nbsp;或&#160;"
   ]
  },
  {
   "cell_type": "code",
   "execution_count": null,
   "metadata": {},
   "outputs": [],
   "source": []
  }
 ],
 "metadata": {
  "kernelspec": {
   "display_name": "Python 3",
   "language": "python",
   "name": "python3"
  },
  "language_info": {
   "codemirror_mode": {
    "name": "ipython",
    "version": 3
   },
   "file_extension": ".py",
   "mimetype": "text/x-python",
   "name": "python",
   "nbconvert_exporter": "python",
   "pygments_lexer": "ipython3",
   "version": "3.7.4"
  },
  "toc": {
   "base_numbering": 1,
   "nav_menu": {},
   "number_sections": false,
   "sideBar": true,
   "skip_h1_title": false,
   "title_cell": "Table of Contents",
   "title_sidebar": "Contents",
   "toc_cell": false,
   "toc_position": {},
   "toc_section_display": true,
   "toc_window_display": true
  }
 },
 "nbformat": 4,
 "nbformat_minor": 2
}
