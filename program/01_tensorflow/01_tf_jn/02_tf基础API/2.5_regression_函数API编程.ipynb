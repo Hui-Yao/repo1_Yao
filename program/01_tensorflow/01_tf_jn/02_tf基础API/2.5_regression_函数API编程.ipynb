{
 "cells": [
  {
   "cell_type": "code",
   "execution_count": 8,
   "metadata": {},
   "outputs": [],
   "source": [
    "#导入包\n",
    "from sklearn.datasets import fetch_california_housing\n",
    "from sklearn.model_selection import train_test_split\n",
    "from sklearn.preprocessing import StandardScaler\n",
    "import numpy as np\n",
    "import pandas as pd\n",
    "from matplotlib import pyplot as plt\n",
    "import tensorflow as tf\n",
    "from tensorflow import keras\n"
   ]
  },
  {
   "cell_type": "code",
   "execution_count": 9,
   "metadata": {},
   "outputs": [],
   "source": [
    "#分成数据集和测试集\n",
    "housing = fetch_california_housing()\n",
    "# print(housing.data.shape)\n",
    "\n",
    "x_train_all, x_test_raw, y_train_all, y_test = train_test_split(\n",
    "    housing.data, housing.target, random_state = 7)\n",
    "x_train_raw, x_valid_raw, y_train, y_valid = train_test_split(\n",
    "    x_train_all, y_train_all, random_state = 11)\n",
    "\n",
    "#对数据进行标准化处理\n",
    "sca = StandardScaler()\n",
    "x_train = sca.fit_transform(x_train_raw)\n",
    "x_valid = sca.transform(x_valid_raw)\n",
    "x_test = sca.transform(x_test_raw)\n"
   ]
  },
  {
   "cell_type": "code",
   "execution_count": 24,
   "metadata": {},
   "outputs": [
    {
     "name": "stdout",
     "output_type": "stream",
     "text": [
      "Tensor(\"concatenate_8/Identity:0\", shape=(None, 38), dtype=float32)\n",
      "Train on 11610 samples, validate on 3870 samples\n",
      "Epoch 1/10\n",
      "11610/11610 [==============================] - 2s 149us/sample - loss: 1.2491 - val_loss: 0.6289\n",
      "Epoch 2/10\n",
      "11610/11610 [==============================] - 1s 75us/sample - loss: 0.4681 - val_loss: 0.4507\n",
      "Epoch 3/10\n",
      "11610/11610 [==============================] - 1s 72us/sample - loss: 0.3994 - val_loss: 0.4006\n",
      "Epoch 4/10\n",
      "11610/11610 [==============================] - 1s 77us/sample - loss: 0.3778 - val_loss: 0.3843\n",
      "Epoch 5/10\n",
      "11610/11610 [==============================] - 1s 74us/sample - loss: 0.3654 - val_loss: 0.3745\n",
      "Epoch 6/10\n",
      "11610/11610 [==============================] - 1s 80us/sample - loss: 0.3615 - val_loss: 0.3712\n",
      "Epoch 7/10\n",
      "11610/11610 [==============================] - 1s 74us/sample - loss: 0.3709 - val_loss: 0.3495\n",
      "Epoch 8/10\n",
      "11610/11610 [==============================] - 1s 74us/sample - loss: 0.3361 - val_loss: 0.4173\n",
      "Epoch 9/10\n",
      "11610/11610 [==============================] - 1s 80us/sample - loss: 0.3351 - val_loss: 0.3408\n",
      "Epoch 10/10\n",
      "11610/11610 [==============================] - 1s 82us/sample - loss: 0.3323 - val_loss: 0.3361\n"
     ]
    }
   ],
   "source": [
    "model = keras.models.Sequential()\n",
    "\n",
    "input = keras.layers.Input(shape = x_train.shape[1:])\n",
    "hidden1 = keras.layers.Dense(30, activation = 'relu')(input)\n",
    "hidden2 = keras.layers.Dense(30, activation = 'relu')(hidden1)\n",
    "\n",
    "concate = keras.layers.concatenate([input, hidden2])    #\n",
    "\n",
    "output = keras.layers.Dense(1)(concate)\n",
    "\n",
    "model = keras.models.Model(inputs = [input], \n",
    "                           outputs = [output])\n",
    "\n",
    "\n",
    "\n",
    "model.compile(loss = 'mean_squared_error', optimizer = 'adam')  \n",
    "#因为是回归模型，所以判断模型好坏的标准就是均方差的大小，而不需要加上评价标准 metrics = ['accuracy']\n",
    "\n",
    "history = model.fit(x_train, y_train,\n",
    "                    validation_data = (x_valid, y_valid),\n",
    "                    callbacks = [keras.callbacks.EarlyStopping(patience = 5, min_delta = 1e-3)], \n",
    "                    epochs = 10)\n",
    "\n"
   ]
  },
  {
   "cell_type": "code",
   "execution_count": 61,
   "metadata": {},
   "outputs": [
    {
     "data": {
      "image/png": "[encoded data removed]",
      "text/plain": [
       "<Figure size 576x360 with 1 Axes>"
      ]
     },
     "metadata": {
      "needs_background": "light"
     },
     "output_type": "display_data"
    }
   ],
   "source": [
    "def plot_learning_curves(history):\n",
    "    pd.DataFrame(history.history).plot(figsize=(8, 5))\n",
    "    plt.grid(True)\n",
    "    plt.gca().set_ylim(0, 2)\n",
    "    plt.show()\n",
    "plot_learning_curves(history)\n",
    "\n"
   ]
  },
  {
   "cell_type": "code",
   "execution_count": 62,
   "metadata": {},
   "outputs": [
    {
     "data": {
      "text/plain": [
       "0.3987989259217958"
      ]
     },
     "execution_count": 62,
     "metadata": {},
     "output_type": "execute_result"
    }
   ],
   "source": [
    "model.evaluate(x_train, y_train, verbose = False)"
   ]
  },
  {
   "cell_type": "code",
   "execution_count": null,
   "metadata": {},
   "outputs": [],
   "source": []
  }
 ],
 "metadata": {
  "kernelspec": {
   "display_name": "main",
   "language": "python",
   "name": "main"
  },
  "language_info": {
   "codemirror_mode": {
    "name": "ipython",
    "version": 3
   },
   "file_extension": ".py",
   "mimetype": "text/x-python",
   "name": "python",
   "nbconvert_exporter": "python",
   "pygments_lexer": "ipython3",
   "version": "3.7.6"
  }
 },
 "nbformat": 4,
 "nbformat_minor": 2
}
