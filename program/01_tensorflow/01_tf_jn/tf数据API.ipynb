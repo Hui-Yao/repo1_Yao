{
 "cells": [
  {
   "cell_type": "markdown",
   "metadata": {},
   "source": [
    "# 1 tf.math\n",
    "\n",
    "## tf.## tf.math.greater_equal(x,y)\n",
    "    func:逐元素地返回x>=y的布尔值。\n",
    "    para:x,y为同类型地张量。\n",
    "    \n",
    "    例子：\n",
    "    x = tf.constant([5, 4, 6, 7])\n",
    "    y = tf.constant([5, 2, 5, 10])\n",
    "    tf.math.greater_equal(x, y) ==> [True, True, True, False]\n",
    "\n",
    "    x = tf.constant([5, 4, 6, 7])\n",
    "    y = tf.constant([5])\n",
    "    tf.math.greater_equal(x, y) ==> [True, False, True, True]\n",
    "    \n",
    "## tf.reduce_sum()\n",
    "    func:以求和的方式降低数组维度\n",
    "    para：input_tensor：～\n",
    "          axis=None:指定什么轴即沿着什么轴的方向计算该方向的元素和，以降低维度；也可以以数组的形式指定多个轴；\n",
    "                    不指定轴的话，则对张量中的所有元素求和。\n",
    "          keepdims=False：指定为True，同样沿着指定轴的方向求和，但会保留原tensor的shape。\n",
    "          \n",
    "    For example:\n",
    "    x = tf.constant([[1, 1, 1], [1, 1, 1]])\n",
    "    tf.reduce_sum(x)  # 6\n",
    "    tf.reduce_sum(x, 0)  # [2, 2, 2]\n",
    "    tf.reduce_sum(x, 1)  # [3, 3]\n",
    "    tf.reduce_sum(x, 1, keepdims=True)  # [[3], [3]]\n",
    "    tf.reduce_sum(x, [0, 1])  # 6\n",
    "    \n",
    "# tf.square() \n",
    "    对输入张量的每一个元素求平方，不改变张量形状\n",
    "    \n",
    "    \n",
    "    \n",
    "    \n",
    "    \n",
    "    \n",
    "    \n",
    "    \n",
    "    \n",
    "    "
   ]
  },
  {
   "cell_type": "markdown",
   "metadata": {},
   "source": [
    "# 2 tf.nn\n",
    "\n",
    "## tf.nn.elu(feature)\n",
    "    当feature小于0，返回exp(feature)-1;当feature >= 0，返回feature。\n"
   ]
  },
  {
   "cell_type": "code",
   "execution_count": null,
   "metadata": {},
   "outputs": [],
   "source": []
  },
  {
   "cell_type": "code",
   "execution_count": null,
   "metadata": {},
   "outputs": [],
   "source": []
  },
  {
   "cell_type": "code",
   "execution_count": null,
   "metadata": {},
   "outputs": [],
   "source": []
  },
  {
   "cell_type": "code",
   "execution_count": null,
   "metadata": {},
   "outputs": [],
   "source": []
  },
  {
   "cell_type": "code",
   "execution_count": null,
   "metadata": {},
   "outputs": [],
   "source": []
  },
  {
   "cell_type": "code",
   "execution_count": null,
   "metadata": {},
   "outputs": [],
   "source": []
  },
  {
   "cell_type": "code",
   "execution_count": null,
   "metadata": {},
   "outputs": [],
   "source": []
  },
  {
   "cell_type": "code",
   "execution_count": null,
   "metadata": {},
   "outputs": [],
   "source": []
  },
  {
   "cell_type": "code",
   "execution_count": null,
   "metadata": {},
   "outputs": [],
   "source": []
  },
  {
   "cell_type": "code",
   "execution_count": null,
   "metadata": {},
   "outputs": [],
   "source": []
  },
  {
   "cell_type": "code",
   "execution_count": null,
   "metadata": {},
   "outputs": [],
   "source": []
  },
  {
   "cell_type": "code",
   "execution_count": null,
   "metadata": {},
   "outputs": [],
   "source": []
  },
  {
   "cell_type": "code",
   "execution_count": null,
   "metadata": {},
   "outputs": [],
   "source": []
  },
  {
   "cell_type": "code",
   "execution_count": null,
   "metadata": {},
   "outputs": [],
   "source": []
  },
  {
   "cell_type": "markdown",
   "metadata": {},
   "source": [
    "# 其他API\n",
    "\n",
    "## tf.where(condition, x = none, y = none)\n",
    "    func:根据condition返回x,y中的元素\n",
    "    para：\n",
    "        condition：一个bool类型的张量(Tensor).\n",
    "        x，y：具有相同数据类型的张量，shape不一定相同。\n",
    "        （1）当x，y都为none时，以二维array的形式返回condition中的True的位置，其中第一维中的元素个数表示True的个数，\n",
    "            第二维数据表示元素所在位置。\n",
    "        （2）当x与condition有相同形状时，根据condition中的值返回x or y中的元素（True返回x中的值，False返回y中的值）；\n",
    "            当x与condition的shape不同（但condition的维度必须与x前部维度相同），根据condition返回x or y的部分维度。\n",
    "\n"
   ]
  }
 ],
 "metadata": {
  "kernelspec": {
   "display_name": "2017sfm",
   "language": "python",
   "name": "2017sfm"
  },
  "language_info": {
   "codemirror_mode": {
    "name": "ipython",
    "version": 3
   },
   "file_extension": ".py",
   "mimetype": "text/x-python",
   "name": "python",
   "nbconvert_exporter": "python",
   "pygments_lexer": "ipython3",
   "version": "3.7.4"
  },
  "toc": {
   "base_numbering": 1,
   "nav_menu": {},
   "number_sections": false,
   "sideBar": true,
   "skip_h1_title": false,
   "title_cell": "Table of Contents",
   "title_sidebar": "Contents",
   "toc_cell": false,
   "toc_position": {
    "height": "calc(100% - 180px)",
    "left": "10px",
    "top": "150px",
    "width": "325.27px"
   },
   "toc_section_display": true,
   "toc_window_display": true
  },
  "varInspector": {
   "cols": {
    "lenName": 16,
    "lenType": 16,
    "lenVar": 40
   },
   "kernels_config": {
    "python": {
     "delete_cmd_postfix": "",
     "delete_cmd_prefix": "del ",
     "library": "var_list.py",
     "varRefreshCmd": "print(var_dic_list())"
    },
    "r": {
     "delete_cmd_postfix": ") ",
     "delete_cmd_prefix": "rm(",
     "library": "var_list.r",
     "varRefreshCmd": "cat(var_dic_list()) "
    }
   },
   "types_to_exclude": [
    "module",
    "function",
    "builtin_function_or_method",
    "instance",
    "_Feature"
   ],
   "window_display": false
  }
 },
 "nbformat": 4,
 "nbformat_minor": 4
}
