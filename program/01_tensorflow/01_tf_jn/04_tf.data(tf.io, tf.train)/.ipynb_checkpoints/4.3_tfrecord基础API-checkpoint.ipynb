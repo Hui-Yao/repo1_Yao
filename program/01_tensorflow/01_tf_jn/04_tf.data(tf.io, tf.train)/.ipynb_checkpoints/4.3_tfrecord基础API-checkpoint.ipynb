{
 "cells": [
  {
   "cell_type": "code",
   "execution_count": null,
   "metadata": {},
   "outputs": [],
   "source": [
    "import matplotlib as mpl\n",
    "import matplotlib.pyplot as plt\n",
    "%matplotlib inline\n",
    "import numpy as np\n",
    "import sklearn\n",
    "import pandas as pd\n",
    "import os\n",
    "import sys\n",
    "import time\n",
    "import tensorflow as tf\n",
    "\n",
    "from tensorflow import keras\n",
    "\n",
    "print(tf.__version__)\n",
    "print(sys.version_info)\n",
    "for module in mpl, np, pd, sklearn, tf, keras:\n",
    "    print(module.__name__, module.__version__)"
   ]
  },
  {
   "cell_type": "markdown",
   "metadata": {},
   "source": [
    "# TFRcord概述\n",
    "     tfrecord \n",
    "     -> tf.train.Example\n",
    "       -> tf.train.Features -> {\"key\": tf.train.Feature}\n",
    "          -> tf.train.Feature -> tf.train.ByteList/FloatList/Int64List\n",
    "          \n",
    "    tfrecord是tf中定义的一种文件格式，因为经过tf的优化，所以读取速度更快。\n",
    "    tfrecord文件由tf.train.Example组成，每个Example可以是一个元素，也可以是一组元素。\n",
    "    Example又由tf.train.Feature组成，\n",
    "    feature是格式类似与字典的数据，字典的key代表数据的含义，value代表数据的值，这些值为ByteList，Int64List，Float32List类型。    \n",
    "    \n",
    "# 生成value相关函数：\n",
    "    tf.train.ByteList(value):对字符串类型的数据进行转换\n",
    "    tf.train.FloatList(value):对浮点型的数据进行转换\n",
    "    tf.train.Int64List(value):对整数型的数据进行转换\n",
    "    \n",
    "# 生成Feature/Features:\n",
    "    tf.train.Feature()\n",
    "        func:生成feature\n",
    "        paras：ByteList = 相应的源数据\n",
    "               FloatList = \n",
    "               Int64List = \n",
    "                 \n",
    "    tf.train.Features(feature):整合feature为features\n",
    "# 生成Example\n",
    "    tf.train.example(feature):convert feature to example\n"
   ]
  },
  {
   "cell_type": "code",
   "execution_count": null,
   "metadata": {},
   "outputs": [],
   "source": [
    "# 创建tfrecord文件\n",
    "favorite_books = [name.encode('utf-8')\n",
    "                  for name in [\"machine learning\", \"cc150\"]] #通过列表生成式将两个书名编码为'utf-8'\n",
    "favorite_books_bytelist = tf.train.BytesList(value = favorite_books) \n",
    "# 通过tf.train.ByteList将utf8格式的数据转化为tf.train.ByteList\n",
    "print(favorite_books_bytelist)\n",
    "\n",
    "hours_floatlist = tf.train.FloatList(value = [15.5, 9.5, 7.0, 8.0])\n",
    "print(hours_floatlist)\n",
    "\n",
    "\n",
    "age_int64list = tf.train.Int64List(value = [42])\n",
    "print(age_int64list)\n",
    "\n",
    "features = tf.train.Features(\n",
    "    feature = {\n",
    "        \"favorite_books\": tf.train.Feature(\n",
    "            bytes_list = favorite_books_bytelist),\n",
    "        \"hours\": tf.train.Feature(\n",
    "            float_list = hours_floatlist),\n",
    "        \"age\": tf.train.Feature(int64_list = age_int64list),\n",
    "    }\n",
    ")\n",
    "print(features)"
   ]
  },
  {
   "cell_type": "markdown",
   "metadata": {},
   "source": [
    "# Example.SerializedToString()方法\n",
    "    func：将Example序列化，方便存储与传输\n"
   ]
  },
  {
   "cell_type": "code",
   "execution_count": null,
   "metadata": {},
   "outputs": [],
   "source": [
    "example = tf.train.Example(features=features)  # 生成Example\n",
    "print(example)\n",
    "\n",
    "# example.SerializeToString()将数据序列化，方便存储与传输\n",
    "serialized_example = example.SerializeToString()\n",
    "print(serialized_example)"
   ]
  },
  {
   "cell_type": "markdown",
   "metadata": {},
   "source": [
    "# tf.io.TFRecordOptions()\n",
    "    https://www.tensorflow.org/api_docs/python/tf/io/TFRecordOptions\n",
    "    func:支持关于tfrecord的各种操作\n",
    "    paras:compression_type:压缩类型，\"GZIP\", \"ZLIB\", or \"\" (no compression).\n",
    "          其他压缩类型看官方文档。\n",
    "\n",
    "\n",
    "# tf.io.TFRecordWriter(path, options)\n",
    "    func:写入数据，生成tfrecord类型数据\n",
    "    paras：path：写入文件的路径/文件名\n",
    "           options：指定文件压缩类型，或者指定TFRecordOptions中其他操作。"
   ]
  },
  {
   "cell_type": "code",
   "execution_count": null,
   "metadata": {},
   "outputs": [],
   "source": [
    "# 生成tfrecord文件   \n",
    "output_dir = 'tfrecord_basic'\n",
    "if not os.path.exists(output_dir):\n",
    "    os.mkdir(output_dir)\n",
    "filename = \"test.tfrecords\"\n",
    "filename_fullpath = os.path.join(output_dir, filename)\n",
    "# 通过专用的TFRecordWriter()写入，生成一个tfrecord文件\n",
    "with tf.io.TFRecordWriter(filename_fullpath) as writer:\n",
    "    for i in range(3):\n",
    "        writer.write(serialized_example)\n"
   ]
  },
  {
   "cell_type": "code",
   "execution_count": null,
   "metadata": {},
   "outputs": [],
   "source": [
    "dataset = tf.data.TFRecordDataset([filename_fullpath])\n",
    "for serialized_example_tensor in dataset:\n",
    "    print(serialized_example_tensor)"
   ]
  },
  {
   "cell_type": "code",
   "execution_count": null,
   "metadata": {},
   "outputs": [],
   "source": [
    "# 通过tf.data.TFRecord()由文件生成序列化(serialized)数据集\n",
    "\n",
    "expected_features = {\n",
    "    \"favorite_books\": tf.io.VarLenFeature(dtype = tf.string),\n",
    "    \"hours\": tf.io.VarLenFeature(dtype = tf.float32),\n",
    "    \"age\": tf.io.FixedLenFeature([], dtype = tf.int64),\n",
    "}\n",
    "dataset = tf.data.TFRecordDataset([filename_fullpath])  # 生成序列化数据集，其中包含所有example\n",
    "for serialized_example_tensor in dataset:  # 可以从record中分别取出example\n",
    "    example = tf.io.parse_single_example(  # 对example进行unserialized，生成parse_tensor数据\n",
    "        serialized_example_tensor,\n",
    "        expected_features)  # expected_features的作用类似于decode_csv中的record_defaults\n",
    "    books = tf.sparse.to_dense(example[\"favorite_books\"],  # 通过tf.sparse.to_dense将某个key对应的value\n",
    "                               default_value=b\"\")\n",
    "    for book in books:\n",
    "        print(book.numpy().decode(\"UTF-8\"))"
   ]
  },
  {
   "cell_type": "code",
   "execution_count": null,
   "metadata": {},
   "outputs": [],
   "source": [
    "# 将文件进行压缩\n",
    "filename_fullpath_zip = filename_fullpath + '.zip'  # 在文件名后加上.zip后缀\n",
    "options = tf.io.TFRecordOptions(compression_type = \"GZIP\")  \n",
    "# tf.io.TFRecordOptions():对tfrecord文件进行一系列操作\n",
    "with tf.io.TFRecordWriter(filename_fullpath_zip, options) as writer:\n",
    "    for i in range(3):\n",
    "        writer.write(serialized_example)\n",
    "'''\n",
    "tf.io.TFRecordWriter(path, options)\n",
    "    func:写入数据，生成tfrecord类型数据\n",
    "    paras：path：写入文件的路径/文件名\n",
    "           options：指定文件压缩类型，或者指定TFRecordOptions中其他操作。\n",
    "\n",
    "'''"
   ]
  },
  {
   "cell_type": "markdown",
   "metadata": {},
   "source": [
    "# tf.data.TFRecordDataset()\n",
    "    func:由tfrecord文件生成数据集\n",
    "    paras：filenames：源文件名\n",
    "           compression_type:压缩格式\n",
    "           buffer_size:读入缓存的大小，以字节为单位。\n",
    "           num_parallel_reads:并行读取文件的数量。"
   ]
  },
  {
   "cell_type": "code",
   "execution_count": null,
   "metadata": {},
   "outputs": [],
   "source": [
    "# 将压缩文件解压\n",
    "dataset_zip = tf.data.TFRecordDataset([filename_fullpath_zip], \n",
    "                                      compression_type= \"GZIP\")\n",
    "'''\n",
    "tf.data.TFRecordDataset()\n",
    "    func:由tfrecord文件生成数据集\n",
    "    paras：filenames：源文件名\n",
    "           compression_type:压缩格式\n",
    "           buffer_size:读入缓存的大小，以字节为单位。\n",
    "           num_parallel_reads:并行读取文件的数量。\n",
    "'''\n",
    "for serialized_example_tensor in dataset_zip:\n",
    "    example = tf.io.parse_single_example(\n",
    "        serialized_example_tensor,\n",
    "        expected_features)\n",
    "    books = tf.sparse.to_dense(example[\"favorite_books\"],\n",
    "                               )  # 教程里要加上default_value=b\"\"， 但是不加也可以\n",
    "    for book in books:\n",
    "        print(book.numpy().decode(\"UTF-8\")) #最开始encode，最后要decode"
   ]
  },
  {
   "cell_type": "code",
   "execution_count": null,
   "metadata": {},
   "outputs": [],
   "source": []
  },
  {
   "cell_type": "code",
   "execution_count": null,
   "metadata": {},
   "outputs": [],
   "source": []
  },
  {
   "cell_type": "code",
   "execution_count": null,
   "metadata": {},
   "outputs": [],
   "source": []
  }
 ],
 "metadata": {
  "kernelspec": {
   "display_name": "tensorflow1",
   "language": "python",
   "name": "tensorflow1"
  },
  "language_info": {
   "codemirror_mode": {
    "name": "ipython",
    "version": 3
   },
   "file_extension": ".py",
   "mimetype": "text/x-python",
   "name": "python",
   "nbconvert_exporter": "python",
   "pygments_lexer": "ipython3",
   "version": "3.7.6"
  },
  "toc": {
   "base_numbering": 1,
   "nav_menu": {},
   "number_sections": false,
   "sideBar": true,
   "skip_h1_title": false,
   "title_cell": "Table of Contents",
   "title_sidebar": "Contents",
   "toc_cell": false,
   "toc_position": {},
   "toc_section_display": true,
   "toc_window_display": true
  }
 },
 "nbformat": 4,
 "nbformat_minor": 2
}
