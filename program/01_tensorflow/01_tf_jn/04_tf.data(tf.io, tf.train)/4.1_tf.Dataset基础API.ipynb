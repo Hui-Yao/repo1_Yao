{
 "cells": [
  {
   "cell_type": "code",
   "execution_count": 2,
   "metadata": {},
   "outputs": [],
   "source": [
    "#导入包\n",
    "from sklearn.datasets import fetch_california_housing\n",
    "from sklearn.model_selection import train_test_split\n",
    "from sklearn.preprocessing import StandardScaler\n",
    "import numpy as np\n",
    "import pandas as pd\n",
    "from matplotlib import pyplot as plt\n",
    "import tensorflow as tf\n",
    "from tensorflow import keras\n"
   ]
  },
  {
   "cell_type": "markdown",
   "metadata": {},
   "source": [
    "# t.Dataset.from_tensor_slices(source, axis = 0)\n",
    "    适用于数据量较小，能整个装入内存的情况。\n",
    "    具体操作是：将数据通过第零维进行合并（要求所有数据的第零维相同），合并后元素的数量即为第0维的大小。以元组的形式返回合并后的单个元素。\n",
    "    paras:source:组成数据集的源数据.可为列表或字典\n",
    "                 (1)通过第0维大小相同的一个或几个数组或元组合成一个dataset\n",
    "                （2)通过2元素的字典生成dataset，一个键值对表示features，一个键值对表示label\n",
    "           axis = 0：默认进行合并的轴维0轴\n",
    "           \n",
    "\n",
    "# tf.data.Dataset.from_tensor(tensor)\n",
    "    func:用给定的张量创建一个数据集，这个数据集只包含tensor这一个元素。\n",
    "         解释：哪怕给定的tensor是一个列表，组成了TensorDataset数据集，然后用for循环去取，取到的也就是那个列表。"
   ]
  },
  {
   "cell_type": "code",
   "execution_count": 3,
   "metadata": {},
   "outputs": [
    {
     "name": "stdout",
     "output_type": "stream",
     "text": [
      "<TensorSliceDataset shapes: ((), ()), types: (tf.int32, tf.int32)>\n",
      "2013 12000\n",
      "2014 14000\n",
      "2015 15000\n",
      "2016 16500\n",
      "2017 17500\n",
      "[1 2] b'cat'\n",
      "[3 4] b'dog'\n",
      "[5 6] b'fox'\n"
     ]
    }
   ],
   "source": [
    "# 用多个列表生成\n",
    "X = tf.constant([2013, 2014, 2015, 2016, 2017])\n",
    "Y = tf.constant([12000, 14000, 15000, 16500, 17500])\n",
    "\n",
    "# 也可以使用NumPy数组，效果相同\n",
    "# X = np.array([2013, 2014, 2015, 2016, 2017])\n",
    "# Y = np.array([12000, 14000, 15000, 16500, 17500])\n",
    "\n",
    "dataset = tf.data.Dataset.from_tensor_slices((X, Y))\n",
    "\n",
    "print(dataset) #TensorSliceDataset型数据\n",
    "\n",
    "for x, y in dataset:\n",
    "    print(x.numpy(), y.numpy()) \n",
    "\n",
    "#用字典生成\n",
    "x = np.array([[1, 2], [3, 4], [5, 6]])\n",
    "y = np.array(['cat', 'dog', 'fox'])\n",
    "dataset4 = tf.data.Dataset.from_tensor_slices({\"feature\": x,\n",
    "                                               \"label\": y})\n",
    "\n",
    "\n",
    "for item in dataset4:\n",
    "    print(item[\"feature\"].numpy(), item[\"label\"].numpy())"
   ]
  },
  {
   "cell_type": "code",
   "execution_count": 13,
   "metadata": {},
   "outputs": [
    {
     "name": "stdout",
     "output_type": "stream",
     "text": [
      "0 \n",
      " (<tf.Tensor: id=138, shape=(3,), dtype=int32, numpy=array([1, 2, 3], dtype=int32)>, <tf.Tensor: id=139, shape=(), dtype=string, numpy=b'A'>)\n"
     ]
    }
   ],
   "source": [
    "dataset5 = tf.data.Dataset.from_tensors(([1, 2, 3], 'A'))\n",
    "for i,j in enumerate(dataset5):\n",
    "    print(i,'\\n',j)\n",
    "# 可以看到索引为0， 也就是说只有一个元素，但是在这个元素内还包含了两个元素。"
   ]
  },
  {
   "cell_type": "markdown",
   "metadata": {},
   "source": [
    "# dataset.repeat(count=None)\n",
    "    将数据重复count次。\n",
    "    paras：count：重复次数，tf.int64。counut = -1或者不指定，则重复无限次。\n",
    "    \n",
    "# dataset.batch(batch_size, drop_remainder=False)\n",
    "    将dataset分成许多份batch_size大小的batches。经过batch（）作用的dataset，其内储存的元素都是包含32个值的。\n",
    "    paras：~\n",
    "           drop_remainder:如果最后一个batch的元素数量小于batch_size,是否丢弃最后这个batch?\n",
    "                          默认False表示不丢弃，设置为True则丢弃。\n",
    "    "
   ]
  },
  {
   "cell_type": "code",
   "execution_count": null,
   "metadata": {},
   "outputs": [],
   "source": [
    "data = tf.data.Dataset.from_tensor_slices(np.arange(10))\n",
    "data2 = data.repeat(3).batch(5)\n",
    "data3 = data.repeat(3).batch(7)\n",
    "for i in data2:\n",
    "    print(i)\n",
    "print('*'.center(50,'*'))\n",
    "for i in data3:\n",
    "    print(i)\n",
    "'''\n",
    "data2中，10个数据重复3个epoch，每个batch为5个元素，那么刚好6次执行完所有元素\n",
    "data3中，10个数据重复3个epoch，每个batch为7个元素，执行完4个batch后还剩2个元素，所以加上最后那个2个元素的batch，一个5个batch。\n",
    "\n",
    "'''\n"
   ]
  },
  {
   "cell_type": "markdown",
   "metadata": {},
   "source": [
    "# dataset.take(count)\n",
    "    从数据集中拿出count个元素组成一个新的dataset。\n",
    "    paras：count：元素个数"
   ]
  },
  {
   "cell_type": "code",
   "execution_count": 37,
   "metadata": {},
   "outputs": [
    {
     "name": "stdout",
     "output_type": "stream",
     "text": [
      "tf.Tensor(0, shape=(), dtype=int64)\n",
      "0\n",
      "tf.Tensor(1, shape=(), dtype=int64)\n",
      "1\n",
      "tf.Tensor(2, shape=(), dtype=int64)\n",
      "2\n"
     ]
    }
   ],
   "source": [
    "data4 = tf.data.Dataset.from_tensor_slices(tf.constant(np.arange(10)))\n",
    "data5 = data4.take(3)\n",
    "\n",
    "for i in data5:\n",
    "    print(i)\n",
    "    print(i.numpy())"
   ]
  },
  {
   "cell_type": "code",
   "execution_count": 38,
   "metadata": {},
   "outputs": [
    {
     "name": "stdout",
     "output_type": "stream",
     "text": [
      "(1, [1])\n"
     ]
    }
   ],
   "source": [
    "\n",
    "        "
   ]
  },
  {
   "cell_type": "code",
   "execution_count": null,
   "metadata": {},
   "outputs": [],
   "source": []
  },
  {
   "cell_type": "code",
   "execution_count": null,
   "metadata": {},
   "outputs": [],
   "source": []
  },
  {
   "cell_type": "code",
   "execution_count": null,
   "metadata": {},
   "outputs": [],
   "source": []
  }
 ],
 "metadata": {
  "kernelspec": {
   "display_name": "tensorflow1",
   "language": "python",
   "name": "tensorflow1"
  },
  "language_info": {
   "codemirror_mode": {
    "name": "ipython",
    "version": 3
   },
   "file_extension": ".py",
   "mimetype": "text/x-python",
   "name": "python",
   "nbconvert_exporter": "python",
   "pygments_lexer": "ipython3",
   "version": "3.7.6"
  },
  "toc": {
   "base_numbering": 1,
   "nav_menu": {},
   "number_sections": false,
   "sideBar": true,
   "skip_h1_title": false,
   "title_cell": "Table of Contents",
   "title_sidebar": "Contents",
   "toc_cell": false,
   "toc_position": {},
   "toc_section_display": true,
   "toc_window_display": true
  }
 },
 "nbformat": 4,
 "nbformat_minor": 2
}
