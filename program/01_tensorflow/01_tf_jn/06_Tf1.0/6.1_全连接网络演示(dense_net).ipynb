{
 "cells": [
  {
   "cell_type": "code",
   "execution_count": 1,
   "metadata": {},
   "outputs": [
    {
     "name": "stdout",
     "output_type": "stream",
     "text": [
      "1.13.1\n",
      "sys.version_info(major=3, minor=7, micro=3, releaselevel='final', serial=0)\n",
      "matplotlib 3.0.3\n",
      "numpy 1.16.2\n",
      "pandas 0.24.2\n",
      "sklearn 0.20.3\n",
      "tensorflow 1.13.1\n",
      "tensorflow._api.v1.keras 2.2.4-tf\n"
     ]
    }
   ],
   "source": [
    "import matplotlib as mpl\n",
    "import matplotlib.pyplot as plt\n",
    "%matplotlib inline\n",
    "import numpy as np\n",
    "import sklearn\n",
    "import pandas as pd\n",
    "import os\n",
    "import sys\n",
    "import time\n",
    "import tensorflow as tf\n",
    "\n",
    "from tensorflow import keras\n",
    "\n",
    "print(tf.__version__)\n",
    "print(sys.version_info)\n",
    "for module in mpl, np, pd, sklearn, tf, keras:\n",
    "    print(module.__name__, module.__version__)\n"
   ]
  },
  {
   "cell_type": "code",
   "execution_count": 2,
   "metadata": {},
   "outputs": [
    {
     "name": "stdout",
     "output_type": "stream",
     "text": [
      "(5000, 28, 28) (5000,)\n",
      "(55000, 28, 28) (55000,)\n",
      "(10000, 28, 28) (10000,)\n"
     ]
    }
   ],
   "source": [
    "fashion_mnist = keras.datasets.fashion_mnist\n",
    "(x_train_all, y_train_all), (x_test, y_test) = fashion_mnist.load_data()\n",
    "x_valid, x_train = x_train_all[:5000], x_train_all[5000:]\n",
    "y_valid, y_train = y_train_all[:5000], y_train_all[5000:]\n",
    "\n",
    "print(x_valid.shape, y_valid.shape)\n",
    "print(x_train.shape, y_train.shape)\n",
    "print(x_test.shape, y_test.shape)"
   ]
  },
  {
   "cell_type": "code",
   "execution_count": 3,
   "metadata": {},
   "outputs": [
    {
     "name": "stdout",
     "output_type": "stream",
     "text": [
      "255 0\n"
     ]
    }
   ],
   "source": [
    "print(np.max(x_train), np.min(x_train))"
   ]
  },
  {
   "cell_type": "code",
   "execution_count": 4,
   "metadata": {},
   "outputs": [],
   "source": [
    "# x = (x - u) / std   标准化\n",
    "\n",
    "from sklearn.preprocessing import StandardScaler\n",
    "\n",
    "scaler = StandardScaler()\n",
    "# x_train: [None, 28, 28] -> [None, 784]\n",
    "x_train_scaled = scaler.fit_transform(\n",
    "    x_train.astype(np.float32).reshape(-1, 1)).reshape(-1, 28 * 28)\n",
    "x_valid_scaled = scaler.transform(\n",
    "    x_valid.astype(np.float32).reshape(-1, 1)).reshape(-1, 28 * 28)\n",
    "x_test_scaled = scaler.transform(\n",
    "    x_test.astype(np.float32).reshape(-1, 1)).reshape(-1, 28 * 28)\n"
   ]
  },
  {
   "cell_type": "code",
   "execution_count": 5,
   "metadata": {},
   "outputs": [
    {
     "name": "stdout",
     "output_type": "stream",
     "text": [
      "2.023144 -0.8105139\n"
     ]
    }
   ],
   "source": [
    "print(np.max(x_train_scaled), np.min(x_train_scaled))"
   ]
  },
  {
   "cell_type": "markdown",
   "metadata": {},
   "source": [
    "# Tf1.0总结\n",
    "    构建计算图：\n",
    "        对于Sequential模型，通过tf.layers.dense（对应2.0中的tf.keras.layers.Dense），来堆叠模型层数。\n",
    "        通过tf.losses.sparse_softmax_cross_entropy()指定loss计算方式\n",
    "        指定prediction计算方法\n",
    "        指定结果矩阵（01矩阵）计算方法\n",
    "        指定准确值计算方法\n",
    "        指定模型优化方向train_op\n",
    "        至此，构建完了计算图。但这只是一个计算图，里面没有任何数据。（数据的位置先用placehloder占了位）\n",
    "    创建会话（session），输入数据，运行计算图：\n",
    "        自行指定batch_size，根据数据数量确定batch的数量。\n",
    "        用for循环执行需要的epoch，用for循环规定一个epoch内的steps。\n",
    "        在for循环内计算相关数据。\n",
    "    \n",
    "    tf.variable_scope():定义变量空间，防止重名。\n",
    "    tf.get_variable():定义变量"
   ]
  },
  {
   "cell_type": "code",
   "execution_count": 6,
   "metadata": {},
   "outputs": [
    {
     "name": "stdout",
     "output_type": "stream",
     "text": [
      "WARNING:tensorflow:From <ipython-input-6-76fc28fa9449>:11: dense (from tensorflow.python.layers.core) is deprecated and will be removed in a future version.\n",
      "Instructions for updating:\n",
      "Use keras.layers.dense instead.\n",
      "WARNING:tensorflow:From /Users/zhangyx/workspace/environments/tf_py3/lib/python3.7/site-packages/tensorflow/python/framework/op_def_library.py:263: colocate_with (from tensorflow.python.framework.ops) is deprecated and will be removed in a future version.\n",
      "Instructions for updating:\n",
      "Colocations handled automatically by placer.\n",
      "WARNING:tensorflow:From /Users/zhangyx/workspace/environments/tf_py3/lib/python3.7/site-packages/tensorflow/python/ops/losses/losses_impl.py:209: to_float (from tensorflow.python.ops.math_ops) is deprecated and will be removed in a future version.\n",
      "Instructions for updating:\n",
      "Use tf.cast instead.\n"
     ]
    }
   ],
   "source": [
    "hidden_units = [100, 100]  # 定义隐藏层的神经元数量\n",
    "class_num = 10  #输出层\n",
    "\n",
    "'''\n",
    "tf.placeholder(dtype, shape = None)：占位符，用来传入数据。第一个参数是数据类型，第二个参数是[batch_size, dim],元祖也可以。\n",
    "为什么需要占位符？\n",
    "    tf1.0中是先构建数据图再传入数据进行计算的，那么也就是说，在构图阶段使看不到数据的，所以需要先用占位符占取数据的位置。\n",
    "\n",
    "'''\n",
    "x = tf.placeholder(tf.float32, [None, 28 * 28]) # 传入的数据应该时一个数字\n",
    "y = tf.placeholder(tf.int64, [None])\n",
    "\n",
    "input_for_next_layer = x  # 丁毅输入层\n",
    "for hidden_unit in hidden_units:\n",
    "    input_for_next_layer = tf.layers.dense(input_for_next_layer,  # 在输入层上stack隐藏层\n",
    "                                           hidden_unit,\n",
    "                                           activation=tf.nn.relu)\n",
    "logits = tf.layers.dense(input_for_next_layer,  # 在隐藏层上stack输出层\n",
    "                         class_num)\n",
    "\n",
    "'''\n",
    "last_hidden_output * W(logits) -> softmax -> prob\n",
    "1. logit -> softmax -> prob\n",
    "2. labels -> one_hot\n",
    "3. calculate cross entropy\n",
    "\n",
    "logits:最后一层隐藏层的输出为logits。\n",
    "\n",
    "将logits传入softmax层可以得到概率。\n",
    "sparse_softmax_cross_entropy会将标签转为one-hot编码\n",
    "有了这两个东西就可以计算loss了\n",
    "\n",
    "'''\n",
    "\n",
    "loss = tf.losses.sparse_softmax_cross_entropy(labels = y,  # softmax对分类结果进行转化\n",
    "                                              logits = logits)\n",
    "# get accuracy.\n",
    "prediction = tf.argmax(logits, 1)  # 取出预测结果，logits是一个向量，取出想向量值最大的元素就是标签了。\n",
    "correct_prediction = tf.equal(prediction, y) # 将prediction和y做对比（异或？），得到一个0,1组成的向量\n",
    "accuracy = tf.reduce_mean(tf.cast(correct_prediction, tf.float64)) #通过01向量，取均值，也就是正确率\n",
    "\n",
    "# 运行了一遍train_op就相当于训练了一次网络\n",
    "train_op = tf.train.AdamOptimizer(1e-3).minimize(loss)  # 指定优化器与优化目标，得到train_op"
   ]
  },
  {
   "cell_type": "code",
   "execution_count": 7,
   "metadata": {},
   "outputs": [
    {
     "name": "stdout",
     "output_type": "stream",
     "text": [
      "Tensor(\"Placeholder:0\", shape=(?, 784), dtype=float32)\n",
      "Tensor(\"dense_2/BiasAdd:0\", shape=(?, 10), dtype=float32)\n"
     ]
    }
   ],
   "source": [
    "print(x)\n",
    "print(logits)  \n",
    "# 由输出结果可知，输入x与logits现在都还只是一种数据类型，没有数据数量，也就说明还没有输入数据"
   ]
  },
  {
   "cell_type": "code",
   "execution_count": 8,
   "metadata": {},
   "outputs": [
    {
     "name": "stdout",
     "output_type": "stream",
     "text": [
      "[Train] epoch: 0, step: 2749, loss: 0.29409, accuracy: 0.85\t[Valid] acc: 0.86\n",
      "[Train] epoch: 1, step: 2749, loss: 0.23783, accuracy: 0.90\t[Valid] acc: 0.87\n",
      "[Train] epoch: 2, step: 2749, loss: 0.16557, accuracy: 0.90\t[Valid] acc: 0.87\n",
      "[Train] epoch: 3, step: 2749, loss: 0.16518, accuracy: 0.85\t[Valid] acc: 0.88\n",
      "[Train] epoch: 4, step: 2749, loss: 0.18367, accuracy: 0.90\t[Valid] acc: 0.88\n",
      "[Train] epoch: 5, step: 2749, loss: 0.18992, accuracy: 0.95\t[Valid] acc: 0.88\n",
      "[Train] epoch: 6, step: 2749, loss: 0.13003, accuracy: 0.95\t[Valid] acc: 0.88\n",
      "[Train] epoch: 7, step: 2749, loss: 0.19065, accuracy: 0.95\t[Valid] acc: 0.89\n",
      "[Train] epoch: 8, step: 2749, loss: 0.12379, accuracy: 0.90\t[Valid] acc: 0.88\n",
      "[Train] epoch: 9, step: 2749, loss: 0.11657, accuracy: 0.95\t[Valid] acc: 0.89\n"
     ]
    }
   ],
   "source": [
    "# session\n",
    "\n",
    "init = tf.global_variables_initializer()\n",
    "batch_size = 20\n",
    "epochs = 10\n",
    "train_steps_per_epoch = x_train.shape[0] // batch_size\n",
    "valid_steps = x_valid.shape[0] // batch_size\n",
    "\n",
    "def eval_with_sess(sess, x, y, accuracy, images, labels, batch_size):\n",
    "    eval_steps = images.shape[0] // batch_size\n",
    "    eval_accuracies = []\n",
    "    for step in range(eval_steps):\n",
    "        batch_data = images[step * batch_size : (step+1) * batch_size]\n",
    "        batch_label = labels[step * batch_size : (step+1) * batch_size]\n",
    "        accuracy_val = sess.run(accuracy,\n",
    "                                feed_dict = {\n",
    "                                    x: batch_data,\n",
    "                                    y: batch_label\n",
    "                                })\n",
    "        eval_accuracies.append(accuracy_val)  # 对每个batch求accuracy，然后去均值\n",
    "    return np.mean(eval_accuracies)\n",
    "\n",
    "with tf.Session() as sess:\n",
    "    sess.run(init)\n",
    "    for epoch in range(epochs): # 通过for循环来规定epoch数\n",
    "        for step in range(train_steps_per_epoch):  # 通过for循环来规定一个epoch内的batch数\n",
    "            batch_data = x_train_scaled[  # feature每次向后去一个batch\n",
    "                step * batch_size : (step+1) * batch_size]\n",
    "            batch_label = y_train[  # label每次向后去一个batch\n",
    "                step * batch_size : (step+1) * batch_size]\n",
    "            loss_val, accuracy_val, _ = sess.run( # 训练一个batch的数据\n",
    "                [loss, accuracy, train_op],\n",
    "                feed_dict = {\n",
    "                    x: batch_data,\n",
    "                    y: batch_label\n",
    "                })\n",
    "            print('\\r[Train] epoch: %d, step: %d, loss: %3.5f, accuracy: %2.2f' % (\n",
    "                epoch, step, loss_val, accuracy_val), end=\"\")\n",
    "        valid_accuracy = eval_with_sess(sess, x, y, accuracy,  # 训练验证集中一个batch的数据\n",
    "                                        x_valid_scaled, y_valid,\n",
    "                                        batch_size)\n",
    "        print(\"\\t[Valid] acc: %2.2f\" % (valid_accuracy))"
   ]
  },
  {
   "cell_type": "code",
   "execution_count": null,
   "metadata": {},
   "outputs": [],
   "source": []
  }
 ],
 "metadata": {
  "kernelspec": {
   "display_name": "Python 3",
   "language": "python",
   "name": "python3"
  },
  "language_info": {
   "codemirror_mode": {
    "name": "ipython",
    "version": 3
   },
   "file_extension": ".py",
   "mimetype": "text/x-python",
   "name": "python",
   "nbconvert_exporter": "python",
   "pygments_lexer": "ipython3",
   "version": "3.7.4"
  },
  "toc": {
   "base_numbering": 1,
   "nav_menu": {},
   "number_sections": false,
   "sideBar": true,
   "skip_h1_title": false,
   "title_cell": "Table of Contents",
   "title_sidebar": "Contents",
   "toc_cell": false,
   "toc_position": {},
   "toc_section_display": true,
   "toc_window_display": true
  }
 },
 "nbformat": 4,
 "nbformat_minor": 2
}
